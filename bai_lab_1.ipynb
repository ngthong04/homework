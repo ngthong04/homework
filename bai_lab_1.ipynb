{
  "nbformat": 4,
  "nbformat_minor": 0,
  "metadata": {
    "colab": {
      "provenance": []
    },
    "kernelspec": {
      "name": "python3",
      "display_name": "Python 3"
    },
    "language_info": {
      "name": "python"
    }
  },
  "cells": [
    {
      "cell_type": "markdown",
      "source": [
        "Bài 1 : Phân loại dữ liệu"
      ],
      "metadata": {
        "id": "ChyMv0-WrjEX"
      }
    },
    {
      "cell_type": "code",
      "execution_count": 7,
      "metadata": {
        "colab": {
          "base_uri": "https://localhost:8080/"
        },
        "id": "nr2oofphrcCc",
        "outputId": "986655be-4777-4112-a647-b0ce752f8c89"
      },
      "outputs": [
        {
          "output_type": "stream",
          "name": "stdout",
          "text": [
            "\n",
            "Dữ liệu định tính:\n",
            "['GT', 'KV', 'KT', 'XL1', 'XL2', 'XL3']\n",
            "\n",
            "Dữ liệu định lượng:\n",
            "['STT', 'T1', 'L1', 'H1', 'S1', 'V1', 'X1', 'D1', 'N1', 'T2', 'L2', 'H2', 'S2', 'V2', 'X2', 'D2', 'N2', 'T3', 'L3', 'H3', 'S3', 'V3', 'X3', 'D3', 'N3', 'T4', 'L4', 'H4', 'S4', 'V4', 'X4', 'D4', 'N4', 'T5', 'L5', 'H5', 'S5', 'V5', 'X5', 'D5', 'N5', 'T6', 'L6', 'H6', 'S6', 'V6', 'X6', 'D6', 'N6', 'DT', 'DH1', 'DH2', 'DH3', 'TBM1', 'TBM2', 'TBM3', 'US_TBM1', 'US_TBM2', 'US_TBM3', 'KQXT']\n"
          ]
        }
      ],
      "source": [
        "import pandas as pd\n",
        "import numpy as np\n",
        "\n",
        "\n",
        "# data = pd.read_csv(file_path)\n",
        "# 1. Tải dữ liệu từ file CSV\n",
        "data = pd.read_csv(\"dulieuxettuyendaihoc.csv\")\n",
        "\n",
        "#1-phân loại dữ liệu\n",
        "print(\"\\nDữ liệu định tính:\")\n",
        "print([col for col in data.columns if data[col].dtype == 'object'])\n",
        "\n",
        "print(\"\\nDữ liệu định lượng:\")\n",
        "print([col for col in data.columns if data[col].dtype != 'object'])\n"
      ]
    },
    {
      "cell_type": "markdown",
      "source": [
        "Bai 2 : định nghĩa thang đo"
      ],
      "metadata": {
        "id": "zJ4KlVlcsTKC"
      }
    },
    {
      "cell_type": "code",
      "source": [
        "print(\"\\nThang đo: Danh sách các biến cần dựa trên dữ liệu đã phân loại.\")\n"
      ],
      "metadata": {
        "colab": {
          "base_uri": "https://localhost:8080/"
        },
        "id": "CjYYuzyysU5b",
        "outputId": "4167791f-e177-46ca-d062-bb376e749013"
      },
      "execution_count": 3,
      "outputs": [
        {
          "output_type": "stream",
          "name": "stdout",
          "text": [
            "\n",
            "Thang đo: Danh sách các biến cần dựa trên dữ liệu đã phân loại.\n"
          ]
        }
      ]
    },
    {
      "cell_type": "markdown",
      "source": [
        "Bài 3 : hiển thị 10 dòng đầu và 10 dòng cuối"
      ],
      "metadata": {
        "id": "dHw1JsWfsgn0"
      }
    },
    {
      "cell_type": "code",
      "source": [
        "print(\"\\n10 dòng đầu:\")\n",
        "print(data.head(10))\n",
        "\n",
        "print(\"\\n10 dòng cuối:\")\n",
        "print(data.tail(10))"
      ],
      "metadata": {
        "colab": {
          "base_uri": "https://localhost:8080/"
        },
        "id": "TKxUHryVslrB",
        "outputId": "a3fb74e0-352a-4722-ecbf-2aa7ea0f1370"
      },
      "execution_count": 8,
      "outputs": [
        {
          "output_type": "stream",
          "name": "stdout",
          "text": [
            "\n",
            "10 dòng đầu:\n",
            "   STT   T1   L1   H1   S1   V1   X1   D1   N1   T2  ...  TBM1  TBM2  TBM3  \\\n",
            "0    1  7.2  7.3  6.3  7.3  7.0  7.9  7.3  5.5  8.4  ...  7.00  7.54  7.01   \n",
            "1    2  5.4  3.9  3.9  4.0  5.4  5.4  5.3  2.8  6.3  ...  4.69  5.47  5.07   \n",
            "2    3  5.6  6.8  7.2  7.5  4.3  7.4  5.8  3.2  5.0  ...  5.77  5.38  6.04   \n",
            "3    4  6.6  6.4  5.3  6.9  5.4  7.3  6.4  5.8  5.1  ...  6.21  5.20  6.88   \n",
            "4    5  6.0  5.0  6.0  7.3  6.5  7.7  7.9  6.1  5.4  ...  6.50  6.36  6.99   \n",
            "5    6  9.3  7.6  7.9  8.6  7.0  7.3  7.7  7.9  9.6  ...  7.96  8.54  7.38   \n",
            "6    7  2.8  3.9  5.5  6.9  5.0  7.3  4.6  5.2  4.4  ...  4.90  5.60  6.01   \n",
            "7    8  8.3  6.0  7.6  5.1  7.5  4.7  5.8  7.2  6.7  ...  6.80  6.87  7.03   \n",
            "8    9  6.5  6.3  7.6  6.0  5.5  7.1  6.3  5.0  7.3  ...  6.23  6.72  7.56   \n",
            "9   10  7.3  5.9  4.7  7.1  6.7  7.9  6.7  7.7  8.0  ...  6.80  7.25  7.03   \n",
            "\n",
            "   XL1  XL2  XL3  US_TBM1  US_TBM2  US_TBM3  KQXT  \n",
            "0    K    K    K    2.800    3.016    2.804   0.0  \n",
            "1    Y   TB   TB    1.876    2.188    2.028   0.0  \n",
            "2   TB   TB   TB    2.308    2.152    2.416   1.0  \n",
            "3   TB   TB    K    2.484    2.080    2.752   0.0  \n",
            "4    K   TB    K    2.600    2.544    2.796   0.0  \n",
            "5    K    G    K    3.184    3.416    2.952   0.0  \n",
            "6    Y   TB   TB    1.960    2.240    2.404   1.0  \n",
            "7    K    K    K    2.720    2.748    2.812   0.0  \n",
            "8   TB    K    K    2.492    2.688    3.024   0.0  \n",
            "9    K    K    K    2.720    2.900    2.812   0.0  \n",
            "\n",
            "[10 rows x 66 columns]\n",
            "\n",
            "10 dòng cuối:\n",
            "    STT   T1   L1   H1   S1   V1   X1   D1   N1   T2  ...  TBM1  TBM2  TBM3  \\\n",
            "90   91  8.1  7.7  9.1  8.5  6.1  8.6  8.8  7.3  8.8  ...  7.84  8.27  8.29   \n",
            "91   92  7.8  6.5  6.7  5.4  6.2  4.8  5.9  4.4  8.9  ...  6.17  6.63  7.65   \n",
            "92   93  5.0  6.6  6.5  7.2  5.8  6.7  6.4  6.0  6.8  ...  6.10  6.53  6.76   \n",
            "93   94  5.2  5.2  6.8  7.9  6.6  8.9  7.6  5.3  6.8  ...  6.53  7.12  6.97   \n",
            "94   95  5.8  5.9  7.6  6.1  5.3  8.1  6.1  5.0  6.4  ...  6.10  6.71  6.68   \n",
            "95   96  8.6  6.9  7.4  8.8  7.6  5.8  7.3  5.7  8.9  ...  7.43  7.42  6.83   \n",
            "96   97  3.7  5.4  6.0  5.1  5.5  3.9  6.1  4.4  4.1  ...  4.93  5.15  6.39   \n",
            "97   98  8.8  5.5  7.4  7.7  6.2  7.3  8.1  4.5  9.5  ...  7.05  7.84  7.67   \n",
            "98   99  2.7  1.8  3.4  5.3  4.5  7.9  4.9  3.8  2.8  ...  4.15  4.72  5.29   \n",
            "99  100  4.1  5.2  4.9  5.3  5.5  5.4  7.2  5.4  4.4  ...  5.26  5.72  5.85   \n",
            "\n",
            "    XL1  XL2  XL3  US_TBM1  US_TBM2  US_TBM3  KQXT  \n",
            "90    K    G    G    3.136    3.308    3.316   1.0  \n",
            "91   TB    K    K    2.468    2.652    3.060   0.0  \n",
            "92   TB    K    K    2.440    2.612    2.704   0.0  \n",
            "93    K    K    K    2.612    2.848    2.788   0.0  \n",
            "94   TB    K    K    2.440    2.684    2.672   0.0  \n",
            "95    K    K    K    2.972    2.968    2.732   0.0  \n",
            "96    Y   TB   TB    1.972    2.060    2.556   0.0  \n",
            "97    K    K    K    2.820    3.136    3.068   1.0  \n",
            "98    Y    Y   TB    1.660    1.888    2.116   0.0  \n",
            "99   TB   TB   TB    2.104    2.288    2.340   0.0  \n",
            "\n",
            "[10 rows x 66 columns]\n"
          ]
        }
      ]
    },
    {
      "cell_type": "markdown",
      "source": [
        "Bai 4"
      ],
      "metadata": {
        "id": "MwMQSM-oswh5"
      }
    },
    {
      "cell_type": "code",
      "source": [
        "import pandas as pd\n",
        "file_path = 'dulieuxettuyendaihoc.csv'\n",
        "data = pd.read_csv(file_path)\n",
        "\n",
        "#bước 1: Kiểm tra xem cột 'Dân Tộc' (DT) có tồn tại trong dữ liệu\n",
        "if 'DT' not in data.columns:\n",
        "    print(\"Cột 'DT' (Dân Tộc) không tồn tại, thêm mới với giá trị mặc định là 0.\")\n",
        "    data['DT'] = 0\n",
        "\n",
        "#bước 2:lập bảng tần số và tần suất khảo sát dữ liệu trong cột 'DT'\n",
        "#kiểm tra dữ liệu thiếu\n",
        "missing_count = data['DT'].isnull().sum()\n",
        "unique_values = data['DT'].unique()\n",
        "print(f\"Số giá trị thiếu trong cột 'DT': {missing_count}\")\n",
        "print(f\"Số lượng giá trị riêng biệt: {len(unique_values)}\")\n",
        "print(\"Các giá trị riêng biệt trong cột 'DT':\", unique_values)\n",
        "\n",
        "#bước 3:thay thế dữ liệu thiếu (nếu có) bằng giá trị 0\n",
        "data['DT'].fillna(0, inplace=True)\n",
        "\n",
        "#bước 4:kiểm tra lại dữ liệu thiếu sau khi thay thế\n",
        "missing_count_after = data['DT'].isnull().sum()\n",
        "print(f\"Số giá trị thiếu sau khi thay thế: {missing_count_after}\")\n",
        "\n",
        "#lưu lại dữ liệu vào file mới để kiểm tra\n",
        "output_file = 'processed_dulieuxettuyendaihoc.csv'\n",
        "data.to_csv(output_file, index=False)\n",
        "print(f\"Dữ liệu sau khi xử lý đã được lưu vào: {output_file}\")\n"
      ],
      "metadata": {
        "colab": {
          "base_uri": "https://localhost:8080/"
        },
        "id": "Mec_OiYssyY1",
        "outputId": "0177100b-99bd-42e7-c52e-7c9cad787a00"
      },
      "execution_count": 6,
      "outputs": [
        {
          "output_type": "stream",
          "name": "stdout",
          "text": [
            "Số giá trị thiếu trong cột 'DT': 0\n",
            "Số lượng giá trị riêng biệt: 3\n",
            "Các giá trị riêng biệt trong cột 'DT': [0. 1. 6.]\n",
            "Số giá trị thiếu sau khi thay thế: 0\n",
            "Dữ liệu sau khi xử lý đã được lưu vào: processed_dulieuxettuyendaihoc.csv\n"
          ]
        },
        {
          "output_type": "stream",
          "name": "stderr",
          "text": [
            "<ipython-input-6-9da537eb4504>:19: FutureWarning: A value is trying to be set on a copy of a DataFrame or Series through chained assignment using an inplace method.\n",
            "The behavior will change in pandas 3.0. This inplace method will never work because the intermediate object on which we are setting values always behaves as a copy.\n",
            "\n",
            "For example, when doing 'df[col].method(value, inplace=True)', try using 'df.method({col: value}, inplace=True)' or df[col] = df[col].method(value) instead, to perform the operation inplace on the original object.\n",
            "\n",
            "\n",
            "  data['DT'].fillna(0, inplace=True)\n"
          ]
        }
      ]
    },
    {
      "cell_type": "markdown",
      "source": [
        "Bai 5"
      ],
      "metadata": {
        "id": "KatVP__4tYcJ"
      }
    },
    {
      "cell_type": "code",
      "source": [
        "import pandas as pd\n",
        "file_path = 'dulieuxettuyendaihoc.csv'\n",
        "data = pd.read_csv(file_path)\n",
        "\n",
        "#kiểm tra sự tồn tại của cột 'T1'\n",
        "if 'T1' not in data.columns:\n",
        "    print(\"Cột 'T1' không tồn tại trong dữ liệu.\")\n",
        "else:\n",
        "    #bước 1:lập bảng tần số và tần suất để khảo sát dữ liệu thiếu\n",
        "    missing_count = data['T1'].isnull().sum()\n",
        "    total_count = len(data)\n",
        "    print(f\"Số lượng giá trị thiếu trong cột 'T1': {missing_count}\")\n",
        "    print(f\"Tần suất giá trị thiếu: {missing_count / total_count * 100:.2f}%\")\n",
        "    unique_values = data['T1'].unique()\n",
        "    print(f\"Các giá trị riêng biệt trong cột 'T1': {unique_values}\")\n",
        "\n",
        "    #bước 2:thay thế dữ liệu thiếu bằng giá trị trung bình (Mean)\n",
        "    mean_value = data['T1'].mean()  # Tính giá trị trung bình\n",
        "    print(f\"Giá trị trung bình của 'T1': {mean_value:.2f}\")\n",
        "    data['T1'].fillna(mean_value, inplace=True)\n",
        "\n",
        "    #kiểm tra lại dữ liệu thiếu sau khi thay thế\n",
        "    missing_count_after = data['T1'].isnull().sum()\n",
        "    print(f\"Số giá trị thiếu sau khi thay thế: {missing_count_after}\")\n",
        "\n",
        "    #lưu lại dữ liệu đã xử lý\n",
        "    output_file = 'processed_dulieuxettuyendaihoc.csv'\n",
        "    data.to_csv(output_file, index=False)\n",
        "    print(f\"Dữ liệu sau khi xử lý đã được lưu vào: {output_file}\")\n"
      ],
      "metadata": {
        "colab": {
          "base_uri": "https://localhost:8080/"
        },
        "id": "BM3lOpZRtaA5",
        "outputId": "37636744-935c-4611-add6-9b96d8d2ed02"
      },
      "execution_count": 9,
      "outputs": [
        {
          "output_type": "stream",
          "name": "stdout",
          "text": [
            "Số lượng giá trị thiếu trong cột 'T1': 0\n",
            "Tần suất giá trị thiếu: 0.00%\n",
            "Các giá trị riêng biệt trong cột 'T1': [7.2 5.4 5.6 6.6 6.  9.3 2.8 8.3 6.5 7.3 5.2 7.9 4.9 7.1 2.5 8.8 8.2 3.9\n",
            " 5.  5.3 2.4 3.6 8.1 6.3 4.5 7.6 2.6 6.4 4.7 3.4 4.4 4.3 7.  6.1 6.9 6.7\n",
            " 5.5 6.2 7.5 3.  5.1 4.6 5.8 4.2 4.8 5.7 5.9 8.4 7.8 8.6 3.7 2.7 4.1]\n",
            "Giá trị trung bình của 'T1': 5.95\n",
            "Số giá trị thiếu sau khi thay thế: 0\n",
            "Dữ liệu sau khi xử lý đã được lưu vào: processed_dulieuxettuyendaihoc.csv\n"
          ]
        },
        {
          "output_type": "stream",
          "name": "stderr",
          "text": [
            "<ipython-input-9-bc683087cb46>:20: FutureWarning: A value is trying to be set on a copy of a DataFrame or Series through chained assignment using an inplace method.\n",
            "The behavior will change in pandas 3.0. This inplace method will never work because the intermediate object on which we are setting values always behaves as a copy.\n",
            "\n",
            "For example, when doing 'df[col].method(value, inplace=True)', try using 'df.method({col: value}, inplace=True)' or df[col] = df[col].method(value) instead, to perform the operation inplace on the original object.\n",
            "\n",
            "\n",
            "  data['T1'].fillna(mean_value, inplace=True)\n"
          ]
        }
      ]
    },
    {
      "cell_type": "markdown",
      "source": [
        "Bai 6 :"
      ],
      "metadata": {
        "id": "jUEqeBMhtl-K"
      }
    },
    {
      "cell_type": "code",
      "source": [
        "import pandas as pd\n",
        "\n",
        "#đọc file dữ liệu đã được xử lý trước đó\n",
        "file_path = \"processed_dulieuxettuyendaihoc.csv\"\n",
        "data = pd.read_csv(file_path)\n",
        "\n",
        "#lấy ds các cột liên quan đến điểm số\n",
        "diem_cols = [col for col in data.columns if col.startswith(('T', 'L', 'H', 'S', 'V', 'X', 'D', 'N'))]\n",
        "\n",
        "#xử lý từng cột điểm số\n",
        "for col in diem_cols:\n",
        "    #thống kê dữ liệu thiếu\n",
        "    missing_count = data[col].isnull().sum()\n",
        "    if missing_count > 0:\n",
        "        print(f\"Số giá trị thiếu trong cột '{col}': {missing_count}\")\n",
        "\n",
        "        #tính giá trị trung bình của cột\n",
        "        mean_value = data[col].mean()\n",
        "        print(f\"Giá trị trung bình của '{col}': {mean_value:.2f}\")\n",
        "\n",
        "        #thay thế dữ liệu thiếu bằng giá trị trung bình\n",
        "        data[col].fillna(mean_value, inplace=True)\n",
        "\n",
        "        #kiểm tra dữ liệu thiếu sau khi thay thế\n",
        "        print(f\"Số giá trị thiếu trong cột '{col}' sau khi thay thế: {data[col].isnull().sum()}\")\n",
        "    else:\n",
        "        print(f\"Cột '{col}' không có giá trị thiếu.\")\n",
        "\n",
        "#lưu dữ liệu đã xử lý ra file\n",
        "output_file = \"processed_dulieuxettuyendaihoc.csv\"\n",
        "data.to_csv(output_file, index=False)\n",
        "print(f\"Dữ liệu đã được lưu vào file: {output_file}\")\n"
      ],
      "metadata": {
        "colab": {
          "base_uri": "https://localhost:8080/"
        },
        "id": "bhcF74XKtn0q",
        "outputId": "ca5e3bac-f86f-4a43-e62c-4adce23a5a8c"
      },
      "execution_count": 10,
      "outputs": [
        {
          "output_type": "stream",
          "name": "stdout",
          "text": [
            "Cột 'STT' không có giá trị thiếu.\n",
            "Cột 'T1' không có giá trị thiếu.\n",
            "Cột 'L1' không có giá trị thiếu.\n",
            "Cột 'H1' không có giá trị thiếu.\n",
            "Cột 'S1' không có giá trị thiếu.\n",
            "Cột 'V1' không có giá trị thiếu.\n",
            "Cột 'X1' không có giá trị thiếu.\n",
            "Cột 'D1' không có giá trị thiếu.\n",
            "Cột 'N1' không có giá trị thiếu.\n",
            "Cột 'T2' không có giá trị thiếu.\n",
            "Cột 'L2' không có giá trị thiếu.\n",
            "Cột 'H2' không có giá trị thiếu.\n",
            "Cột 'S2' không có giá trị thiếu.\n",
            "Cột 'V2' không có giá trị thiếu.\n",
            "Cột 'X2' không có giá trị thiếu.\n",
            "Cột 'D2' không có giá trị thiếu.\n",
            "Cột 'N2' không có giá trị thiếu.\n",
            "Cột 'T3' không có giá trị thiếu.\n",
            "Cột 'L3' không có giá trị thiếu.\n",
            "Cột 'H3' không có giá trị thiếu.\n",
            "Cột 'S3' không có giá trị thiếu.\n",
            "Cột 'V3' không có giá trị thiếu.\n",
            "Cột 'X3' không có giá trị thiếu.\n",
            "Cột 'D3' không có giá trị thiếu.\n",
            "Cột 'N3' không có giá trị thiếu.\n",
            "Cột 'T4' không có giá trị thiếu.\n",
            "Cột 'L4' không có giá trị thiếu.\n",
            "Cột 'H4' không có giá trị thiếu.\n",
            "Cột 'S4' không có giá trị thiếu.\n",
            "Cột 'V4' không có giá trị thiếu.\n",
            "Cột 'X4' không có giá trị thiếu.\n",
            "Cột 'D4' không có giá trị thiếu.\n",
            "Cột 'N4' không có giá trị thiếu.\n",
            "Cột 'T5' không có giá trị thiếu.\n",
            "Cột 'L5' không có giá trị thiếu.\n",
            "Cột 'H5' không có giá trị thiếu.\n",
            "Cột 'S5' không có giá trị thiếu.\n",
            "Cột 'V5' không có giá trị thiếu.\n",
            "Cột 'X5' không có giá trị thiếu.\n",
            "Cột 'D5' không có giá trị thiếu.\n",
            "Cột 'N5' không có giá trị thiếu.\n",
            "Cột 'T6' không có giá trị thiếu.\n",
            "Cột 'L6' không có giá trị thiếu.\n",
            "Cột 'H6' không có giá trị thiếu.\n",
            "Cột 'S6' không có giá trị thiếu.\n",
            "Cột 'V6' không có giá trị thiếu.\n",
            "Cột 'X6' không có giá trị thiếu.\n",
            "Cột 'D6' không có giá trị thiếu.\n",
            "Cột 'N6' không có giá trị thiếu.\n",
            "Cột 'DT' không có giá trị thiếu.\n",
            "Cột 'DH1' không có giá trị thiếu.\n",
            "Cột 'DH2' không có giá trị thiếu.\n",
            "Cột 'DH3' không có giá trị thiếu.\n",
            "Cột 'TBM1' không có giá trị thiếu.\n",
            "Cột 'TBM2' không có giá trị thiếu.\n",
            "Cột 'TBM3' không có giá trị thiếu.\n",
            "Cột 'XL1' không có giá trị thiếu.\n",
            "Cột 'XL2' không có giá trị thiếu.\n",
            "Cột 'XL3' không có giá trị thiếu.\n",
            "Dữ liệu đã được lưu vào file: processed_dulieuxettuyendaihoc.csv\n"
          ]
        }
      ]
    },
    {
      "cell_type": "markdown",
      "source": [
        "Bai 7"
      ],
      "metadata": {
        "id": "0sbRgGf5tz0p"
      }
    },
    {
      "cell_type": "code",
      "source": [
        "#tạo các biến trung bình môn cho từng năm học\n",
        "data['TBM1'] = (data['T1'] * 2 + data['L1'] + data['H1'] + data['S1'] + data['V1'] * 2 + data['X1'] + data['D1'] + data['N1']) / 10\n",
        "data['TBM2'] = (data['T2'] * 2 + data['L2'] + data['H2'] + data['S2'] + data['V2'] * 2 + data['X2'] + data['D2'] + data['N2']) / 10\n",
        "data['TBM3'] = (data['T3'] * 2 + data['L3'] + data['H3'] + data['S3'] + data['V3'] * 2 + data['X3'] + data['D3'] + data['N3']) / 10\n",
        "\n",
        "#hiển thị kết quả sau khi thêm cột\n",
        "print(data[['TBM1', 'TBM2', 'TBM3']].head())\n",
        "\n",
        "#lưu vào file kết quả\n",
        "data.to_csv('processed_dulieuxettuyendaihoc.csv', index=False)\n",
        "print(\"Dữ liệu đã được lưu vào file: processed_dulieuxettuyendaihoc.csv\")"
      ],
      "metadata": {
        "colab": {
          "base_uri": "https://localhost:8080/"
        },
        "id": "JPOV3ftet1Js",
        "outputId": "aee78fbc-987d-4f39-8ef5-33a5e672e920"
      },
      "execution_count": 11,
      "outputs": [
        {
          "output_type": "stream",
          "name": "stdout",
          "text": [
            "   TBM1  TBM2  TBM3\n",
            "0  7.00  7.54  7.06\n",
            "1  4.69  5.47  4.70\n",
            "2  5.77  5.38  4.33\n",
            "3  6.21  5.20  6.03\n",
            "4  6.50  6.36  7.01\n",
            "Dữ liệu đã được lưu vào file: processed_dulieuxettuyendaihoc.csv\n"
          ]
        }
      ]
    },
    {
      "cell_type": "markdown",
      "source": [
        "Bai 8"
      ],
      "metadata": {
        "id": "AMD_kYTduC25"
      }
    },
    {
      "cell_type": "code",
      "source": [
        "import pandas as pd\n",
        "\n",
        "#giả sử dữ liệu đã được tải vào biến data từ file CSV\n",
        "data = pd.read_csv('processed_dulieuxettuyendaihoc.csv')\n",
        "\n",
        "#tạo các biến xếp loại cho từng năm\n",
        "def xep_loai(tbm):\n",
        "    if tbm < 5.0:\n",
        "        return 'Y'  # Yếu\n",
        "    elif tbm >= 5.0 and tbm < 6.5:\n",
        "        return 'TB'  # TB\n",
        "    elif tbm >= 6.5 and tbm < 8.0:\n",
        "        return 'K'  # Khá\n",
        "    elif tbm >= 8.0 and tbm < 9.0:\n",
        "        return 'G'  # Giỏi\n",
        "    elif tbm >= 9.0:\n",
        "        return 'XS'  # XS\n",
        "\n",
        "#áp dụng hàm xếp loại cho các cột TBM1, TBM2, TBM3\n",
        "data['XL1'] = data['TBM1'].apply(xep_loai)\n",
        "data['XL2'] = data['TBM2'].apply(xep_loai)\n",
        "data['XL3'] = data['TBM3'].apply(xep_loai)\n",
        "\n",
        "#lưu lại dữ liệu đã xếp loại vào file CSV mới\n",
        "data.to_csv('processed_dulieuxettuyendaihoc_xep_loai.csv', index=False)\n",
        "\n",
        "#in ra kết quả ví dụ\n",
        "print(data[['TBM1', 'XL1', 'TBM2', 'XL2', 'TBM3', 'XL3']].head())\n"
      ],
      "metadata": {
        "colab": {
          "base_uri": "https://localhost:8080/"
        },
        "id": "PoOlYiqnuD9a",
        "outputId": "25eb87dc-7dd1-4df4-f0b4-128190950098"
      },
      "execution_count": 12,
      "outputs": [
        {
          "output_type": "stream",
          "name": "stdout",
          "text": [
            "   TBM1 XL1  TBM2 XL2  TBM3 XL3\n",
            "0  7.00   K  7.54   K  7.06   K\n",
            "1  4.69   Y  5.47  TB  4.70   Y\n",
            "2  5.77  TB  5.38  TB  4.33   Y\n",
            "3  6.21  TB  5.20  TB  6.03  TB\n",
            "4  6.50   K  6.36  TB  7.01   K\n"
          ]
        }
      ]
    },
    {
      "cell_type": "markdown",
      "source": [
        "Bai 9"
      ],
      "metadata": {
        "id": "dF-UxqTFuLGp"
      }
    },
    {
      "cell_type": "code",
      "source": [
        "#chuyển điểm trung bình từ thang điểm 10 (Việt Nam) sang thang điểm 4 (Mỹ) với phương pháp Min-Max normalization\n",
        "import pandas as pd\n",
        "\n",
        "#đọc dữ liệu từ file\n",
        "file_path = \"processed_dulieuxettuyendaihoc.csv\"\n",
        "data = pd.read_csv(file_path)\n",
        "\n",
        "#xđ các gtri min và max trong cột TBM1, TBM2, TBM3\n",
        "min_value = data[['TBM1', 'TBM2', 'TBM3']].min().min()\n",
        "max_value = data[['TBM1', 'TBM2', 'TBM3']].max().max()\n",
        "\n",
        "#hàm chuẩn hóa điểm\n",
        "def normalize_to_us_scale(value, min_value, max_value):\n",
        "    return ((value - min_value) * 4) / (max_value - min_value)\n",
        "\n",
        "#tạo các cột US_TBM1, US_TBM2, US_TBM3\n",
        "data['US_TBM1'] = data['TBM1'].apply(normalize_to_us_scale, args=(min_value, max_value))\n",
        "data['US_TBM2'] = data['TBM2'].apply(normalize_to_us_scale, args=(min_value, max_value))\n",
        "data['US_TBM3'] = data['TBM3'].apply(normalize_to_us_scale, args=(min_value, max_value))\n",
        "\n",
        "#ghi dữ liệu vào file\n",
        "output_file_path = \"processed_dulieuxettuyendaihoc.csv\"\n",
        "data.to_csv(output_file_path, index=False)\n",
        "\n",
        "print(f\"Dữ liệu sau khi chuẩn hóa đã được lưu vào: {output_file_path}\")\n",
        "print(data[['TBM1', 'US_TBM1', 'TBM2', 'US_TBM2', 'TBM3', 'US_TBM3']].head())"
      ],
      "metadata": {
        "colab": {
          "base_uri": "https://localhost:8080/"
        },
        "id": "sSenzuN0uM6s",
        "outputId": "790fac02-c265-42af-fac7-d1d278b3c105"
      },
      "execution_count": 13,
      "outputs": [
        {
          "output_type": "stream",
          "name": "stdout",
          "text": [
            "Dữ liệu sau khi chuẩn hóa đã được lưu vào: processed_dulieuxettuyendaihoc.csv\n",
            "   TBM1   US_TBM1  TBM2   US_TBM2  TBM3   US_TBM3\n",
            "0  7.00  2.705882  7.54  3.159664  7.06  2.756303\n",
            "1  4.69  0.764706  5.47  1.420168  4.70  0.773109\n",
            "2  5.77  1.672269  5.38  1.344538  4.33  0.462185\n",
            "3  6.21  2.042017  5.20  1.193277  6.03  1.890756\n",
            "4  6.50  2.285714  6.36  2.168067  7.01  2.714286\n"
          ]
        }
      ]
    },
    {
      "cell_type": "markdown",
      "source": [
        "Bai 10"
      ],
      "metadata": {
        "id": "3fxv0xALuUWa"
      }
    },
    {
      "cell_type": "code",
      "source": [
        "import pandas as pd\n",
        "\n",
        "#đọc dữ liệu từ file\n",
        "file_path = \"processed_dulieuxettuyendaihoc.csv\"\n",
        "data = pd.read_csv(file_path)\n",
        "\n",
        "#hàm tính kq xét tuyển\n",
        "def calculate_kqxt(row):\n",
        "    #tính điểm khối A, A1\n",
        "    score_a = (row['DH1'] * 2 + row['DH2'] + row['DH3']) / 4\n",
        "    #tính điểm khối B\n",
        "    score_b = (row['DH1'] + row['DH2'] * 2 + row['DH3']) / 4\n",
        "    #tính điểm các khối khác\n",
        "    score_other = (row['DH1'] + row['DH2'] + row['DH3']) / 3\n",
        "\n",
        "    #ktr kết quả xét tuyển\n",
        "    result = {\n",
        "        \"KQXT_A_A1\": 1 if score_a >= 5.0 else 0,\n",
        "        \"KQXT_B\": 1 if score_b >= 5.0 else 0,\n",
        "        \"KQXT_Other\": 1 if score_other >= 5.0 else 0\n",
        "    }\n",
        "    return result\n",
        "\n",
        "#ad hàm tính kết quả\n",
        "results = data.apply(calculate_kqxt, axis=1)\n",
        "\n",
        "#táchh kq vào các cột tương ứng\n",
        "data['KQXT_A_A1'] = [res['KQXT_A_A1'] for res in results]\n",
        "data['KQXT_B'] = [res['KQXT_B'] for res in results]\n",
        "data['KQXT_Other'] = [res['KQXT_Other'] for res in results]\n",
        "\n",
        "#ghi dữ liệu vào file\n",
        "output_file_path = \"processed_dulieuxettuyendaihoc.csv\"\n",
        "data.to_csv(output_file_path, index=False)\n",
        "\n",
        "#hiển thị kết quả kiểm tra\n",
        "print(f\"Dữ liệu kết quả xét tuyển đã được lưu vào: {output_file_path}\")\n",
        "print(data[['DH1', 'DH2', 'DH3', 'KQXT_A_A1', 'KQXT_B', 'KQXT_Other']].head())"
      ],
      "metadata": {
        "colab": {
          "base_uri": "https://localhost:8080/"
        },
        "id": "sHOMyasDuWA5",
        "outputId": "f3517f6f-8467-49c5-b89b-a757303f7e5e"
      },
      "execution_count": 14,
      "outputs": [
        {
          "output_type": "stream",
          "name": "stdout",
          "text": [
            "Dữ liệu kết quả xét tuyển đã được lưu vào: processed_dulieuxettuyendaihoc.csv\n",
            "    DH1   DH2   DH3  KQXT_A_A1  KQXT_B  KQXT_Other\n",
            "0  3.25  3.25  4.50          0       0           0\n",
            "1  6.00  4.00  3.50          0       0           0\n",
            "2  5.00  6.75  4.00          1       1           1\n",
            "3  4.25  4.25  5.25          0       0           0\n",
            "4  4.25  4.50  5.00          0       0           0\n"
          ]
        }
      ]
    },
    {
      "cell_type": "markdown",
      "source": [
        "Bài 11 : Lưu dữ liệu sau khi xử lý"
      ],
      "metadata": {
        "id": "P5GzrTYNue4L"
      }
    },
    {
      "cell_type": "code",
      "source": [
        "#ghi dữ liệu đã xử lý vào file processed_dulieuxettuyendaihoc.csv\n",
        "output_file_path = \"processed_dulieuxettuyendaihoc.csv\"\n",
        "data.to_csv(output_file_path, index=False)\n",
        "\n",
        "#tb thành công\n",
        "print(f\"Dữ liệu đã được lưu vào file: {output_file_path}\")\n"
      ],
      "metadata": {
        "colab": {
          "base_uri": "https://localhost:8080/"
        },
        "id": "9vynSAFpui2q",
        "outputId": "61540d01-9f33-4b8d-f141-1fb7871227fa"
      },
      "execution_count": 15,
      "outputs": [
        {
          "output_type": "stream",
          "name": "stdout",
          "text": [
            "Dữ liệu đã được lưu vào file: processed_dulieuxettuyendaihoc.csv\n"
          ]
        }
      ]
    }
  ]
}