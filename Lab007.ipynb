{
  "cells": [
    {
      "cell_type": "code",
      "execution_count": 2,
      "metadata": {
        "colab": {
          "base_uri": "https://localhost:8080/",
          "height": 1000
        },
        "id": "Lu0OE6O3wwFj",
        "outputId": "e2911de7-9746-45db-90a2-b806700fa3d2"
      },
      "outputs": [
        {
          "output_type": "stream",
          "name": "stdout",
          "text": [
            "NLTK Downloader\n",
            "---------------------------------------------------------------------------\n",
            "    d) Download   l) List    u) Update   c) Config   h) Help   q) Quit\n",
            "---------------------------------------------------------------------------\n",
            "Downloader> L\n",
            "\n",
            "Packages:\n",
            "  [ ] abc................. Australian Broadcasting Commission 2006\n",
            "  [ ] alpino.............. Alpino Dutch Treebank\n",
            "  [ ] averaged_perceptron_tagger Averaged Perceptron Tagger\n",
            "  [ ] averaged_perceptron_tagger_eng Averaged Perceptron Tagger (JSON)\n",
            "  [ ] averaged_perceptron_tagger_ru Averaged Perceptron Tagger (Russian)\n",
            "  [ ] averaged_perceptron_tagger_rus Averaged Perceptron Tagger (Russian)\n",
            "  [ ] basque_grammars..... Grammars for Basque\n",
            "  [ ] bcp47............... BCP-47 Language Tags\n",
            "  [ ] biocreative_ppi..... BioCreAtIvE (Critical Assessment of Information\n",
            "                           Extraction Systems in Biology)\n",
            "  [ ] bllip_wsj_no_aux.... BLLIP Parser: WSJ Model\n",
            "  [ ] book_grammars....... Grammars from NLTK Book\n",
            "  [ ] brown............... Brown Corpus\n",
            "  [ ] brown_tei........... Brown Corpus (TEI XML Version)\n",
            "  [ ] cess_cat............ CESS-CAT Treebank\n",
            "  [ ] cess_esp............ CESS-ESP Treebank\n",
            "  [ ] chat80.............. Chat-80 Data Files\n",
            "  [ ] city_database....... City Database\n",
            "  [ ] cmudict............. The Carnegie Mellon Pronouncing Dictionary (0.6)\n",
            "  [ ] comparative_sentences Comparative Sentence Dataset\n",
            "Hit Enter to continue: Q\n",
            "\n",
            "---------------------------------------------------------------------------\n",
            "    d) Download   l) List    u) Update   c) Config   h) Help   q) Quit\n",
            "---------------------------------------------------------------------------\n",
            "Downloader> D\n",
            "\n",
            "Download which package (l=list; x=cancel)?\n",
            "  Identifier> L\n",
            "Packages:\n",
            "  [ ] abc................. Australian Broadcasting Commission 2006\n",
            "  [ ] alpino.............. Alpino Dutch Treebank\n",
            "  [ ] averaged_perceptron_tagger Averaged Perceptron Tagger\n",
            "  [ ] averaged_perceptron_tagger_eng Averaged Perceptron Tagger (JSON)\n",
            "  [ ] averaged_perceptron_tagger_ru Averaged Perceptron Tagger (Russian)\n",
            "  [ ] averaged_perceptron_tagger_rus Averaged Perceptron Tagger (Russian)\n",
            "  [ ] basque_grammars..... Grammars for Basque\n",
            "  [ ] bcp47............... BCP-47 Language Tags\n",
            "  [ ] biocreative_ppi..... BioCreAtIvE (Critical Assessment of Information\n",
            "                           Extraction Systems in Biology)\n",
            "  [ ] bllip_wsj_no_aux.... BLLIP Parser: WSJ Model\n",
            "  [ ] book_grammars....... Grammars from NLTK Book\n",
            "  [ ] brown............... Brown Corpus\n",
            "  [ ] brown_tei........... Brown Corpus (TEI XML Version)\n",
            "  [ ] cess_cat............ CESS-CAT Treebank\n",
            "  [ ] cess_esp............ CESS-ESP Treebank\n",
            "  [ ] chat80.............. Chat-80 Data Files\n",
            "  [ ] city_database....... City Database\n",
            "  [ ] cmudict............. The Carnegie Mellon Pronouncing Dictionary (0.6)\n",
            "  [ ] comparative_sentences Comparative Sentence Dataset\n",
            "Hit Enter to continue: \n",
            "  [ ] comtrans............ ComTrans Corpus Sample\n",
            "  [ ] conll2000........... CONLL 2000 Chunking Corpus\n",
            "  [ ] conll2002........... CONLL 2002 Named Entity Recognition Corpus\n",
            "  [ ] conll2007........... Dependency Treebanks from CoNLL 2007 (Catalan\n",
            "                           and Basque Subset)\n",
            "  [ ] crubadan............ Crubadan Corpus\n",
            "  [ ] dependency_treebank. Dependency Parsed Treebank\n",
            "  [ ] dolch............... Dolch Word List\n",
            "  [ ] europarl_raw........ Sample European Parliament Proceedings Parallel\n",
            "                           Corpus\n",
            "  [ ] extended_omw........ Extended Open Multilingual WordNet\n",
            "  [ ] floresta............ Portuguese Treebank\n",
            "  [ ] framenet_v15........ FrameNet 1.5\n",
            "  [ ] framenet_v17........ FrameNet 1.7\n",
            "  [ ] gazetteers.......... Gazeteer Lists\n",
            "  [ ] genesis............. Genesis Corpus\n",
            "  [ ] gutenberg........... Project Gutenberg Selections\n",
            "  [ ] ieer................ NIST IE-ER DATA SAMPLE\n",
            "  [ ] inaugural........... C-Span Inaugural Address Corpus\n",
            "  [ ] indian.............. Indian Language POS-Tagged Corpus\n",
            "  [ ] jeita............... JEITA Public Morphologically Tagged Corpus (in\n",
            "                           ChaSen format)\n",
            "Hit Enter to continue: Q\n",
            "\n",
            "Download which package (l=list; x=cancel)?\n",
            "  Identifier> L\n",
            "Packages:\n",
            "  [ ] abc................. Australian Broadcasting Commission 2006\n",
            "  [ ] alpino.............. Alpino Dutch Treebank\n",
            "  [ ] averaged_perceptron_tagger Averaged Perceptron Tagger\n",
            "  [ ] averaged_perceptron_tagger_eng Averaged Perceptron Tagger (JSON)\n",
            "  [ ] averaged_perceptron_tagger_ru Averaged Perceptron Tagger (Russian)\n",
            "  [ ] averaged_perceptron_tagger_rus Averaged Perceptron Tagger (Russian)\n",
            "  [ ] basque_grammars..... Grammars for Basque\n",
            "  [ ] bcp47............... BCP-47 Language Tags\n",
            "  [ ] biocreative_ppi..... BioCreAtIvE (Critical Assessment of Information\n",
            "                           Extraction Systems in Biology)\n",
            "  [ ] bllip_wsj_no_aux.... BLLIP Parser: WSJ Model\n",
            "  [ ] book_grammars....... Grammars from NLTK Book\n",
            "  [ ] brown............... Brown Corpus\n",
            "  [ ] brown_tei........... Brown Corpus (TEI XML Version)\n",
            "  [ ] cess_cat............ CESS-CAT Treebank\n",
            "  [ ] cess_esp............ CESS-ESP Treebank\n",
            "  [ ] chat80.............. Chat-80 Data Files\n",
            "  [ ] city_database....... City Database\n",
            "  [ ] cmudict............. The Carnegie Mellon Pronouncing Dictionary (0.6)\n",
            "  [ ] comparative_sentences Comparative Sentence Dataset\n",
            "Hit Enter to continue: \n",
            "  [ ] comtrans............ ComTrans Corpus Sample\n",
            "  [ ] conll2000........... CONLL 2000 Chunking Corpus\n",
            "  [ ] conll2002........... CONLL 2002 Named Entity Recognition Corpus\n",
            "  [ ] conll2007........... Dependency Treebanks from CoNLL 2007 (Catalan\n",
            "                           and Basque Subset)\n",
            "  [ ] crubadan............ Crubadan Corpus\n",
            "  [ ] dependency_treebank. Dependency Parsed Treebank\n",
            "  [ ] dolch............... Dolch Word List\n",
            "  [ ] europarl_raw........ Sample European Parliament Proceedings Parallel\n",
            "                           Corpus\n",
            "  [ ] extended_omw........ Extended Open Multilingual WordNet\n",
            "  [ ] floresta............ Portuguese Treebank\n",
            "  [ ] framenet_v15........ FrameNet 1.5\n",
            "  [ ] framenet_v17........ FrameNet 1.7\n",
            "  [ ] gazetteers.......... Gazeteer Lists\n",
            "  [ ] genesis............. Genesis Corpus\n",
            "  [ ] gutenberg........... Project Gutenberg Selections\n",
            "  [ ] ieer................ NIST IE-ER DATA SAMPLE\n",
            "  [ ] inaugural........... C-Span Inaugural Address Corpus\n",
            "  [ ] indian.............. Indian Language POS-Tagged Corpus\n",
            "  [ ] jeita............... JEITA Public Morphologically Tagged Corpus (in\n",
            "                           ChaSen format)\n",
            "Hit Enter to continue: Q\n",
            "\n",
            "Download which package (l=list; x=cancel)?\n",
            "  Identifier> X\n",
            "\n",
            "---------------------------------------------------------------------------\n",
            "    d) Download   l) List    u) Update   c) Config   h) Help   q) Quit\n",
            "---------------------------------------------------------------------------\n"
          ]
        },
        {
          "output_type": "error",
          "ename": "KeyboardInterrupt",
          "evalue": "Interrupted by user",
          "traceback": [
            "\u001b[0;31m---------------------------------------------------------------------------\u001b[0m",
            "\u001b[0;31mKeyboardInterrupt\u001b[0m                         Traceback (most recent call last)",
            "\u001b[0;32m<ipython-input-2-54712317dce4>\u001b[0m in \u001b[0;36m<cell line: 0>\u001b[0;34m()\u001b[0m\n\u001b[1;32m      1\u001b[0m \u001b[0;32mimport\u001b[0m \u001b[0mnltk\u001b[0m\u001b[0;34m\u001b[0m\u001b[0;34m\u001b[0m\u001b[0m\n\u001b[1;32m      2\u001b[0m \u001b[0;34m\u001b[0m\u001b[0m\n\u001b[0;32m----> 3\u001b[0;31m \u001b[0mnltk\u001b[0m\u001b[0;34m.\u001b[0m\u001b[0mdownload_shell\u001b[0m\u001b[0;34m(\u001b[0m\u001b[0;34m)\u001b[0m\u001b[0;34m\u001b[0m\u001b[0;34m\u001b[0m\u001b[0m\n\u001b[0m",
            "\u001b[0;32m/usr/local/lib/python3.11/dist-packages/nltk/downloader.py\u001b[0m in \u001b[0;36mdownload_shell\u001b[0;34m()\u001b[0m\n\u001b[1;32m   2478\u001b[0m \u001b[0;34m\u001b[0m\u001b[0m\n\u001b[1;32m   2479\u001b[0m \u001b[0;32mdef\u001b[0m \u001b[0mdownload_shell\u001b[0m\u001b[0;34m(\u001b[0m\u001b[0;34m)\u001b[0m\u001b[0;34m:\u001b[0m\u001b[0;34m\u001b[0m\u001b[0;34m\u001b[0m\u001b[0m\n\u001b[0;32m-> 2480\u001b[0;31m     \u001b[0mDownloaderShell\u001b[0m\u001b[0;34m(\u001b[0m\u001b[0m_downloader\u001b[0m\u001b[0;34m)\u001b[0m\u001b[0;34m.\u001b[0m\u001b[0mrun\u001b[0m\u001b[0;34m(\u001b[0m\u001b[0;34m)\u001b[0m\u001b[0;34m\u001b[0m\u001b[0;34m\u001b[0m\u001b[0m\n\u001b[0m\u001b[1;32m   2481\u001b[0m \u001b[0;34m\u001b[0m\u001b[0m\n\u001b[1;32m   2482\u001b[0m \u001b[0;34m\u001b[0m\u001b[0m\n",
            "\u001b[0;32m/usr/local/lib/python3.11/dist-packages/nltk/downloader.py\u001b[0m in \u001b[0;36mrun\u001b[0;34m(self)\u001b[0m\n\u001b[1;32m   1136\u001b[0m                 \u001b[0;34m\"q) Quit\"\u001b[0m\u001b[0;34m,\u001b[0m\u001b[0;34m\u001b[0m\u001b[0;34m\u001b[0m\u001b[0m\n\u001b[1;32m   1137\u001b[0m             )\n\u001b[0;32m-> 1138\u001b[0;31m             \u001b[0muser_input\u001b[0m \u001b[0;34m=\u001b[0m \u001b[0minput\u001b[0m\u001b[0;34m(\u001b[0m\u001b[0;34m\"Downloader> \"\u001b[0m\u001b[0;34m)\u001b[0m\u001b[0;34m.\u001b[0m\u001b[0mstrip\u001b[0m\u001b[0;34m(\u001b[0m\u001b[0;34m)\u001b[0m\u001b[0;34m\u001b[0m\u001b[0;34m\u001b[0m\u001b[0m\n\u001b[0m\u001b[1;32m   1139\u001b[0m             \u001b[0;32mif\u001b[0m \u001b[0;32mnot\u001b[0m \u001b[0muser_input\u001b[0m\u001b[0;34m:\u001b[0m\u001b[0;34m\u001b[0m\u001b[0;34m\u001b[0m\u001b[0m\n\u001b[1;32m   1140\u001b[0m                 \u001b[0mprint\u001b[0m\u001b[0;34m(\u001b[0m\u001b[0;34m)\u001b[0m\u001b[0;34m\u001b[0m\u001b[0;34m\u001b[0m\u001b[0m\n",
            "\u001b[0;32m/usr/local/lib/python3.11/dist-packages/ipykernel/kernelbase.py\u001b[0m in \u001b[0;36mraw_input\u001b[0;34m(self, prompt)\u001b[0m\n\u001b[1;32m   1175\u001b[0m                 \u001b[0;34m\"raw_input was called, but this frontend does not support input requests.\"\u001b[0m\u001b[0;34m\u001b[0m\u001b[0;34m\u001b[0m\u001b[0m\n\u001b[1;32m   1176\u001b[0m             )\n\u001b[0;32m-> 1177\u001b[0;31m         return self._input_request(\n\u001b[0m\u001b[1;32m   1178\u001b[0m             \u001b[0mstr\u001b[0m\u001b[0;34m(\u001b[0m\u001b[0mprompt\u001b[0m\u001b[0;34m)\u001b[0m\u001b[0;34m,\u001b[0m\u001b[0;34m\u001b[0m\u001b[0;34m\u001b[0m\u001b[0m\n\u001b[1;32m   1179\u001b[0m             \u001b[0mself\u001b[0m\u001b[0;34m.\u001b[0m\u001b[0m_parent_ident\u001b[0m\u001b[0;34m[\u001b[0m\u001b[0;34m\"shell\"\u001b[0m\u001b[0;34m]\u001b[0m\u001b[0;34m,\u001b[0m\u001b[0;34m\u001b[0m\u001b[0;34m\u001b[0m\u001b[0m\n",
            "\u001b[0;32m/usr/local/lib/python3.11/dist-packages/ipykernel/kernelbase.py\u001b[0m in \u001b[0;36m_input_request\u001b[0;34m(self, prompt, ident, parent, password)\u001b[0m\n\u001b[1;32m   1217\u001b[0m             \u001b[0;32mexcept\u001b[0m \u001b[0mKeyboardInterrupt\u001b[0m\u001b[0;34m:\u001b[0m\u001b[0;34m\u001b[0m\u001b[0;34m\u001b[0m\u001b[0m\n\u001b[1;32m   1218\u001b[0m                 \u001b[0;31m# re-raise KeyboardInterrupt, to truncate traceback\u001b[0m\u001b[0;34m\u001b[0m\u001b[0;34m\u001b[0m\u001b[0m\n\u001b[0;32m-> 1219\u001b[0;31m                 \u001b[0;32mraise\u001b[0m \u001b[0mKeyboardInterrupt\u001b[0m\u001b[0;34m(\u001b[0m\u001b[0;34m\"Interrupted by user\"\u001b[0m\u001b[0;34m)\u001b[0m \u001b[0;32mfrom\u001b[0m \u001b[0;32mNone\u001b[0m\u001b[0;34m\u001b[0m\u001b[0;34m\u001b[0m\u001b[0m\n\u001b[0m\u001b[1;32m   1220\u001b[0m             \u001b[0;32mexcept\u001b[0m \u001b[0mException\u001b[0m\u001b[0;34m:\u001b[0m\u001b[0;34m\u001b[0m\u001b[0;34m\u001b[0m\u001b[0m\n\u001b[1;32m   1221\u001b[0m                 \u001b[0mself\u001b[0m\u001b[0;34m.\u001b[0m\u001b[0mlog\u001b[0m\u001b[0;34m.\u001b[0m\u001b[0mwarning\u001b[0m\u001b[0;34m(\u001b[0m\u001b[0;34m\"Invalid Message:\"\u001b[0m\u001b[0;34m,\u001b[0m \u001b[0mexc_info\u001b[0m\u001b[0;34m=\u001b[0m\u001b[0;32mTrue\u001b[0m\u001b[0;34m)\u001b[0m\u001b[0;34m\u001b[0m\u001b[0;34m\u001b[0m\u001b[0m\n",
            "\u001b[0;31mKeyboardInterrupt\u001b[0m: Interrupted by user"
          ]
        }
      ],
      "source": [
        "import nltk\n",
        "\n",
        "nltk.download_shell()"
      ]
    },
    {
      "cell_type": "code",
      "execution_count": 3,
      "metadata": {
        "colab": {
          "base_uri": "https://localhost:8080/"
        },
        "id": "8NlC-eD_wwFk",
        "outputId": "33245a8e-df70-4650-a41a-5609a2d7db6e"
      },
      "outputs": [
        {
          "output_type": "stream",
          "name": "stderr",
          "text": [
            "[nltk_data] Downloading package gutenberg to /root/nltk_data...\n",
            "[nltk_data]   Unzipping corpora/gutenberg.zip.\n"
          ]
        },
        {
          "output_type": "execute_result",
          "data": {
            "text/plain": [
              "True"
            ]
          },
          "metadata": {},
          "execution_count": 3
        }
      ],
      "source": [
        "nltk.download('gutenberg')"
      ]
    },
    {
      "cell_type": "code",
      "execution_count": 4,
      "metadata": {
        "colab": {
          "base_uri": "https://localhost:8080/"
        },
        "id": "Gew0c-6HwwFk",
        "outputId": "1b13a64a-fbfc-4962-82d3-b3dcd8686362"
      },
      "outputs": [
        {
          "output_type": "stream",
          "name": "stdout",
          "text": [
            "Gutenberg files :  ['austen-emma.txt', 'austen-persuasion.txt', 'austen-sense.txt', 'bible-kjv.txt', 'blake-poems.txt', 'bryant-stories.txt', 'burgess-busterbrown.txt', 'carroll-alice.txt', 'chesterton-ball.txt', 'chesterton-brown.txt', 'chesterton-thursday.txt', 'edgeworth-parents.txt', 'melville-moby_dick.txt', 'milton-paradise.txt', 'shakespeare-caesar.txt', 'shakespeare-hamlet.txt', 'shakespeare-macbeth.txt', 'whitman-leaves.txt']\n"
          ]
        }
      ],
      "source": [
        "gb = nltk.corpus.gutenberg\n",
        "print(\"Gutenberg files : \", gb.fileids())"
      ]
    },
    {
      "cell_type": "code",
      "execution_count": 5,
      "metadata": {
        "id": "EczV3T3awwFl"
      },
      "outputs": [],
      "source": [
        "macbeth = nltk.corpus.gutenberg.words('shakespeare-macbeth.txt')"
      ]
    },
    {
      "cell_type": "code",
      "execution_count": null,
      "metadata": {
        "id": "ip4cMjaywwFl",
        "outputId": "4ae95dcc-c40c-44c2-f989-e2cf5ca34b0f"
      },
      "outputs": [
        {
          "data": {
            "text/plain": [
              "23140"
            ]
          },
          "execution_count": 5,
          "metadata": {},
          "output_type": "execute_result"
        }
      ],
      "source": [
        "len(macbeth)\n"
      ]
    },
    {
      "cell_type": "code",
      "execution_count": 6,
      "metadata": {
        "colab": {
          "base_uri": "https://localhost:8080/"
        },
        "id": "InjBGQM0wwFl",
        "outputId": "30906659-746a-45ab-cb5e-319177e61f2f"
      },
      "outputs": [
        {
          "output_type": "execute_result",
          "data": {
            "text/plain": [
              "['[',\n",
              " 'The',\n",
              " 'Tragedie',\n",
              " 'of',\n",
              " 'Macbeth',\n",
              " 'by',\n",
              " 'William',\n",
              " 'Shakespeare',\n",
              " '1603',\n",
              " ']']"
            ]
          },
          "metadata": {},
          "execution_count": 6
        }
      ],
      "source": [
        "macbeth [:10]\n"
      ]
    },
    {
      "cell_type": "code",
      "execution_count": 7,
      "metadata": {
        "colab": {
          "base_uri": "https://localhost:8080/"
        },
        "id": "Yee8TtL4wwFl",
        "outputId": "0ab35e98-4d2e-468a-9bc2-e2e99f66c41d"
      },
      "outputs": [
        {
          "output_type": "stream",
          "name": "stderr",
          "text": [
            "[nltk_data] Downloading package punkt_tab to /root/nltk_data...\n",
            "[nltk_data]   Unzipping tokenizers/punkt_tab.zip.\n"
          ]
        },
        {
          "output_type": "execute_result",
          "data": {
            "text/plain": [
              "True"
            ]
          },
          "metadata": {},
          "execution_count": 7
        }
      ],
      "source": [
        "nltk.download('punkt_tab')"
      ]
    },
    {
      "cell_type": "code",
      "execution_count": 8,
      "metadata": {
        "colab": {
          "base_uri": "https://localhost:8080/"
        },
        "id": "pav3l-O7wwFl",
        "outputId": "eeccd30e-5a94-47f3-9f29-ed2cec696a7c"
      },
      "outputs": [
        {
          "output_type": "execute_result",
          "data": {
            "text/plain": [
              "[['[',\n",
              "  'The',\n",
              "  'Tragedie',\n",
              "  'of',\n",
              "  'Macbeth',\n",
              "  'by',\n",
              "  'William',\n",
              "  'Shakespeare',\n",
              "  '1603',\n",
              "  ']'],\n",
              " ['Actus', 'Primus', '.'],\n",
              " ['Scoena', 'Prima', '.'],\n",
              " ['Thunder', 'and', 'Lightning', '.'],\n",
              " ['Enter', 'three', 'Witches', '.']]"
            ]
          },
          "metadata": {},
          "execution_count": 8
        }
      ],
      "source": [
        "macbeth_sents = nltk.corpus.gutenberg.sents('shakespeare-macbeth.txt')\n",
        "macbeth_sents[:5]"
      ]
    },
    {
      "cell_type": "code",
      "execution_count": 9,
      "metadata": {
        "colab": {
          "base_uri": "https://localhost:8080/"
        },
        "id": "Cv831hQAwwFl",
        "outputId": "01f8f78c-7e42-43bc-da68-6d680fadb53b"
      },
      "outputs": [
        {
          "output_type": "stream",
          "name": "stdout",
          "text": [
            "Displaying 3 of 3 matches:\n",
            "nts with Dishes and Seruice ouer the Stage . Then enter Macbeth Macb . If it we\n",
            "with mans Act , Threatens his bloody Stage : byth ' Clock ' tis Day , And yet d\n",
            " struts and frets his houre vpon the Stage , And then is heard no more . It is \n"
          ]
        }
      ],
      "source": [
        "text = nltk.Text(macbeth)\n",
        "text.concordance('Stage')"
      ]
    },
    {
      "cell_type": "code",
      "execution_count": 10,
      "metadata": {
        "colab": {
          "base_uri": "https://localhost:8080/"
        },
        "id": "A5fvNMozwwFl",
        "outputId": "3f9bfb7b-dbce-4124-a11d-46fd698311ea"
      },
      "outputs": [
        {
          "output_type": "stream",
          "name": "stdout",
          "text": [
            "the_. bloody_: the_,\n"
          ]
        }
      ],
      "source": [
        "text.common_contexts(['Stage'])"
      ]
    },
    {
      "cell_type": "code",
      "execution_count": 11,
      "metadata": {
        "colab": {
          "base_uri": "https://localhost:8080/"
        },
        "id": "GyEqXhAjwwFl",
        "outputId": "dd6e1b45-a0f3-42fd-be8e-0b953e22c6f3"
      },
      "outputs": [
        {
          "output_type": "stream",
          "name": "stdout",
          "text": [
            "day time face warre ayre king bleeding man reuolt serieant like\n",
            "knowledge broyle shew head spring heeles hare thane skie\n"
          ]
        }
      ],
      "source": [
        "text.similar('Stage')"
      ]
    },
    {
      "cell_type": "code",
      "execution_count": 12,
      "metadata": {
        "colab": {
          "base_uri": "https://localhost:8080/"
        },
        "id": "eQ7ZwAmFwwFl",
        "outputId": "3cc9a4a4-2702-4c97-efbd-1df4f3752c8f"
      },
      "outputs": [
        {
          "output_type": "execute_result",
          "data": {
            "text/plain": [
              "[(',', 1962),\n",
              " ('.', 1235),\n",
              " (\"'\", 637),\n",
              " ('the', 531),\n",
              " (':', 477),\n",
              " ('and', 376),\n",
              " ('I', 333),\n",
              " ('of', 315),\n",
              " ('to', 311),\n",
              " ('?', 241)]"
            ]
          },
          "metadata": {},
          "execution_count": 12
        }
      ],
      "source": [
        "fd = nltk.FreqDist(macbeth)\n",
        "fd.most_common(10)"
      ]
    },
    {
      "cell_type": "code",
      "execution_count": 13,
      "metadata": {
        "colab": {
          "base_uri": "https://localhost:8080/"
        },
        "id": "ettMEzKPwwFm",
        "outputId": "941cdea2-2101-486e-d8f9-9adbd3b5d335"
      },
      "outputs": [
        {
          "output_type": "stream",
          "name": "stderr",
          "text": [
            "[nltk_data] Downloading package stopwords to /root/nltk_data...\n",
            "[nltk_data]   Unzipping corpora/stopwords.zip.\n"
          ]
        },
        {
          "output_type": "execute_result",
          "data": {
            "text/plain": [
              "True"
            ]
          },
          "metadata": {},
          "execution_count": 13
        }
      ],
      "source": [
        "nltk.download('stopwords')"
      ]
    },
    {
      "cell_type": "code",
      "execution_count": 14,
      "metadata": {
        "colab": {
          "base_uri": "https://localhost:8080/"
        },
        "id": "iRFZ7kTMwwFm",
        "outputId": "e92fbbc6-89da-433a-f6c2-10f18a4bb8c0"
      },
      "outputs": [
        {
          "output_type": "stream",
          "name": "stdout",
          "text": [
            "198\n"
          ]
        },
        {
          "output_type": "execute_result",
          "data": {
            "text/plain": [
              "['don', 'on', 'than', 'whom', 'nor', 'wasn', 'in', 'theirs', 'with', 'very']"
            ]
          },
          "metadata": {},
          "execution_count": 14
        }
      ],
      "source": [
        "sw = set(nltk.corpus.stopwords.words('english'))\n",
        "print(len(sw))\n",
        "list(sw)[:10]"
      ]
    },
    {
      "cell_type": "code",
      "execution_count": 15,
      "metadata": {
        "colab": {
          "base_uri": "https://localhost:8080/"
        },
        "id": "VPTRvVGFwwFm",
        "outputId": "5da318a4-4f4d-45cc-beab-75b0088b5063"
      },
      "outputs": [
        {
          "output_type": "execute_result",
          "data": {
            "text/plain": [
              "14946"
            ]
          },
          "metadata": {},
          "execution_count": 15
        }
      ],
      "source": [
        "macbeth_filtered = [w for w in macbeth if w.lower() not in sw]\n",
        "len(macbeth_filtered)"
      ]
    },
    {
      "cell_type": "code",
      "execution_count": 16,
      "metadata": {
        "colab": {
          "base_uri": "https://localhost:8080/"
        },
        "id": "3Lh44Mf9wwFm",
        "outputId": "c428a663-1d6b-41fc-8adf-dcfe0e6dbe6c"
      },
      "outputs": [
        {
          "output_type": "execute_result",
          "data": {
            "text/plain": [
              "[(',', 1962),\n",
              " ('.', 1235),\n",
              " (\"'\", 637),\n",
              " (':', 477),\n",
              " ('?', 241),\n",
              " ('Macb', 137),\n",
              " ('haue', 117),\n",
              " ('-', 100),\n",
              " ('Enter', 80),\n",
              " ('thou', 63)]"
            ]
          },
          "metadata": {},
          "execution_count": 16
        }
      ],
      "source": [
        "fd = nltk.FreqDist(macbeth_filtered)\n",
        "fd.most_common(10)"
      ]
    },
    {
      "cell_type": "code",
      "execution_count": 17,
      "metadata": {
        "colab": {
          "base_uri": "https://localhost:8080/"
        },
        "id": "f6l_51i3wwFm",
        "outputId": "aa97a400-a8d3-4b8b-920b-33b5591b9b70"
      },
      "outputs": [
        {
          "output_type": "execute_result",
          "data": {
            "text/plain": [
              "[('macb', 137),\n",
              " ('haue', 122),\n",
              " ('thou', 90),\n",
              " ('enter', 81),\n",
              " ('shall', 68),\n",
              " ('macbeth', 62),\n",
              " ('vpon', 62),\n",
              " ('thee', 61),\n",
              " ('macd', 58),\n",
              " ('vs', 57)]"
            ]
          },
          "metadata": {},
          "execution_count": 17
        }
      ],
      "source": [
        "import string\n",
        "punctuation = set(string.punctuation)\n",
        "macbeth_filtered2 = [w.lower() for w in macbeth if w.lower() not in sw and w.lower() not in punctuation]\n",
        "fd = nltk.FreqDist(macbeth_filtered2)\n",
        "fd.most_common(10)"
      ]
    },
    {
      "cell_type": "code",
      "execution_count": 18,
      "metadata": {
        "colab": {
          "base_uri": "https://localhost:8080/"
        },
        "id": "piJ9CQ4DwwFm",
        "outputId": "460abdf7-9a30-44f1-afbf-210421849fcc"
      },
      "outputs": [
        {
          "output_type": "execute_result",
          "data": {
            "text/plain": [
              "['Assassination',\n",
              " 'Chamberlaines',\n",
              " 'Distinguishes',\n",
              " 'Gallowgrosses',\n",
              " 'Metaphysicall',\n",
              " 'Northumberland',\n",
              " 'Voluptuousnesse',\n",
              " 'commendations',\n",
              " 'multitudinous',\n",
              " 'supernaturall',\n",
              " 'vnaccompanied']"
            ]
          },
          "metadata": {},
          "execution_count": 18
        }
      ],
      "source": [
        "long_words = [w for w in macbeth if len(w)> 12]\n",
        "sorted(long_words)"
      ]
    },
    {
      "cell_type": "code",
      "execution_count": 19,
      "metadata": {
        "colab": {
          "base_uri": "https://localhost:8080/"
        },
        "id": "-8FAOF84wwFm",
        "outputId": "197c520e-dd9f-49ce-af31-5f783cf89284"
      },
      "outputs": [
        {
          "output_type": "execute_result",
          "data": {
            "text/plain": [
              "['Auaricious',\n",
              " 'Gracious',\n",
              " 'Industrious',\n",
              " 'Iudicious',\n",
              " 'Luxurious',\n",
              " 'Malicious',\n",
              " 'Obliuious',\n",
              " 'Pious',\n",
              " 'Rebellious',\n",
              " 'compunctious',\n",
              " 'furious',\n",
              " 'gracious',\n",
              " 'pernicious',\n",
              " 'pernitious',\n",
              " 'pious',\n",
              " 'precious',\n",
              " 'rebellious',\n",
              " 'sacrilegious',\n",
              " 'serious',\n",
              " 'spacious',\n",
              " 'tedious']"
            ]
          },
          "metadata": {},
          "execution_count": 19
        }
      ],
      "source": [
        "ious_words = [w for w in macbeth if 'ious' in w]\n",
        "ious_words = set(ious_words)\n",
        "sorted(ious_words)"
      ]
    },
    {
      "cell_type": "code",
      "execution_count": 20,
      "metadata": {
        "colab": {
          "base_uri": "https://localhost:8080/"
        },
        "id": "iS0K8bBxwwFm",
        "outputId": "8935c24d-83b0-4f89-b88f-9b8c57bbafa9"
      },
      "outputs": [
        {
          "output_type": "execute_result",
          "data": {
            "text/plain": [
              "[(('enter', 'macbeth'), 16),\n",
              " (('exeunt', 'scena'), 15),\n",
              " (('thane', 'cawdor'), 13),\n",
              " (('knock', 'knock'), 10),\n",
              " (('st', 'thou'), 9),\n",
              " (('thou', 'art'), 9),\n",
              " (('lord', 'macb'), 9),\n",
              " (('haue', 'done'), 8),\n",
              " (('macb', 'haue'), 8),\n",
              " (('good', 'lord'), 8),\n",
              " (('let', 'vs'), 7),\n",
              " (('enter', 'lady'), 7),\n",
              " (('wee', 'l'), 7),\n",
              " (('would', 'st'), 6),\n",
              " (('macbeth', 'macb'), 6)]"
            ]
          },
          "metadata": {},
          "execution_count": 20
        }
      ],
      "source": [
        "bgrms = nltk.FreqDist(nltk.bigrams(macbeth_filtered2))\n",
        "bgrms.most_common(15)"
      ]
    },
    {
      "cell_type": "code",
      "execution_count": 21,
      "metadata": {
        "colab": {
          "base_uri": "https://localhost:8080/"
        },
        "id": "vDPLBcCzwwFm",
        "outputId": "dfac2ef5-fe49-434d-ebf0-38f352c38555"
      },
      "outputs": [
        {
          "output_type": "execute_result",
          "data": {
            "text/plain": [
              "[(('knock', 'knock', 'knock'), 6),\n",
              " (('enter', 'macbeth', 'macb'), 5),\n",
              " (('enter', 'three', 'witches'), 4),\n",
              " (('exeunt', 'scena', 'secunda'), 4),\n",
              " (('good', 'lord', 'macb'), 4),\n",
              " (('three', 'witches', '1'), 3),\n",
              " (('exeunt', 'scena', 'tertia'), 3),\n",
              " (('thunder', 'enter', 'three'), 3),\n",
              " (('exeunt', 'scena', 'quarta'), 3),\n",
              " (('scena', 'prima', 'enter'), 3)]"
            ]
          },
          "metadata": {},
          "execution_count": 21
        }
      ],
      "source": [
        "tgrms = nltk.FreqDist(nltk.trigrams (macbeth_filtered2))\n",
        "tgrms.most_common(10)"
      ]
    },
    {
      "cell_type": "code",
      "execution_count": 22,
      "metadata": {
        "colab": {
          "base_uri": "https://localhost:8080/",
          "height": 35
        },
        "id": "V-TxRqp1wwFm",
        "outputId": "a43a6154-c371-4244-df39-64a93b1e8d5f"
      },
      "outputs": [
        {
          "output_type": "execute_result",
          "data": {
            "text/plain": [
              "'*** START OF THE PROJECT GUTENBERG EBOOK 2554 ***\\n\\n\\n\\n\\nCRIME AND PUNISHMENT\\n'"
            ],
            "application/vnd.google.colaboratory.intrinsic+json": {
              "type": "string"
            }
          },
          "metadata": {},
          "execution_count": 22
        }
      ],
      "source": [
        "from urllib import request\n",
        "url = \"http://www.gutenberg.org/files/2554/2554-0.txt\"\n",
        "response = request.urlopen(url)\n",
        "raw = response.read().decode('utf8')\n",
        "raw[:75]"
      ]
    },
    {
      "cell_type": "code",
      "execution_count": 23,
      "metadata": {
        "colab": {
          "base_uri": "https://localhost:8080/"
        },
        "id": "Xq8VACHXwwFm",
        "outputId": "7f91bf67-32fa-46ce-c5c4-3ed4a20356e5"
      },
      "outputs": [
        {
          "output_type": "stream",
          "name": "stdout",
          "text": [
            "*** START OF THE PROJECT GUTENBERG EBOOK 2554 ***\n",
            "\n",
            "\n",
            "\n",
            "\n",
            "CRIME AND PUNISHMENT\n",
            "\n"
          ]
        }
      ],
      "source": [
        "from urllib import request\n",
        "\n",
        "url = \"http://www.gutenberg.org/files/2554/2554-0.txt\"\n",
        "response = request.urlopen(url)\n",
        "\n",
        "# Đọc nội dung và giải mã từ byte thành chuỗi UTF-8 (sử dụng utf-8 thay vì utf8-sig)\n",
        "raw = response.read().decode('utf-8')\n",
        "\n",
        "# Hiển thị 75 ký tự đầu tiên của văn bản\n",
        "print(raw[:75])\n",
        "\n"
      ]
    },
    {
      "cell_type": "code",
      "execution_count": 24,
      "metadata": {
        "colab": {
          "base_uri": "https://localhost:8080/"
        },
        "id": "Ow6-diLKwwFm",
        "outputId": "badc67ba-6f58-4341-efd7-8421a11bf7e4"
      },
      "outputs": [
        {
          "output_type": "execute_result",
          "data": {
            "text/plain": [
              "['*',\n",
              " '*',\n",
              " '*',\n",
              " 'START',\n",
              " 'OF',\n",
              " 'THE',\n",
              " 'PROJECT',\n",
              " 'GUTENBERG',\n",
              " 'EBOOK',\n",
              " '2554',\n",
              " '*',\n",
              " '*']"
            ]
          },
          "metadata": {},
          "execution_count": 24
        }
      ],
      "source": [
        "tokens = nltk.word_tokenize (raw)\n",
        "webtext = nltk.Text (tokens)\n",
        "webtext[:12]"
      ]
    },
    {
      "cell_type": "code",
      "execution_count": 25,
      "metadata": {
        "colab": {
          "base_uri": "https://localhost:8080/",
          "height": 35
        },
        "id": "1RFB7i7ywwFm",
        "outputId": "1af62776-c63a-489d-b5cd-4557d5fd5161"
      },
      "outputs": [
        {
          "output_type": "execute_result",
          "data": {
            "text/plain": [
              "'<!doctype html public \"-//W3C//DTD HTML 4.0 Transitional//EN\" \"http://www.w3.org/TR/REC-html40/loose.dtd\">\\r\\n<html>\\r\\n<hea'"
            ],
            "application/vnd.google.colaboratory.intrinsic+json": {
              "type": "string"
            }
          },
          "metadata": {},
          "execution_count": 25
        }
      ],
      "source": [
        "url = \"http://news.bbc.co.uk/2/hi/health/2284783.stm\"\n",
        "html = request.urlopen(url).read().decode('utf8')\n",
        "html[:120]"
      ]
    },
    {
      "cell_type": "code",
      "execution_count": 34,
      "metadata": {
        "id": "3XqPnF68wwFm"
      },
      "outputs": [],
      "source": [
        "from bs4 import BeautifulSoup\n",
        "raw = BeautifulSoup(html, \"lxml\").get_text()\n",
        "tokens = nltk.word_tokenize(raw)\n",
        "text = nltk.Text(tokens)\n"
      ]
    },
    {
      "cell_type": "code",
      "execution_count": 35,
      "metadata": {
        "colab": {
          "base_uri": "https://localhost:8080/"
        },
        "id": "kRGdVx_mwwFn",
        "outputId": "14299c4d-0070-4020-be42-8a593d60bf4b"
      },
      "outputs": [
        {
          "output_type": "stream",
          "name": "stderr",
          "text": [
            "[nltk_data] Downloading package movie_reviews to /root/nltk_data...\n",
            "[nltk_data]   Unzipping corpora/movie_reviews.zip.\n"
          ]
        },
        {
          "output_type": "execute_result",
          "data": {
            "text/plain": [
              "True"
            ]
          },
          "metadata": {},
          "execution_count": 35
        }
      ],
      "source": [
        "nltk.download('movie_reviews')\n"
      ]
    },
    {
      "cell_type": "code",
      "execution_count": 38,
      "metadata": {
        "colab": {
          "base_uri": "https://localhost:8080/"
        },
        "id": "Xf9BhVyUwwFn",
        "outputId": "2e1beb75-7326-4023-9d95-abc0bb73cb3a"
      },
      "outputs": [
        {
          "output_type": "stream",
          "name": "stdout",
          "text": [
            "the swooping shots across darkened rooftops suggest a very tim burton movie , but , alas , no caped crusader descends to save * this * film . instead , it ' s a skeletal housemaid ( julia roberts ) who must bear witness to this unfortunate retelling of \" dr . jekyll and mr . hyde . \" for a few , fleeting , maddening moments , director stephen frears ( dangerous liaisons ) gets everything just right -- the tone , the colors , the characters ; all the ingredients to make a most - powerful potion out of valerie martin ' s best - selling novel . yet it fizzles too quickly ; the volatile mixture losing potency from the very first scene . casting is a large part of the problem . the story all but collap - ses around ms . roberts -- she doesn ' t have the range for this kind of drama . her accent also comes and goes , though it ' s nowhere near as glaring as the total lack of chemistry between her and co - star john malkovich . ( he looks the same in both of his roles -- an incredible fact that ' s missed by everyone in the story ! ) the very british supporting cast -- including michael gambon and george cole -- gives credibility to the smaller parts . glenn close also appears as a madam that the good doctor calls upon . her performance is as close to intentional camp as the movie ever gets and -- as a bonus -- offers a likely peek at her upcoming cruella de ville in the live - action 101 dalmantions . the biggest botch in mary reilly is suspense : there is none . no terror , no tension ; nothing . without any weight , wit , or wonder to propel the story , the viewer is left with little more to do than pay attention to the period detail , a few buckets of blood , and stuart craig ' s fabulously dreary production design . all of which gets old after about an hour , at which point i recommend leaving . ( the pacing in the second - half is especially abominable . if you * do * stick it through , your sole reward is a half - hokey special effect depicting the infamous transformation . ) mr . frears reportedly recut his film several times , missing several release dates in the process . ( obviously , no one advised him to throw up his hands and just turn the whole damned thing over to mel brooks . blucher ! ) mary reilly is the second robert louis stevenson story of the month , after muppet treasure island . perhaps mr . frears should consult with brian henson on future projects . i daresay that even ms . piggy is a better choice for a certain roles than julia roberts . and she does have a great chop !\n"
          ]
        }
      ],
      "source": [
        "import random\n",
        "reviews = nltk.corpus.movie_reviews\n",
        "documents = [(list(reviews.words(fileid)), category)\n",
        "for category in reviews.categories()\n",
        "for fileid in reviews.fileids(category)]\n",
        "random.shuffle(documents)\n",
        "first_review = ' '.join(documents[0][0])\n",
        "print(first_review)"
      ]
    },
    {
      "cell_type": "code",
      "execution_count": 39,
      "metadata": {
        "colab": {
          "base_uri": "https://localhost:8080/",
          "height": 35
        },
        "id": "XVSdB-3UwwFn",
        "outputId": "51150dd3-3202-441d-c20a-04655aac4ea1"
      },
      "outputs": [
        {
          "output_type": "execute_result",
          "data": {
            "text/plain": [
              "'neg'"
            ],
            "application/vnd.google.colaboratory.intrinsic+json": {
              "type": "string"
            }
          },
          "metadata": {},
          "execution_count": 39
        }
      ],
      "source": [
        "documents[0][1]\n"
      ]
    },
    {
      "cell_type": "code",
      "execution_count": 40,
      "metadata": {
        "id": "hrNUS6NfwwFn"
      },
      "outputs": [],
      "source": [
        "all_words = nltk.FreqDist(w.lower() for w in reviews.words())\n",
        "word_features = list(all_words)\n"
      ]
    },
    {
      "cell_type": "code",
      "source": [
        "def document_features(document, word_features):\n",
        " document_words = set(document)\n",
        " features = {}\n",
        " for word in word_features:\n",
        "    features['{}'.format(word)] = (word in document_words)\n",
        " return features\n"
      ],
      "metadata": {
        "id": "aQNLagp4zolV"
      },
      "execution_count": 44,
      "outputs": []
    },
    {
      "cell_type": "code",
      "source": [
        "featuresets = [(document_features(d,word_features), c) for (d,c) in documents]\n",
        "len(featuresets)"
      ],
      "metadata": {
        "colab": {
          "base_uri": "https://localhost:8080/"
        },
        "id": "XswWlNmgzojF",
        "outputId": "28711f84-643c-4077-a4a5-c3479576747e"
      },
      "execution_count": 45,
      "outputs": [
        {
          "output_type": "execute_result",
          "data": {
            "text/plain": [
              "2000"
            ]
          },
          "metadata": {},
          "execution_count": 45
        }
      ]
    },
    {
      "cell_type": "code",
      "source": [
        "train_set, test_set = featuresets[1500:], featuresets[:500]\n",
        "classifier = nltk.NaiveBayesClassifier.train(train_set)\n",
        "train_set, est_set = featuresets[1500:], featuresets[:500]\n",
        "classifier = nltk.NaiveBayesClassifier.train(train_set)\n",
        "print(nltk.classify.accuracy(classifier, test_set))"
      ],
      "metadata": {
        "colab": {
          "base_uri": "https://localhost:8080/"
        },
        "id": "IBkeycSizogl",
        "outputId": "8edab623-dbda-43da-c273-d15b412f100c"
      },
      "execution_count": 47,
      "outputs": [
        {
          "output_type": "stream",
          "name": "stdout",
          "text": [
            "0.774\n"
          ]
        }
      ]
    },
    {
      "cell_type": "code",
      "source": [
        "classifier.show_most_informative_features(10)"
      ],
      "metadata": {
        "colab": {
          "base_uri": "https://localhost:8080/"
        },
        "id": "hBq_8e1Czod1",
        "outputId": "097aedb5-3b11-4e74-bbcc-d213931aee5e"
      },
      "execution_count": 48,
      "outputs": [
        {
          "output_type": "stream",
          "name": "stdout",
          "text": [
            "Most Informative Features\n",
            "                  wasted = True              neg : pos    =     16.9 : 1.0\n",
            "             wonderfully = True              pos : neg    =     14.4 : 1.0\n",
            "               fantastic = True              pos : neg    =     12.4 : 1.0\n",
            "                  poorly = True              neg : pos    =     12.2 : 1.0\n",
            "                   awful = True              neg : pos    =      9.8 : 1.0\n",
            "                contrast = True              pos : neg    =      9.7 : 1.0\n",
            "                 journey = True              pos : neg    =      9.7 : 1.0\n",
            "                flawless = True              pos : neg    =      9.1 : 1.0\n",
            "                  loving = True              pos : neg    =      9.1 : 1.0\n",
            "                   inept = True              neg : pos    =      8.9 : 1.0\n"
          ]
        }
      ]
    },
    {
      "cell_type": "markdown",
      "source": [
        "Bai 1"
      ],
      "metadata": {
        "id": "XQzl5C-Z2GlF"
      }
    },
    {
      "cell_type": "code",
      "source": [
        "import nltk\n",
        "\n",
        "# Tải tài nguyên phổ biến nếu chưa tải\n",
        "nltk.download('popular')\n",
        "\n",
        "# Lấy danh sách các corpus có sẵn trong thư viện NLTK\n",
        "corpus_list = [corpus for corpus in nltk.corpus.__dict__ if corpus.islower()]\n",
        "\n",
        "# Liệt kê các tên corpus\n",
        "print(\"Danh sách các corpus có sẵn trong NLTK:\")\n",
        "for corpus in corpus_list:\n",
        "    print(corpus)\n"
      ],
      "metadata": {
        "colab": {
          "base_uri": "https://localhost:8080/"
        },
        "id": "LVL-HUmo2F7W",
        "outputId": "c953f2c3-0a03-4187-fec8-0c9a2cfab7c2"
      },
      "execution_count": 50,
      "outputs": [
        {
          "output_type": "stream",
          "name": "stderr",
          "text": [
            "[nltk_data] Downloading collection 'popular'\n",
            "[nltk_data]    | \n",
            "[nltk_data]    | Downloading package cmudict to /root/nltk_data...\n",
            "[nltk_data]    |   Package cmudict is already up-to-date!\n",
            "[nltk_data]    | Downloading package gazetteers to /root/nltk_data...\n",
            "[nltk_data]    |   Package gazetteers is already up-to-date!\n",
            "[nltk_data]    | Downloading package genesis to /root/nltk_data...\n",
            "[nltk_data]    |   Package genesis is already up-to-date!\n",
            "[nltk_data]    | Downloading package gutenberg to /root/nltk_data...\n",
            "[nltk_data]    |   Package gutenberg is already up-to-date!\n",
            "[nltk_data]    | Downloading package inaugural to /root/nltk_data...\n",
            "[nltk_data]    |   Package inaugural is already up-to-date!\n",
            "[nltk_data]    | Downloading package movie_reviews to\n",
            "[nltk_data]    |     /root/nltk_data...\n",
            "[nltk_data]    |   Package movie_reviews is already up-to-date!\n",
            "[nltk_data]    | Downloading package names to /root/nltk_data...\n",
            "[nltk_data]    |   Package names is already up-to-date!\n",
            "[nltk_data]    | Downloading package shakespeare to /root/nltk_data...\n",
            "[nltk_data]    |   Package shakespeare is already up-to-date!\n",
            "[nltk_data]    | Downloading package stopwords to /root/nltk_data...\n",
            "[nltk_data]    |   Package stopwords is already up-to-date!\n",
            "[nltk_data]    | Downloading package treebank to /root/nltk_data...\n",
            "[nltk_data]    |   Package treebank is already up-to-date!\n",
            "[nltk_data]    | Downloading package twitter_samples to\n",
            "[nltk_data]    |     /root/nltk_data...\n",
            "[nltk_data]    |   Package twitter_samples is already up-to-date!\n",
            "[nltk_data]    | Downloading package omw to /root/nltk_data...\n",
            "[nltk_data]    |   Package omw is already up-to-date!\n",
            "[nltk_data]    | Downloading package omw-1.4 to /root/nltk_data...\n",
            "[nltk_data]    |   Package omw-1.4 is already up-to-date!\n",
            "[nltk_data]    | Downloading package wordnet to /root/nltk_data...\n",
            "[nltk_data]    |   Package wordnet is already up-to-date!\n",
            "[nltk_data]    | Downloading package wordnet2021 to /root/nltk_data...\n",
            "[nltk_data]    |   Package wordnet2021 is already up-to-date!\n",
            "[nltk_data]    | Downloading package wordnet31 to /root/nltk_data...\n"
          ]
        },
        {
          "output_type": "stream",
          "name": "stdout",
          "text": [
            "Danh sách các corpus có sẵn trong NLTK:\n",
            "__name__\n",
            "__doc__\n",
            "__package__\n",
            "__loader__\n",
            "__spec__\n",
            "__path__\n",
            "__file__\n",
            "__cached__\n",
            "__builtins__\n",
            "__annotations__\n",
            "re\n",
            "reader\n",
            "find_corpus_fileids\n",
            "tagged_treebank_para_block_reader\n",
            "util\n",
            "abc\n",
            "alpino\n",
            "bcp47\n",
            "brown\n",
            "cess_cat\n",
            "cess_esp\n",
            "cmudict\n",
            "comtrans\n",
            "comparative_sentences\n",
            "conll2000\n",
            "conll2002\n",
            "conll2007\n",
            "crubadan\n",
            "dependency_treebank\n",
            "extended_omw\n",
            "floresta\n",
            "framenet15\n",
            "framenet\n",
            "gazetteers\n",
            "genesis\n",
            "gutenberg\n",
            "ieer\n",
            "inaugural\n",
            "indian\n",
            "jeita\n",
            "knbc\n",
            "lin_thesaurus\n",
            "mac_morpho\n",
            "machado\n",
            "masc_tagged\n",
            "movie_reviews\n",
            "multext_east\n",
            "names\n",
            "nps_chat\n",
            "opinion_lexicon\n",
            "ppattach\n",
            "product_reviews_1\n",
            "product_reviews_2\n",
            "pros_cons\n",
            "ptb\n",
            "qc\n",
            "reuters\n",
            "rte\n",
            "senseval\n",
            "sentence_polarity\n",
            "sentiwordnet\n",
            "shakespeare\n",
            "sinica_treebank\n",
            "state_union\n",
            "stopwords\n",
            "subjectivity\n",
            "swadesh\n",
            "swadesh110\n",
            "swadesh207\n",
            "switchboard\n",
            "timit\n",
            "timit_tagged\n",
            "toolbox\n",
            "treebank\n",
            "treebank_chunk\n",
            "treebank_raw\n",
            "twitter_samples\n",
            "udhr\n",
            "udhr2\n",
            "universal_treebanks\n",
            "verbnet\n",
            "webtext\n",
            "wordnet\n",
            "wordnet31\n",
            "wordnet2021\n",
            "wordnet2022\n",
            "wordnet_ic\n",
            "words\n",
            "propbank\n",
            "nombank\n",
            "propbank_ptb\n",
            "nombank_ptb\n",
            "semcor\n",
            "nonbreaking_prefixes\n",
            "perluniprops\n",
            "demo\n"
          ]
        },
        {
          "output_type": "stream",
          "name": "stderr",
          "text": [
            "[nltk_data]    |   Package wordnet31 is already up-to-date!\n",
            "[nltk_data]    | Downloading package wordnet_ic to /root/nltk_data...\n",
            "[nltk_data]    |   Package wordnet_ic is already up-to-date!\n",
            "[nltk_data]    | Downloading package words to /root/nltk_data...\n",
            "[nltk_data]    |   Package words is already up-to-date!\n",
            "[nltk_data]    | Downloading package maxent_ne_chunker to\n",
            "[nltk_data]    |     /root/nltk_data...\n",
            "[nltk_data]    |   Package maxent_ne_chunker is already up-to-date!\n",
            "[nltk_data]    | Downloading package punkt to /root/nltk_data...\n",
            "[nltk_data]    |   Package punkt is already up-to-date!\n",
            "[nltk_data]    | Downloading package snowball_data to\n",
            "[nltk_data]    |     /root/nltk_data...\n",
            "[nltk_data]    |   Package snowball_data is already up-to-date!\n",
            "[nltk_data]    | Downloading package averaged_perceptron_tagger to\n",
            "[nltk_data]    |     /root/nltk_data...\n",
            "[nltk_data]    |   Package averaged_perceptron_tagger is already up-\n",
            "[nltk_data]    |       to-date!\n",
            "[nltk_data]    | \n",
            "[nltk_data]  Done downloading collection popular\n"
          ]
        }
      ]
    },
    {
      "cell_type": "markdown",
      "source": [
        "Bai 2"
      ],
      "metadata": {
        "id": "Ze4Atv2v2FuF"
      }
    },
    {
      "cell_type": "code",
      "source": [
        "import nltk\n",
        "\n",
        "# Tải bộ dữ liệu stopwords nếu chưa tải\n",
        "nltk.download('stopwords')\n",
        "\n",
        "# Lấy danh sách các ngôn ngữ có sẵn trong NLTK stopwords\n",
        "from nltk.corpus import stopwords\n",
        "\n",
        "# Liệt kê các stopword theo từng ngôn ngữ\n",
        "languages = stopwords.fileids()\n",
        "\n",
        "# Hiển thị stopwords cho từng ngôn ngữ\n",
        "for lang in languages:\n",
        "    print(f\"Stopwords trong ngôn ngữ {lang}:\")\n",
        "    print(stopwords.words(lang))\n",
        "    print(\"\\n\")\n"
      ],
      "metadata": {
        "colab": {
          "base_uri": "https://localhost:8080/"
        },
        "id": "y4Wa6x192bsu",
        "outputId": "5dfdb014-3ccf-4974-cdbc-832d84f6fc85"
      },
      "execution_count": 51,
      "outputs": [
        {
          "output_type": "stream",
          "name": "stdout",
          "text": [
            "Stopwords trong ngôn ngữ albanian:\n",
            "['tyre', 'rreth', 'le', 'atyre', 'këta', 'megjithëse', 'kemi', 'per', 'ndonëse', 'dytë', 'pse', 'tha', 'aty', 'ndaj', 'ke', 'këtë', 'duhet', 'pa', 'perket', 'veç', 'ndonje', 'një', 'keshtu', 's', 'janë', 'jane', 'ti', 'ia', 'megjithese', 'prej', 'ishte', 'tjerë', 'ai', 'se', 'tillë', 'do', 'si', 'ja', 'tonë', 'keta', 'pastaj', 'ndersa', 'siç', 'unë', 'gjate', 'di', 'kësaj', 'cilin', 'kjo', 'dhënë', 'da', 'teper', 'ketij', 'ama', 'pasi', 'fjalë', 'kanë', 'vetem', 'za', 'd.m.th.', 'ose', 'pas', 'ndonjë', 'cila', 'ndodhur', 'dyte', 'ardhur', 'kësi', 'nga', 'vete', 'atij', 'ta', 'jenë', 'rendit', 'tane', 'keso', 'deri', 'tone', 'të', 'prandaj', 'bëjë', 'domethënë', 'dhe', 'qi', 'mirepo', 'tona', 'që', 'u', 'këtu', 'cilet', 'jene', 'tjere', 'gjë', 'së', 'gjatë', 'duhej', 't', 'dhene', 'thuhet', 'po', 'une', 'dy', 'cfare', 'ndërsa', 'sepse', 'edhe', 'cilen', 'to', 'meqenese', 'meje', 'tij', 'qene', 'jeni', 'them', 'përket', 'keto', 'ni', 'këso', 'asaj', 'ajo', 'sic', 'vetëm', 'ketyre', 'andaj', 'na', 'sa', 'kesaj', 'cili', 'këtyre', 'domethene', 'mirëpo', 'cilën', 'mos', 'madh', 'qenë', 'cilët', 'thënë', 'jemi', 'fjale', 'soje', 'neve', 'gjitha', 'kështu', 'vet', 'kur', 'ty', 'meqë', 'meqenëse', 'jush', 'ketë', 'para', 'kush', 'i', 'mua', 'dite', 'ate', 'për', 'tepër', 'nesh', 'meqe', 'ketu', 'ku', 'disa', 'ato', 'mbi', 'gje', 'ne', 'është', 'tille', 'teje', 'megjithate', 'ju', 'nese', 'saj', 'ashtu', 'më', 'mbasi', 'te', 'thene', 'jo', 'ditë', 'nuk', 'gjithe', 'shume', 'nje', 'tanë', 'mund', 'aqsa', 'sot', 'këto', 'tjera', 'tjetër', 'tjeter', 'atë', 'kisha', 'megjithatë', 'këtij', 'nëse', 'dimë', 'eshte', 'vazhdojmë', 'ka', 'kam', 'kesi', 'je', 'vazhdojme', 'duke', 'dime', 'kinse', 'por', 'kane', 'pika', 'keni', 'beje', 'ky', 'parasysh', 'apo', 'gjithë', 'me', 'ata', 'çfarë', 'jam', 'juve', 'kete', 'a', 'pra', 'qe', 'tash', 'në', 'vetë', 'vec', 'as', 'ndonese', 'tani', 'pak', 'e', 'shumë']\n",
            "\n",
            "\n",
            "Stopwords trong ngôn ngữ arabic:\n",
            "['إذ', 'إذا', 'إذما', 'إذن', 'أف', 'أقل', 'أكثر', 'ألا', 'إلا', 'التي', 'الذي', 'الذين', 'اللاتي', 'اللائي', 'اللتان', 'اللتيا', 'اللتين', 'اللذان', 'اللذين', 'اللواتي', 'إلى', 'إليك', 'إليكم', 'إليكما', 'إليكن', 'أم', 'أما', 'أما', 'إما', 'أن', 'إن', 'إنا', 'أنا', 'أنت', 'أنتم', 'أنتما', 'أنتن', 'إنما', 'إنه', 'أنى', 'أنى', 'آه', 'آها', 'أو', 'أولاء', 'أولئك', 'أوه', 'آي', 'أي', 'أيها', 'إي', 'أين', 'أين', 'أينما', 'إيه', 'بخ', 'بس', 'بعد', 'بعض', 'بك', 'بكم', 'بكم', 'بكما', 'بكن', 'بل', 'بلى', 'بما', 'بماذا', 'بمن', 'بنا', 'به', 'بها', 'بهم', 'بهما', 'بهن', 'بي', 'بين', 'بيد', 'تلك', 'تلكم', 'تلكما', 'ته', 'تي', 'تين', 'تينك', 'ثم', 'ثمة', 'حاشا', 'حبذا', 'حتى', 'حيث', 'حيثما', 'حين', 'خلا', 'دون', 'ذا', 'ذات', 'ذاك', 'ذان', 'ذانك', 'ذلك', 'ذلكم', 'ذلكما', 'ذلكن', 'ذه', 'ذو', 'ذوا', 'ذواتا', 'ذواتي', 'ذي', 'ذين', 'ذينك', 'ريث', 'سوف', 'سوى', 'شتان', 'عدا', 'عسى', 'عل', 'على', 'عليك', 'عليه', 'عما', 'عن', 'عند', 'غير', 'فإذا', 'فإن', 'فلا', 'فمن', 'في', 'فيم', 'فيما', 'فيه', 'فيها', 'قد', 'كأن', 'كأنما', 'كأي', 'كأين', 'كذا', 'كذلك', 'كل', 'كلا', 'كلاهما', 'كلتا', 'كلما', 'كليكما', 'كليهما', 'كم', 'كم', 'كما', 'كي', 'كيت', 'كيف', 'كيفما', 'لا', 'لاسيما', 'لدى', 'لست', 'لستم', 'لستما', 'لستن', 'لسن', 'لسنا', 'لعل', 'لك', 'لكم', 'لكما', 'لكن', 'لكنما', 'لكي', 'لكيلا', 'لم', 'لما', 'لن', 'لنا', 'له', 'لها', 'لهم', 'لهما', 'لهن', 'لو', 'لولا', 'لوما', 'لي', 'لئن', 'ليت', 'ليس', 'ليسا', 'ليست', 'ليستا', 'ليسوا', 'ما', 'ماذا', 'متى', 'مذ', 'مع', 'مما', 'ممن', 'من', 'منه', 'منها', 'منذ', 'مه', 'مهما', 'نحن', 'نحو', 'نعم', 'ها', 'هاتان', 'هاته', 'هاتي', 'هاتين', 'هاك', 'هاهنا', 'هذا', 'هذان', 'هذه', 'هذي', 'هذين', 'هكذا', 'هل', 'هلا', 'هم', 'هما', 'هن', 'هنا', 'هناك', 'هنالك', 'هو', 'هؤلاء', 'هي', 'هيا', 'هيت', 'هيهات', 'والذي', 'والذين', 'وإذ', 'وإذا', 'وإن', 'ولا', 'ولكن', 'ولو', 'وما', 'ومن', 'وهو', 'يا', 'أبٌ', 'أخٌ', 'حمٌ', 'فو', 'أنتِ', 'يناير', 'فبراير', 'مارس', 'أبريل', 'مايو', 'يونيو', 'يوليو', 'أغسطس', 'سبتمبر', 'أكتوبر', 'نوفمبر', 'ديسمبر', 'جانفي', 'فيفري', 'مارس', 'أفريل', 'ماي', 'جوان', 'جويلية', 'أوت', 'كانون', 'شباط', 'آذار', 'نيسان', 'أيار', 'حزيران', 'تموز', 'آب', 'أيلول', 'تشرين', 'دولار', 'دينار', 'ريال', 'درهم', 'ليرة', 'جنيه', 'قرش', 'مليم', 'فلس', 'هللة', 'سنتيم', 'يورو', 'ين', 'يوان', 'شيكل', 'واحد', 'اثنان', 'ثلاثة', 'أربعة', 'خمسة', 'ستة', 'سبعة', 'ثمانية', 'تسعة', 'عشرة', 'أحد', 'اثنا', 'اثني', 'إحدى', 'ثلاث', 'أربع', 'خمس', 'ست', 'سبع', 'ثماني', 'تسع', 'عشر', 'ثمان', 'سبت', 'أحد', 'اثنين', 'ثلاثاء', 'أربعاء', 'خميس', 'جمعة', 'أول', 'ثان', 'ثاني', 'ثالث', 'رابع', 'خامس', 'سادس', 'سابع', 'ثامن', 'تاسع', 'عاشر', 'حادي', 'أ', 'ب', 'ت', 'ث', 'ج', 'ح', 'خ', 'د', 'ذ', 'ر', 'ز', 'س', 'ش', 'ص', 'ض', 'ط', 'ظ', 'ع', 'غ', 'ف', 'ق', 'ك', 'ل', 'م', 'ن', 'ه', 'و', 'ي', 'ء', 'ى', 'آ', 'ؤ', 'ئ', 'أ', 'ة', 'ألف', 'باء', 'تاء', 'ثاء', 'جيم', 'حاء', 'خاء', 'دال', 'ذال', 'راء', 'زاي', 'سين', 'شين', 'صاد', 'ضاد', 'طاء', 'ظاء', 'عين', 'غين', 'فاء', 'قاف', 'كاف', 'لام', 'ميم', 'نون', 'هاء', 'واو', 'ياء', 'همزة', 'ي', 'نا', 'ك', 'كن', 'ه', 'إياه', 'إياها', 'إياهما', 'إياهم', 'إياهن', 'إياك', 'إياكما', 'إياكم', 'إياك', 'إياكن', 'إياي', 'إيانا', 'أولالك', 'تانِ', 'تانِك', 'تِه', 'تِي', 'تَيْنِ', 'ثمّ', 'ثمّة', 'ذانِ', 'ذِه', 'ذِي', 'ذَيْنِ', 'هَؤلاء', 'هَاتانِ', 'هَاتِه', 'هَاتِي', 'هَاتَيْنِ', 'هَذا', 'هَذانِ', 'هَذِه', 'هَذِي', 'هَذَيْنِ', 'الألى', 'الألاء', 'أل', 'أنّى', 'أيّ', 'ّأيّان', 'أنّى', 'أيّ', 'ّأيّان', 'ذيت', 'كأيّ', 'كأيّن', 'بضع', 'فلان', 'وا', 'آمينَ', 'آهِ', 'آهٍ', 'آهاً', 'أُفٍّ', 'أُفٍّ', 'أفٍّ', 'أمامك', 'أمامكَ', 'أوّهْ', 'إلَيْكَ', 'إلَيْكَ', 'إليكَ', 'إليكنّ', 'إيهٍ', 'بخٍ', 'بسّ', 'بَسْ', 'بطآن', 'بَلْهَ', 'حاي', 'حَذارِ', 'حيَّ', 'حيَّ', 'دونك', 'رويدك', 'سرعان', 'شتانَ', 'شَتَّانَ', 'صهْ', 'صهٍ', 'طاق', 'طَق', 'عَدَسْ', 'كِخ', 'مكانَك', 'مكانَك', 'مكانَك', 'مكانكم', 'مكانكما', 'مكانكنّ', 'نَخْ', 'هاكَ', 'هَجْ', 'هلم', 'هيّا', 'هَيْهات', 'وا', 'واهاً', 'وراءَك', 'وُشْكَانَ', 'وَيْ', 'يفعلان', 'تفعلان', 'يفعلون', 'تفعلون', 'تفعلين', 'اتخذ', 'ألفى', 'تخذ', 'ترك', 'تعلَّم', 'جعل', 'حجا', 'حبيب', 'خال', 'حسب', 'خال', 'درى', 'رأى', 'زعم', 'صبر', 'ظنَّ', 'عدَّ', 'علم', 'غادر', 'ذهب', 'وجد', 'ورد', 'وهب', 'أسكن', 'أطعم', 'أعطى', 'رزق', 'زود', 'سقى', 'كسا', 'أخبر', 'أرى', 'أعلم', 'أنبأ', 'حدَث', 'خبَّر', 'نبَّا', 'أفعل به', 'ما أفعله', 'بئس', 'ساء', 'طالما', 'قلما', 'لات', 'لكنَّ', 'ءَ', 'أجل', 'إذاً', 'أمّا', 'إمّا', 'إنَّ', 'أنًّ', 'أى', 'إى', 'أيا', 'ب', 'ثمَّ', 'جلل', 'جير', 'رُبَّ', 'س', 'علًّ', 'ف', 'كأنّ', 'كلَّا', 'كى', 'ل', 'لات', 'لعلَّ', 'لكنَّ', 'لكنَّ', 'م', 'نَّ', 'هلّا', 'وا', 'أل', 'إلّا', 'ت', 'ك', 'لمّا', 'ن', 'ه', 'و', 'ا', 'ي', 'تجاه', 'تلقاء', 'جميع', 'حسب', 'سبحان', 'شبه', 'لعمر', 'مثل', 'معاذ', 'أبو', 'أخو', 'حمو', 'فو', 'مئة', 'مئتان', 'ثلاثمئة', 'أربعمئة', 'خمسمئة', 'ستمئة', 'سبعمئة', 'ثمنمئة', 'تسعمئة', 'مائة', 'ثلاثمائة', 'أربعمائة', 'خمسمائة', 'ستمائة', 'سبعمائة', 'ثمانمئة', 'تسعمائة', 'عشرون', 'ثلاثون', 'اربعون', 'خمسون', 'ستون', 'سبعون', 'ثمانون', 'تسعون', 'عشرين', 'ثلاثين', 'اربعين', 'خمسين', 'ستين', 'سبعين', 'ثمانين', 'تسعين', 'بضع', 'نيف', 'أجمع', 'جميع', 'عامة', 'عين', 'نفس', 'لا سيما', 'أصلا', 'أهلا', 'أيضا', 'بؤسا', 'بعدا', 'بغتة', 'تعسا', 'حقا', 'حمدا', 'خلافا', 'خاصة', 'دواليك', 'سحقا', 'سرا', 'سمعا', 'صبرا', 'صدقا', 'صراحة', 'طرا', 'عجبا', 'عيانا', 'غالبا', 'فرادى', 'فضلا', 'قاطبة', 'كثيرا', 'لبيك', 'معاذ', 'أبدا', 'إزاء', 'أصلا', 'الآن', 'أمد', 'أمس', 'آنفا', 'آناء', 'أنّى', 'أول', 'أيّان', 'تارة', 'ثمّ', 'ثمّة', 'حقا', 'صباح', 'مساء', 'ضحوة', 'عوض', 'غدا', 'غداة', 'قطّ', 'كلّما', 'لدن', 'لمّا', 'مرّة', 'قبل', 'خلف', 'أمام', 'فوق', 'تحت', 'يمين', 'شمال', 'ارتدّ', 'استحال', 'أصبح', 'أضحى', 'آض', 'أمسى', 'انقلب', 'بات', 'تبدّل', 'تحوّل', 'حار', 'رجع', 'راح', 'صار', 'ظلّ', 'عاد', 'غدا', 'كان', 'ما انفك', 'ما برح', 'مادام', 'مازال', 'مافتئ', 'ابتدأ', 'أخذ', 'اخلولق', 'أقبل', 'انبرى', 'أنشأ', 'أوشك', 'جعل', 'حرى', 'شرع', 'طفق', 'علق', 'قام', 'كرب', 'كاد', 'هبّ']\n",
            "\n",
            "\n",
            "Stopwords trong ngôn ngữ azerbaijani:\n",
            "['a', 'ad', 'altı', 'altmış', 'amma', 'arasında', 'artıq', 'ay', 'az', 'bax', 'belə', 'bəli', 'bəlkə', 'beş', 'bəy', 'bəzən', 'bəzi', 'bilər', 'bir', 'biraz', 'biri', 'birşey', 'biz', 'bizim', 'bizlər', 'bu', 'buna', 'bundan', 'bunların', 'bunu', 'bunun', 'buradan', 'bütün', 'ci', 'cı', 'çox', 'cu', 'cü', 'çünki', 'da', 'daha', 'də', 'dedi', 'dək', 'dən', 'dəqiqə', 'deyil', 'dir', 'doqquz', 'doqsan', 'dörd', 'düz', 'ə', 'edən', 'edir', 'əgər', 'əlbəttə', 'elə', 'əlli', 'ən', 'əslində', 'et', 'etdi', 'etmə', 'etmək', 'faiz', 'gilə', 'görə', 'ha', 'haqqında', 'harada', 'hə', 'heç', 'həm', 'həmin', 'həmişə', 'hər', 'ı', 'idi', 'iki', 'il', 'ildə', 'ilə', 'ilk', 'in', 'indi', 'isə', 'istifadə', 'iyirmi', 'ki', 'kim', 'kimə', 'kimi', 'lakin', 'lap', 'məhz', 'mən', 'mənə', 'mirşey', 'nə', 'nəhayət', 'niyə', 'o', 'obirisi', 'of', 'olan', 'olar', 'olaraq', 'oldu', 'olduğu', 'olmadı', 'olmaz', 'olmuşdur', 'olsun', 'olur', 'on', 'ona', 'ondan', 'onlar', 'onlardan', 'onların ', 'onsuzda', 'onu', 'onun', 'oradan', 'otuz', 'öz', 'özü', 'qarşı', 'qədər', 'qırx', 'saat', 'sadəcə', 'saniyə', 'səhv', 'səkkiz', 'səksən', 'sən', 'sənə', 'sənin', 'siz', 'sizin', 'sizlər', 'sonra', 'təəssüf', 'ü', 'üç', 'üçün', 'var', 'və', 'xan', 'xanım', 'xeyr', 'ya', 'yalnız', 'yaxşı', 'yeddi', 'yenə', 'yəni', 'yetmiş', 'yox', 'yoxdur', 'yoxsa', 'yüz', 'zaman']\n",
            "\n",
            "\n",
            "Stopwords trong ngôn ngữ basque:\n",
            "['ahala', 'aitzitik', 'al', 'ala ', 'alabadere', 'alabaina', 'alabaina', 'aldiz ', 'alta', 'amaitu', 'amaitzeko', 'anitz', 'antzina', 'arabera', 'arabera', 'arabera', 'argi', 'arratsaldero', 'arte', 'artean', 'asko', 'aspaldiko', 'aurrera', 'aurrera', 'azkenez', 'azkenik', 'azkenik', 'ba', 'bada', 'bada ', 'bada ', 'bada ', 'badarik', 'badarik', 'badarik ', 'badere', 'bai', 'baina', 'baina', 'baina ', 'baino', 'baino', 'baino', 'baino', 'baita', 'baizik ', 'baldin', 'baldin', 'barren', 'bat', 'batean', 'batean', 'batean', 'batean', 'batek', 'baten', 'batera', 'batez', 'bati', 'batzuei', 'batzuek', 'batzuetan', 'batzuk', 'bazen', 'bederen', 'bederik', 'beharrez', 'behiala', 'behin', 'behin', 'behin', 'behin', 'behinik', 'behinola', 'behintzat', 'bera', 'beraiek', 'beranduago', 'berau', 'berauek', 'beraz', 'beraz ', 'bere', 'berean', 'berebat', 'berehala', 'berori', 'beroriek', 'berriro', 'berriz', 'bertzalde', 'bertzenaz', 'bestalde', 'beste', 'bestela', 'besterik', 'bezain', 'bezala', 'bide', 'bien', 'bigarrenez', 'bigarrenik', 'bitartean', 'bitartean', 'bizkitartean', 'bukaeran', 'bukatzeko ', 'da', 'dago', 'dago', 'dela', 'dela', 'dela', 'delarik', 'den', 'dena', 'dena', 'dezadan', 'dira', 'ditu', 'du', 'dute', 'edo', 'edo ', 'edota ', 'egin', 'egin', 'egun', 'egun', 'egunean', 'emateko', 'era', 'erdi', 'ere', 'ere', 'ere', 'ere', 'ere ', 'esan', 'esan', 'esanak', 'esandakoaren', 'eta', 'eta', 'eta', 'eta', 'eta ', 'eta ', 'eurak', 'ez', 'ez ', 'ez ', 'eze ', 'ezen', 'ezer', 'ezezik', 'ezik', 'ezpabere ', 'ezpada ', 'ezpere', 'ezperen ', 'ezta', 'funtsean', 'gabe', 'gain', 'gainera ', 'gainera \\t', 'gainerontzean ', 'gaur', 'gero', 'gero', 'gero', 'geroago', 'gisa', 'gu', 'gutxi', 'guzti', 'guztia', 'guztiz ', 'haatik', 'haiei', 'haiek', 'haietan', 'hain', 'hainbeste', 'hainbestez ', 'hala', 'hala', 'hala', 'halaber', 'halako', 'halatan', 'han', 'handik', 'hango', 'hara', 'hargatik', 'hari', 'hark', 'hartan', 'hartan', 'hasi', 'hasi', 'hasiera', 'hasieran', 'hasteaz', 'hasteko', 'hasteko', 'hau', 'hau', 'hau', 'hau', 'hau', 'hau', 'hauei', 'hauek', 'hauetan', 'hemen', 'hemendik', 'hemengo', 'hi', 'hona', 'honebestez', 'honek', 'honela', 'honela', 'honela', 'honen', 'honen', 'honetan', 'honetaz', 'honi', 'hor', 'hori', 'hori', 'hori', 'horiei', 'horiek', 'horietan', 'horko', 'horra \\t', 'horratik', 'horregatik', 'horregatik', 'horrek', 'horrela', 'horrela', 'horrela', 'horren', 'horrenbestez', 'horretan', 'horri', 'hortaz', 'hortaz', 'hortik', 'hura', 'ikusi', 'ikusi', 'izan', 'izan', 'izan', 'jarraituz', 'kariaz', 'kasuaz', 'kontuan', 'laburbilduz', 'laburki', 'laster', 'laster', 'lehen', 'lehen', 'lehen', 'lehen', 'lehenengo', 'lehenengo', 'lehenik', 'lehen-lehenik', 'litzateke', 'medio', 'mendean', 'mundura', 'nahiz', 'ni', 'noiz', 'nola', 'non', 'nondik', 'nongo', 'nor', 'nora', 'on', 'ondoren', 'ondorio', 'ondorioz', 'ondorioz', 'orain', 'ordea ', 'orduan', 'orduan', 'orduan ', 'orduko', 'ordura', 'orobat', 'ostean', 'ostera', 'osterantzean ', 'pentsatuz', 'ustez', 'ze', 'zein', 'zein ', 'zen', 'zen', 'zenbait', 'zenbat', 'zer', 'zeren', 'zergatik', 'zergatik', 'ziren', 'zituen', 'zu', 'zuek', 'zuen', 'zuten', 'zuzen']\n",
            "\n",
            "\n",
            "Stopwords trong ngôn ngữ belarusian:\n",
            "['на', 'не', 'што', 'па', 'да', 'за', 'як', 'для', 'гэта', 'ад', 'яго', 'аб', 'ён', 'калi', 'якiя', 'мы', 'больш', 'таксама', 'iх', 'толькi', 'пра', 'каб', 'гэтым', 'так', 'але', 'яшчэ', 'тым', 'якi', 'яе', 'пры', 'цi', 'яны', 'цяпер', 'таму', 'пасля', 'каля', 'гэтага', 'годзе', 'тыс', 'таго', 'тут', 'тысяч', 'ўжо', 'дзе', 'якая', 'са', 'яна', 'гэты', 'пад', 'можна', 'паводле', 'вельмi', 'ва', 'то', 'сёння', 'можа', 'ўсё', 'нас', 'вось', 'нават', 'або', 'сёлета', 'іх', 'той', 'ужо', 'чым', 'тое', 'хто', 'жа', 'без', 'праз', 'мяне', 'аднак', 'бо', 'мне', 'там', 'адзiн', 'два', 'сярод', 'гэтай', 'сябе', 'калі', 'толькі', 'дарэчы', 'млн', 'падчас', 'вы', 'усё', 'нашай', 'якія', 'iм', 'разам', 'акрамя', 'ды', 'якiх', 'мае', 'стала', 'раней', 'шмат', 'амаль', 'усе', 'першы', 'пакуль', 'напрыклад', 'тысячы', 'ўсе', 'ты', 'якой', 'раз', 'свае', 'iншых', 'гэтыя', 'тры', 'яму', 'які', 'сваю', 'памiж', 'ўсiх', 'ёй', 'сваёй', 'хоць', 'некалькi', 'аднаго', 'менавiта', 'проста', 'потым', 'нi', 'заўсёды', 'менш', 'тады', 'нам', 'свой', 'якiм', 'свята', 'такiм', 'перад', 'вядома', 'бы', 'якое', 'мая', 'тых', 'гэтых', 'такiя', 'зараз', 'адной', 'адна', 'адным', 'якога', 'добра', 'над', 'летась', 'справа', 'кожны', 'свайго', 'сваiх', 'неабходна', 'такiх', 'зноў', 'мiльёнаў', 'прычым', 'iншыя', 'днём', 'млрд', 'сам', 'ці', 'нашы', 'сабе', 'адразу', 'усяго', 'двух', 'тыя', 'нашых', 'якую', 'чаго', 'асаблiва', 'сваiм', 'першым', 'згодна', 'такое', 'найбольш', 'такi', 'дзве', 'ім', 'вельмі', 'наша', 'дзвюх', 'ну', 'сваё', 'праўда', 'вас', 'трох', 'зусiм', 'пяць', 'некаторыя', 'дык', 'крыху', 'чаму', 'такой', 'магчыма', 'сапраўды', 'такая', 'вам', 'нешта', 'усiх', 'адно', 'далей', 'значыць', 'чатыры', 'самых', 'хутка', 'самы', 'дзякуючы', 'наш', 'часта', 'самым', 'першай', 'адзін', 'супраць', 'яно', 'другi', 'удзень', 'нiчога', 'мой', 'побач']\n",
            "\n",
            "\n",
            "Stopwords trong ngôn ngữ bengali:\n",
            "['অতএব', 'অথচ', 'অথবা', 'অনুযায়ী', 'অনেক', 'অনেকে', 'অনেকেই', 'অন্তত', 'অন্য', 'অবধি', 'অবশ্য', 'অর্থাত', 'আই', 'আগামী', 'আগে', 'আগেই', 'আছে', 'আজ', 'আদ্যভাগে', 'আপনার', 'আপনি', 'আবার', 'আমরা', 'আমাকে', 'আমাদের', 'আমার', 'আমি', 'আর', 'আরও', 'ই', 'ইত্যাদি', 'ইহা', 'উচিত', 'উত্তর', 'উনি', 'উপর', 'উপরে', 'এ', 'এঁদের', 'এঁরা', 'এই', 'একই', 'একটি', 'একবার', 'একে', 'এক্', 'এখন', 'এখনও', 'এখানে', 'এখানেই', 'এটা', 'এটাই', 'এটি', 'এত', 'এতটাই', 'এতে', 'এদের', 'এব', 'এবং', 'এবার', 'এমন', 'এমনকী', 'এমনি', 'এর', 'এরা', 'এল', 'এস', 'এসে', 'ঐ', 'ও', 'ওঁদের', 'ওঁর', 'ওঁরা', 'ওই', 'ওকে', 'ওখানে', 'ওদের', 'ওর', 'ওরা', 'কখনও', 'কত', 'কবে', 'কমনে', 'কয়েক', 'কয়েকটি', 'করছে', 'করছেন', 'করতে', 'করবে', 'করবেন', 'করলে', 'করলেন', 'করা', 'করাই', 'করায়', 'করার', 'করি', 'করিতে', 'করিয়া', 'করিয়ে', 'করে', 'করেই', 'করেছিলেন', 'করেছে', 'করেছেন', 'করেন', 'কাউকে', 'কাছ', 'কাছে', 'কাজ', 'কাজে', 'কারও', 'কারণ', 'কি', 'কিংবা', 'কিছু', 'কিছুই', 'কিন্তু', 'কী', 'কে', 'কেউ', 'কেউই', 'কেখা', 'কেন', 'কোটি', 'কোন', 'কোনও', 'কোনো', 'ক্ষেত্রে', 'কয়েক', 'খুব', 'গিয়ে', 'গিয়েছে', 'গিয়ে', 'গুলি', 'গেছে', 'গেল', 'গেলে', 'গোটা', 'চলে', 'চান', 'চায়', 'চার', 'চালু', 'চেয়ে', 'চেষ্টা', 'ছাড়া', 'ছাড়াও', 'ছিল', 'ছিলেন', 'জন', 'জনকে', 'জনের', 'জন্য', 'জন্যওজে', 'জানতে', 'জানা', 'জানানো', 'জানায়', 'জানিয়ে', 'জানিয়েছে', 'জে', 'জ্নজন', 'টি', 'ঠিক', 'তখন', 'তত', 'তথা', 'তবু', 'তবে', 'তা', 'তাঁকে', 'তাঁদের', 'তাঁর', 'তাঁরা', 'তাঁাহারা', 'তাই', 'তাও', 'তাকে', 'তাতে', 'তাদের', 'তার', 'তারপর', 'তারা', 'তারৈ', 'তাহলে', 'তাহা', 'তাহাতে', 'তাহার', 'তিনঐ', 'তিনি', 'তিনিও', 'তুমি', 'তুলে', 'তেমন', 'তো', 'তোমার', 'থাকবে', 'থাকবেন', 'থাকা', 'থাকায়', 'থাকে', 'থাকেন', 'থেকে', 'থেকেই', 'থেকেও', 'দিকে', 'দিতে', 'দিন', 'দিয়ে', 'দিয়েছে', 'দিয়েছেন', 'দিলেন', 'দু', 'দুই', 'দুটি', 'দুটো', 'দেওয়া', 'দেওয়ার', 'দেওয়া', 'দেখতে', 'দেখা', 'দেখে', 'দেন', 'দেয়', 'দ্বারা', 'ধরা', 'ধরে', 'ধামার', 'নতুন', 'নয়', 'না', 'নাই', 'নাকি', 'নাগাদ', 'নানা', 'নিজে', 'নিজেই', 'নিজেদের', 'নিজের', 'নিতে', 'নিয়ে', 'নিয়ে', 'নেই', 'নেওয়া', 'নেওয়ার', 'নেওয়া', 'নয়', 'পক্ষে', 'পর', 'পরে', 'পরেই', 'পরেও', 'পর্যন্ত', 'পাওয়া', 'পাচ', 'পারি', 'পারে', 'পারেন', 'পি', 'পেয়ে', 'পেয়্র্', 'প্রতি', 'প্রথম', 'প্রভৃতি', 'প্রযন্ত', 'প্রাথমিক', 'প্রায়', 'প্রায়', 'ফলে', 'ফিরে', 'ফের', 'বক্তব্য', 'বদলে', 'বন', 'বরং', 'বলতে', 'বলল', 'বললেন', 'বলা', 'বলে', 'বলেছেন', 'বলেন', 'বসে', 'বহু', 'বা', 'বাদে', 'বার', 'বি', 'বিনা', 'বিভিন্ন', 'বিশেষ', 'বিষয়টি', 'বেশ', 'বেশি', 'ব্যবহার', 'ব্যাপারে', 'ভাবে', 'ভাবেই', 'মতো', 'মতোই', 'মধ্যভাগে', 'মধ্যে', 'মধ্যেই', 'মধ্যেও', 'মনে', 'মাত্র', 'মাধ্যমে', 'মোট', 'মোটেই', 'যখন', 'যত', 'যতটা', 'যথেষ্ট', 'যদি', 'যদিও', 'যা', 'যাঁর', 'যাঁরা', 'যাওয়া', 'যাওয়ার', 'যাওয়া', 'যাকে', 'যাচ্ছে', 'যাতে', 'যাদের', 'যান', 'যাবে', 'যায়', 'যার', 'যারা', 'যিনি', 'যে', 'যেখানে', 'যেতে', 'যেন', 'যেমন', 'র', 'রকম', 'রয়েছে', 'রাখা', 'রেখে', 'লক্ষ', 'শুধু', 'শুরু', 'সঙ্গে', 'সঙ্গেও', 'সব', 'সবার', 'সমস্ত', 'সম্প্রতি', 'সহ', 'সহিত', 'সাধারণ', 'সামনে', 'সি', 'সুতরাং', 'সে', 'সেই', 'সেখান', 'সেখানে', 'সেটা', 'সেটাই', 'সেটাও', 'সেটি', 'স্পষ্ট', 'স্বয়ং', 'হইতে', 'হইবে', 'হইয়া', 'হওয়া', 'হওয়ায়', 'হওয়ার', 'হচ্ছে', 'হত', 'হতে', 'হতেই', 'হন', 'হবে', 'হবেন', 'হয়', 'হয়তো', 'হয়নি', 'হয়ে', 'হয়েই', 'হয়েছিল', 'হয়েছে', 'হয়েছেন', 'হল', 'হলে', 'হলেই', 'হলেও', 'হলো', 'হাজার', 'হিসাবে', 'হৈলে', 'হোক', 'হয়']\n",
            "\n",
            "\n",
            "Stopwords trong ngôn ngữ catalan:\n",
            "['a', 'abans', 'ací', 'ah', 'així', 'això', 'al', 'aleshores', 'algun', 'alguna', 'algunes', 'alguns', 'alhora', 'allà', 'allí', 'allò', 'als', 'altra', 'altre', 'altres', 'amb', 'ambdues', 'ambdós', 'anar', 'ans', 'apa', 'aquell', 'aquella', 'aquelles', 'aquells', 'aquest', 'aquesta', 'aquestes', 'aquests', 'aquí', 'baix', 'bastant', 'bé', 'cada', 'cadascuna', 'cadascunes', 'cadascuns', 'cadascú', 'com', 'consegueixo', 'conseguim', 'conseguir', 'consigueix', 'consigueixen', 'consigueixes', 'contra', \"d'un\", \"d'una\", \"d'unes\", \"d'uns\", 'dalt', 'de', 'del', 'dels', 'des', 'des de', 'després', 'dins', 'dintre', 'donat', 'doncs', 'durant', 'e', 'eh', 'el', 'elles', 'ells', 'els', 'em', 'en', 'encara', 'ens', 'entre', 'era', 'erem', 'eren', 'eres', 'es', 'esta', 'estan', 'estat', 'estava', 'estaven', 'estem', 'esteu', 'estic', 'està', 'estàvem', 'estàveu', 'et', 'etc', 'ets', 'fa', 'faig', 'fan', 'fas', 'fem', 'fer', 'feu', 'fi', 'fins', 'fora', 'gairebé', 'ha', 'han', 'has', 'haver', 'havia', 'he', 'hem', 'heu', 'hi', 'ho', 'i', 'igual', 'iguals', 'inclòs', 'ja', 'jo', \"l'hi\", 'la', 'les', 'li', \"li'n\", 'llarg', 'llavors', \"m'he\", 'ma', 'mal', 'malgrat', 'mateix', 'mateixa', 'mateixes', 'mateixos', 'me', 'mentre', 'meu', 'meus', 'meva', 'meves', 'mode', 'molt', 'molta', 'moltes', 'molts', 'mon', 'mons', 'més', \"n'he\", \"n'hi\", 'ne', 'ni', 'no', 'nogensmenys', 'només', 'nosaltres', 'nostra', 'nostre', 'nostres', 'o', 'oh', 'oi', 'on', 'pas', 'pel', 'pels', 'per', 'per que', 'perquè', 'però', 'poc', 'poca', 'pocs', 'podem', 'poden', 'poder', 'podeu', 'poques', 'potser', 'primer', 'propi', 'puc', 'qual', 'quals', 'quan', 'quant', 'que', 'quelcom', 'qui', 'quin', 'quina', 'quines', 'quins', 'què', \"s'ha\", \"s'han\", 'sa', 'sabem', 'saben', 'saber', 'sabeu', 'sap', 'saps', 'semblant', 'semblants', 'sense', 'ser', 'ses', 'seu', 'seus', 'seva', 'seves', 'si', 'sobre', 'sobretot', 'soc', 'solament', 'sols', 'som', 'son', 'sons', 'sota', 'sou', 'sóc', 'són', \"t'ha\", \"t'han\", \"t'he\", 'ta', 'tal', 'també', 'tampoc', 'tan', 'tant', 'tanta', 'tantes', 'te', 'tene', 'tenim', 'tenir', 'teniu', 'teu', 'teus', 'teva', 'teves', 'tinc', 'ton', 'tons', 'tot', 'tota', 'totes', 'tots', 'un', 'una', 'unes', 'uns', 'us', 'va', 'vaig', 'vam', 'van', 'vas', 'veu', 'vosaltres', 'vostra', 'vostre', 'vostres', 'érem', 'éreu', 'és', 'éssent', 'últim', 'ús']\n",
            "\n",
            "\n",
            "Stopwords trong ngôn ngữ chinese:\n",
            "['一', '一下', '一些', '一切', '一则', '一天', '一定', '一方面', '一旦', '一时', '一来', '一样', '一次', '一片', '一直', '一致', '一般', '一起', '一边', '一面', '万一', '上下', '上升', '上去', '上来', '上述', '上面', '下列', '下去', '下来', '下面', '不一', '不久', '不仅', '不会', '不但', '不光', '不单', '不变', '不只', '不可', '不同', '不够', '不如', '不得', '不怕', '不惟', '不成', '不拘', '不敢', '不断', '不是', '不比', '不然', '不特', '不独', '不管', '不能', '不要', '不论', '不足', '不过', '不问', '与', '与其', '与否', '与此同时', '专门', '且', '两者', '严格', '严重', '个', '个人', '个别', '中小', '中间', '丰富', '临', '为', '为主', '为了', '为什么', '为什麽', '为何', '为着', '主张', '主要', '举行', '乃', '乃至', '么', '之', '之一', '之前', '之后', '之後', '之所以', '之类', '乌乎', '乎', '乘', '也', '也好', '也是', '也罢', '了', '了解', '争取', '于', '于是', '于是乎', '云云', '互相', '产生', '人们', '人家', '什么', '什么样', '什麽', '今后', '今天', '今年', '今後', '仍然', '从', '从事', '从而', '他', '他人', '他们', '他的', '代替', '以', '以上', '以下', '以为', '以便', '以免', '以前', '以及', '以后', '以外', '以後', '以来', '以至', '以至于', '以致', '们', '任', '任何', '任凭', '任务', '企图', '伟大', '似乎', '似的', '但', '但是', '何', '何况', '何处', '何时', '作为', '你', '你们', '你的', '使得', '使用', '例如', '依', '依照', '依靠', '促进', '保持', '俺', '俺们', '倘', '倘使', '倘或', '倘然', '倘若', '假使', '假如', '假若', '做到', '像', '允许', '充分', '先后', '先後', '先生', '全部', '全面', '兮', '共同', '关于', '其', '其一', '其中', '其二', '其他', '其余', '其它', '其实', '其次', '具体', '具体地说', '具体说来', '具有', '再者', '再说', '冒', '冲', '决定', '况且', '准备', '几', '几乎', '几时', '凭', '凭借', '出去', '出来', '出现', '分别', '则', '别', '别的', '别说', '到', '前后', '前者', '前进', '前面', '加之', '加以', '加入', '加强', '十分', '即', '即令', '即使', '即便', '即或', '即若', '却不', '原来', '又', '及', '及其', '及时', '及至', '双方', '反之', '反应', '反映', '反过来', '反过来说', '取得', '受到', '变成', '另', '另一方面', '另外', '只是', '只有', '只要', '只限', '叫', '叫做', '召开', '叮咚', '可', '可以', '可是', '可能', '可见', '各', '各个', '各人', '各位', '各地', '各种', '各级', '各自', '合理', '同', '同一', '同时', '同样', '后来', '后面', '向', '向着', '吓', '吗', '否则', '吧', '吧哒', '吱', '呀', '呃', '呕', '呗', '呜', '呜呼', '呢', '周围', '呵', '呸', '呼哧', '咋', '和', '咚', '咦', '咱', '咱们', '咳', '哇', '哈', '哈哈', '哉', '哎', '哎呀', '哎哟', '哗', '哟', '哦', '哩', '哪', '哪个', '哪些', '哪儿', '哪天', '哪年', '哪怕', '哪样', '哪边', '哪里', '哼', '哼唷', '唉', '啊', '啐', '啥', '啦', '啪达', '喂', '喏', '喔唷', '嗡嗡', '嗬', '嗯', '嗳', '嘎', '嘎登', '嘘', '嘛', '嘻', '嘿', '因', '因为', '因此', '因而', '固然', '在', '在下', '地', '坚决', '坚持', '基本', '处理', '复杂', '多', '多少', '多数', '多次', '大力', '大多数', '大大', '大家', '大批', '大约', '大量', '失去', '她', '她们', '她的', '好的', '好象', '如', '如上所述', '如下', '如何', '如其', '如果', '如此', '如若', '存在', '宁', '宁可', '宁愿', '宁肯', '它', '它们', '它们的', '它的', '安全', '完全', '完成', '实现', '实际', '宣布', '容易', '密切', '对', '对于', '对应', '将', '少数', '尔后', '尚且', '尤其', '就', '就是', '就是说', '尽', '尽管', '属于', '岂但', '左右', '巨大', '巩固', '己', '已经', '帮助', '常常', '并', '并不', '并不是', '并且', '并没有', '广大', '广泛', '应当', '应用', '应该', '开外', '开始', '开展', '引起', '强烈', '强调', '归', '当', '当前', '当时', '当然', '当着', '形成', '彻底', '彼', '彼此', '往', '往往', '待', '後来', '後面', '得', '得出', '得到', '心里', '必然', '必要', '必须', '怎', '怎么', '怎么办', '怎么样', '怎样', '怎麽', '总之', '总是', '总的来看', '总的来说', '总的说来', '总结', '总而言之', '恰恰相反', '您', '意思', '愿意', '慢说', '成为', '我', '我们', '我的', '或', '或是', '或者', '战斗', '所', '所以', '所有', '所谓', '打', '扩大', '把', '抑或', '拿', '按', '按照', '换句话说', '换言之', '据', '掌握', '接着', '接著', '故', '故此', '整个', '方便', '方面', '旁人', '无宁', '无法', '无论', '既', '既是', '既然', '时候', '明显', '明确', '是', '是否', '是的', '显然', '显著', '普通', '普遍', '更加', '曾经', '替', '最后', '最大', '最好', '最後', '最近', '最高', '有', '有些', '有关', '有利', '有力', '有所', '有效', '有时', '有点', '有的', '有着', '有著', '望', '朝', '朝着', '本', '本着', '来', '来着', '极了', '构成', '果然', '果真', '某', '某个', '某些', '根据', '根本', '欢迎', '正在', '正如', '正常', '此', '此外', '此时', '此间', '毋宁', '每', '每个', '每天', '每年', '每当', '比', '比如', '比方', '比较', '毫不', '没有', '沿', '沿着', '注意', '深入', '清楚', '满足', '漫说', '焉', '然则', '然后', '然後', '然而', '照', '照着', '特别是', '特殊', '特点', '现代', '现在', '甚么', '甚而', '甚至', '用', '由', '由于', '由此可见', '的', '的话', '目前', '直到', '直接', '相似', '相信', '相反', '相同', '相对', '相对而言', '相应', '相当', '相等', '省得', '看出', '看到', '看来', '看看', '看见', '真是', '真正', '着', '着呢', '矣', '知道', '确定', '离', '积极', '移动', '突出', '突然', '立即', '第', '等', '等等', '管', '紧接着', '纵', '纵令', '纵使', '纵然', '练习', '组成', '经', '经常', '经过', '结合', '结果', '给', '绝对', '继续', '继而', '维持', '综上所述', '罢了', '考虑', '者', '而', '而且', '而况', '而外', '而已', '而是', '而言', '联系', '能', '能否', '能够', '腾', '自', '自个儿', '自从', '自各儿', '自家', '自己', '自身', '至', '至于', '良好', '若', '若是', '若非', '范围', '莫若', '获得', '虽', '虽则', '虽然', '虽说', '行为', '行动', '表明', '表示', '被', '要', '要不', '要不是', '要不然', '要么', '要是', '要求', '规定', '觉得', '认为', '认真', '认识', '让', '许多', '论', '设使', '设若', '该', '说明', '诸位', '谁', '谁知', '赶', '起', '起来', '起见', '趁', '趁着', '越是', '跟', '转动', '转变', '转贴', '较', '较之', '边', '达到', '迅速', '过', '过去', '过来', '运用', '还是', '还有', '这', '这个', '这么', '这么些', '这么样', '这么点儿', '这些', '这会儿', '这儿', '这就是说', '这时', '这样', '这点', '这种', '这边', '这里', '这麽', '进入', '进步', '进而', '进行', '连', '连同', '适应', '适当', '适用', '逐步', '逐渐', '通常', '通过', '造成', '遇到', '遭到', '避免', '那', '那个', '那么', '那么些', '那么样', '那些', '那会儿', '那儿', '那时', '那样', '那边', '那里', '那麽', '部分', '鄙人', '采取', '里面', '重大', '重新', '重要', '鉴于', '问题', '防止', '阿', '附近', '限制', '除', '除了', '除此之外', '除非', '随', '随着', '随著', '集中', '需要', '非但', '非常', '非徒', '靠', '顺', '顺着', '首先', '高兴', '是不是']\n",
            "\n",
            "\n",
            "Stopwords trong ngôn ngữ danish:\n",
            "['og', 'i', 'jeg', 'det', 'at', 'en', 'den', 'til', 'er', 'som', 'på', 'de', 'med', 'han', 'af', 'for', 'ikke', 'der', 'var', 'mig', 'sig', 'men', 'et', 'har', 'om', 'vi', 'min', 'havde', 'ham', 'hun', 'nu', 'over', 'da', 'fra', 'du', 'ud', 'sin', 'dem', 'os', 'op', 'man', 'hans', 'hvor', 'eller', 'hvad', 'skal', 'selv', 'her', 'alle', 'vil', 'blev', 'kunne', 'ind', 'når', 'være', 'dog', 'noget', 'ville', 'jo', 'deres', 'efter', 'ned', 'skulle', 'denne', 'end', 'dette', 'mit', 'også', 'under', 'have', 'dig', 'anden', 'hende', 'mine', 'alt', 'meget', 'sit', 'sine', 'vor', 'mod', 'disse', 'hvis', 'din', 'nogle', 'hos', 'blive', 'mange', 'ad', 'bliver', 'hendes', 'været', 'thi', 'jer', 'sådan']\n",
            "\n",
            "\n",
            "Stopwords trong ngôn ngữ dutch:\n",
            "['de', 'en', 'van', 'ik', 'te', 'dat', 'die', 'in', 'een', 'hij', 'het', 'niet', 'zijn', 'is', 'was', 'op', 'aan', 'met', 'als', 'voor', 'had', 'er', 'maar', 'om', 'hem', 'dan', 'zou', 'of', 'wat', 'mijn', 'men', 'dit', 'zo', 'door', 'over', 'ze', 'zich', 'bij', 'ook', 'tot', 'je', 'mij', 'uit', 'der', 'daar', 'haar', 'naar', 'heb', 'hoe', 'heeft', 'hebben', 'deze', 'u', 'want', 'nog', 'zal', 'me', 'zij', 'nu', 'ge', 'geen', 'omdat', 'iets', 'worden', 'toch', 'al', 'waren', 'veel', 'meer', 'doen', 'toen', 'moet', 'ben', 'zonder', 'kan', 'hun', 'dus', 'alles', 'onder', 'ja', 'eens', 'hier', 'wie', 'werd', 'altijd', 'doch', 'wordt', 'wezen', 'kunnen', 'ons', 'zelf', 'tegen', 'na', 'reeds', 'wil', 'kon', 'niets', 'uw', 'iemand', 'geweest', 'andere']\n",
            "\n",
            "\n",
            "Stopwords trong ngôn ngữ english:\n",
            "['a', 'about', 'above', 'after', 'again', 'against', 'ain', 'all', 'am', 'an', 'and', 'any', 'are', 'aren', \"aren't\", 'as', 'at', 'be', 'because', 'been', 'before', 'being', 'below', 'between', 'both', 'but', 'by', 'can', 'couldn', \"couldn't\", 'd', 'did', 'didn', \"didn't\", 'do', 'does', 'doesn', \"doesn't\", 'doing', 'don', \"don't\", 'down', 'during', 'each', 'few', 'for', 'from', 'further', 'had', 'hadn', \"hadn't\", 'has', 'hasn', \"hasn't\", 'have', 'haven', \"haven't\", 'having', 'he', \"he'd\", \"he'll\", 'her', 'here', 'hers', 'herself', \"he's\", 'him', 'himself', 'his', 'how', 'i', \"i'd\", 'if', \"i'll\", \"i'm\", 'in', 'into', 'is', 'isn', \"isn't\", 'it', \"it'd\", \"it'll\", \"it's\", 'its', 'itself', \"i've\", 'just', 'll', 'm', 'ma', 'me', 'mightn', \"mightn't\", 'more', 'most', 'mustn', \"mustn't\", 'my', 'myself', 'needn', \"needn't\", 'no', 'nor', 'not', 'now', 'o', 'of', 'off', 'on', 'once', 'only', 'or', 'other', 'our', 'ours', 'ourselves', 'out', 'over', 'own', 're', 's', 'same', 'shan', \"shan't\", 'she', \"she'd\", \"she'll\", \"she's\", 'should', 'shouldn', \"shouldn't\", \"should've\", 'so', 'some', 'such', 't', 'than', 'that', \"that'll\", 'the', 'their', 'theirs', 'them', 'themselves', 'then', 'there', 'these', 'they', \"they'd\", \"they'll\", \"they're\", \"they've\", 'this', 'those', 'through', 'to', 'too', 'under', 'until', 'up', 've', 'very', 'was', 'wasn', \"wasn't\", 'we', \"we'd\", \"we'll\", \"we're\", 'were', 'weren', \"weren't\", \"we've\", 'what', 'when', 'where', 'which', 'while', 'who', 'whom', 'why', 'will', 'with', 'won', \"won't\", 'wouldn', \"wouldn't\", 'y', 'you', \"you'd\", \"you'll\", 'your', \"you're\", 'yours', 'yourself', 'yourselves', \"you've\"]\n",
            "\n",
            "\n",
            "Stopwords trong ngôn ngữ finnish:\n",
            "['olla', 'olen', 'olet', 'on', 'olemme', 'olette', 'ovat', 'ole', 'oli', 'olisi', 'olisit', 'olisin', 'olisimme', 'olisitte', 'olisivat', 'olit', 'olin', 'olimme', 'olitte', 'olivat', 'ollut', 'olleet', 'en', 'et', 'ei', 'emme', 'ette', 'eivät', 'minä', 'minun', 'minut', 'minua', 'minussa', 'minusta', 'minuun', 'minulla', 'minulta', 'minulle', 'sinä', 'sinun', 'sinut', 'sinua', 'sinussa', 'sinusta', 'sinuun', 'sinulla', 'sinulta', 'sinulle', 'hän', 'hänen', 'hänet', 'häntä', 'hänessä', 'hänestä', 'häneen', 'hänellä', 'häneltä', 'hänelle', 'me', 'meidän', 'meidät', 'meitä', 'meissä', 'meistä', 'meihin', 'meillä', 'meiltä', 'meille', 'te', 'teidän', 'teidät', 'teitä', 'teissä', 'teistä', 'teihin', 'teillä', 'teiltä', 'teille', 'he', 'heidän', 'heidät', 'heitä', 'heissä', 'heistä', 'heihin', 'heillä', 'heiltä', 'heille', 'tämä', 'tämän', 'tätä', 'tässä', 'tästä', 'tähän', 'tallä', 'tältä', 'tälle', 'tänä', 'täksi', 'tuo', 'tuon', 'tuotä', 'tuossa', 'tuosta', 'tuohon', 'tuolla', 'tuolta', 'tuolle', 'tuona', 'tuoksi', 'se', 'sen', 'sitä', 'siinä', 'siitä', 'siihen', 'sillä', 'siltä', 'sille', 'sinä', 'siksi', 'nämä', 'näiden', 'näitä', 'näissä', 'näistä', 'näihin', 'näillä', 'näiltä', 'näille', 'näinä', 'näiksi', 'nuo', 'noiden', 'noita', 'noissa', 'noista', 'noihin', 'noilla', 'noilta', 'noille', 'noina', 'noiksi', 'ne', 'niiden', 'niitä', 'niissä', 'niistä', 'niihin', 'niillä', 'niiltä', 'niille', 'niinä', 'niiksi', 'kuka', 'kenen', 'kenet', 'ketä', 'kenessä', 'kenestä', 'keneen', 'kenellä', 'keneltä', 'kenelle', 'kenenä', 'keneksi', 'ketkä', 'keiden', 'ketkä', 'keitä', 'keissä', 'keistä', 'keihin', 'keillä', 'keiltä', 'keille', 'keinä', 'keiksi', 'mikä', 'minkä', 'minkä', 'mitä', 'missä', 'mistä', 'mihin', 'millä', 'miltä', 'mille', 'minä', 'miksi', 'mitkä', 'joka', 'jonka', 'jota', 'jossa', 'josta', 'johon', 'jolla', 'jolta', 'jolle', 'jona', 'joksi', 'jotka', 'joiden', 'joita', 'joissa', 'joista', 'joihin', 'joilla', 'joilta', 'joille', 'joina', 'joiksi', 'että', 'ja', 'jos', 'koska', 'kuin', 'mutta', 'niin', 'sekä', 'sillä', 'tai', 'vaan', 'vai', 'vaikka', 'kanssa', 'mukaan', 'noin', 'poikki', 'yli', 'kun', 'niin', 'nyt', 'itse']\n",
            "\n",
            "\n",
            "Stopwords trong ngôn ngữ french:\n",
            "['au', 'aux', 'avec', 'ce', 'ces', 'dans', 'de', 'des', 'du', 'elle', 'en', 'et', 'eux', 'il', 'ils', 'je', 'la', 'le', 'les', 'leur', 'lui', 'ma', 'mais', 'me', 'même', 'mes', 'moi', 'mon', 'ne', 'nos', 'notre', 'nous', 'on', 'ou', 'par', 'pas', 'pour', 'qu', 'que', 'qui', 'sa', 'se', 'ses', 'son', 'sur', 'ta', 'te', 'tes', 'toi', 'ton', 'tu', 'un', 'une', 'vos', 'votre', 'vous', 'c', 'd', 'j', 'l', 'à', 'm', 'n', 's', 't', 'y', 'été', 'étée', 'étées', 'étés', 'étant', 'étante', 'étants', 'étantes', 'suis', 'es', 'est', 'sommes', 'êtes', 'sont', 'serai', 'seras', 'sera', 'serons', 'serez', 'seront', 'serais', 'serait', 'serions', 'seriez', 'seraient', 'étais', 'était', 'étions', 'étiez', 'étaient', 'fus', 'fut', 'fûmes', 'fûtes', 'furent', 'sois', 'soit', 'soyons', 'soyez', 'soient', 'fusse', 'fusses', 'fût', 'fussions', 'fussiez', 'fussent', 'ayant', 'ayante', 'ayantes', 'ayants', 'eu', 'eue', 'eues', 'eus', 'ai', 'as', 'avons', 'avez', 'ont', 'aurai', 'auras', 'aura', 'aurons', 'aurez', 'auront', 'aurais', 'aurait', 'aurions', 'auriez', 'auraient', 'avais', 'avait', 'avions', 'aviez', 'avaient', 'eut', 'eûmes', 'eûtes', 'eurent', 'aie', 'aies', 'ait', 'ayons', 'ayez', 'aient', 'eusse', 'eusses', 'eût', 'eussions', 'eussiez', 'eussent']\n",
            "\n",
            "\n",
            "Stopwords trong ngôn ngữ german:\n",
            "['aber', 'alle', 'allem', 'allen', 'aller', 'alles', 'als', 'also', 'am', 'an', 'ander', 'andere', 'anderem', 'anderen', 'anderer', 'anderes', 'anderm', 'andern', 'anderr', 'anders', 'auch', 'auf', 'aus', 'bei', 'bin', 'bis', 'bist', 'da', 'damit', 'dann', 'der', 'den', 'des', 'dem', 'die', 'das', 'dass', 'daß', 'derselbe', 'derselben', 'denselben', 'desselben', 'demselben', 'dieselbe', 'dieselben', 'dasselbe', 'dazu', 'dein', 'deine', 'deinem', 'deinen', 'deiner', 'deines', 'denn', 'derer', 'dessen', 'dich', 'dir', 'du', 'dies', 'diese', 'diesem', 'diesen', 'dieser', 'dieses', 'doch', 'dort', 'durch', 'ein', 'eine', 'einem', 'einen', 'einer', 'eines', 'einig', 'einige', 'einigem', 'einigen', 'einiger', 'einiges', 'einmal', 'er', 'ihn', 'ihm', 'es', 'etwas', 'euer', 'eure', 'eurem', 'euren', 'eurer', 'eures', 'für', 'gegen', 'gewesen', 'hab', 'habe', 'haben', 'hat', 'hatte', 'hatten', 'hier', 'hin', 'hinter', 'ich', 'mich', 'mir', 'ihr', 'ihre', 'ihrem', 'ihren', 'ihrer', 'ihres', 'euch', 'im', 'in', 'indem', 'ins', 'ist', 'jede', 'jedem', 'jeden', 'jeder', 'jedes', 'jene', 'jenem', 'jenen', 'jener', 'jenes', 'jetzt', 'kann', 'kein', 'keine', 'keinem', 'keinen', 'keiner', 'keines', 'können', 'könnte', 'machen', 'man', 'manche', 'manchem', 'manchen', 'mancher', 'manches', 'mein', 'meine', 'meinem', 'meinen', 'meiner', 'meines', 'mit', 'muss', 'musste', 'nach', 'nicht', 'nichts', 'noch', 'nun', 'nur', 'ob', 'oder', 'ohne', 'sehr', 'sein', 'seine', 'seinem', 'seinen', 'seiner', 'seines', 'selbst', 'sich', 'sie', 'ihnen', 'sind', 'so', 'solche', 'solchem', 'solchen', 'solcher', 'solches', 'soll', 'sollte', 'sondern', 'sonst', 'über', 'um', 'und', 'uns', 'unsere', 'unserem', 'unseren', 'unser', 'unseres', 'unter', 'viel', 'vom', 'von', 'vor', 'während', 'war', 'waren', 'warst', 'was', 'weg', 'weil', 'weiter', 'welche', 'welchem', 'welchen', 'welcher', 'welches', 'wenn', 'werde', 'werden', 'wie', 'wieder', 'will', 'wir', 'wird', 'wirst', 'wo', 'wollen', 'wollte', 'würde', 'würden', 'zu', 'zum', 'zur', 'zwar', 'zwischen']\n",
            "\n",
            "\n",
            "Stopwords trong ngôn ngữ greek:\n",
            "['αλλα', 'αν', 'αντι', 'απο', 'αυτα', 'αυτεσ', 'αυτη', 'αυτο', 'αυτοι', 'αυτοσ', 'αυτουσ', 'αυτων', 'αἱ', 'αἳ', 'αἵ', 'αὐτόσ', 'αὐτὸς', 'αὖ', 'γάρ', 'γα', 'γα^', 'γε', 'για', 'γοῦν', 'γὰρ', \"δ'\", 'δέ', 'δή', 'δαί', 'δαίσ', 'δαὶ', 'δαὶς', 'δε', 'δεν', \"δι'\", 'διά', 'διὰ', 'δὲ', 'δὴ', 'δ’', 'εαν', 'ειμαι', 'ειμαστε', 'ειναι', 'εισαι', 'ειστε', 'εκεινα', 'εκεινεσ', 'εκεινη', 'εκεινο', 'εκεινοι', 'εκεινοσ', 'εκεινουσ', 'εκεινων', 'ενω', 'επ', 'επι', 'εἰ', 'εἰμί', 'εἰμὶ', 'εἰς', 'εἰσ', 'εἴ', 'εἴμι', 'εἴτε', 'η', 'θα', 'ισωσ', 'κ', 'καί', 'καίτοι', 'καθ', 'και', 'κατ', 'κατά', 'κατα', 'κατὰ', 'καὶ', 'κι', 'κἀν', 'κἂν', 'μέν', 'μή', 'μήτε', 'μα', 'με', 'μεθ', 'μετ', 'μετά', 'μετα', 'μετὰ', 'μη', 'μην', 'μἐν', 'μὲν', 'μὴ', 'μὴν', 'να', 'ο', 'οι', 'ομωσ', 'οπωσ', 'οσο', 'οτι', 'οἱ', 'οἳ', 'οἷς', 'οὐ', 'οὐδ', 'οὐδέ', 'οὐδείσ', 'οὐδεὶς', 'οὐδὲ', 'οὐδὲν', 'οὐκ', 'οὐχ', 'οὐχὶ', 'οὓς', 'οὔτε', 'οὕτω', 'οὕτως', 'οὕτωσ', 'οὖν', 'οὗ', 'οὗτος', 'οὗτοσ', 'παρ', 'παρά', 'παρα', 'παρὰ', 'περί', 'περὶ', 'ποια', 'ποιεσ', 'ποιο', 'ποιοι', 'ποιοσ', 'ποιουσ', 'ποιων', 'ποτε', 'που', 'ποῦ', 'προ', 'προσ', 'πρόσ', 'πρὸ', 'πρὸς', 'πως', 'πωσ', 'σε', 'στη', 'στην', 'στο', 'στον', 'σόσ', 'σύ', 'σύν', 'σὸς', 'σὺ', 'σὺν', 'τά', 'τήν', 'τί', 'τίς', 'τίσ', 'τα', 'ταῖς', 'τε', 'την', 'τησ', 'τι', 'τινα', 'τις', 'τισ', 'το', 'τοί', 'τοι', 'τοιοῦτος', 'τοιοῦτοσ', 'τον', 'τοτε', 'του', 'τούσ', 'τοὺς', 'τοῖς', 'τοῦ', 'των', 'τό', 'τόν', 'τότε', 'τὰ', 'τὰς', 'τὴν', 'τὸ', 'τὸν', 'τῆς', 'τῆσ', 'τῇ', 'τῶν', 'τῷ', 'ωσ', \"ἀλλ'\", 'ἀλλά', 'ἀλλὰ', 'ἀλλ’', 'ἀπ', 'ἀπό', 'ἀπὸ', 'ἀφ', 'ἂν', 'ἃ', 'ἄλλος', 'ἄλλοσ', 'ἄν', 'ἄρα', 'ἅμα', 'ἐάν', 'ἐγώ', 'ἐγὼ', 'ἐκ', 'ἐμόσ', 'ἐμὸς', 'ἐν', 'ἐξ', 'ἐπί', 'ἐπεὶ', 'ἐπὶ', 'ἐστι', 'ἐφ', 'ἐὰν', 'ἑαυτοῦ', 'ἔτι', 'ἡ', 'ἢ', 'ἣ', 'ἤ', 'ἥ', 'ἧς', 'ἵνα', 'ὁ', 'ὃ', 'ὃν', 'ὃς', 'ὅ', 'ὅδε', 'ὅθεν', 'ὅπερ', 'ὅς', 'ὅσ', 'ὅστις', 'ὅστισ', 'ὅτε', 'ὅτι', 'ὑμόσ', 'ὑπ', 'ὑπέρ', 'ὑπό', 'ὑπὲρ', 'ὑπὸ', 'ὡς', 'ὡσ', 'ὥς', 'ὥστε', 'ὦ', 'ᾧ']\n",
            "\n",
            "\n",
            "Stopwords trong ngôn ngữ hebrew:\n",
            "['אני', 'את', 'אתה', 'אנחנו', 'אתן', 'אתם', 'הם', 'הן', 'היא', 'הוא', 'שלי', 'שלו', 'שלך', 'שלה', 'שלנו', 'שלכם', 'שלכן', 'שלהם', 'שלהן', 'לי', 'לו', 'לה', 'לנו', 'לכם', 'לכן', 'להם', 'להן', 'אותה', 'אותו', 'זה', 'זאת', 'אלה', 'אלו', 'תחת', 'מתחת', 'מעל', 'בין', 'עם', 'עד', 'נגר', 'על', 'אל', 'מול', 'של', 'אצל', 'כמו', 'אחר', 'אותו', 'בלי', 'לפני', 'אחרי', 'מאחורי', 'עלי', 'עליו', 'עליה', 'עליך', 'עלינו', 'עליכם', 'לעיכן', 'עליהם', 'עליהן', 'כל', 'כולם', 'כולן', 'כך', 'ככה', 'כזה', 'זה', 'זות', 'אותי', 'אותה', 'אותם', 'אותך', 'אותו', 'אותן', 'אותנו', 'ואת', 'את', 'אתכם', 'אתכן', 'איתי', 'איתו', 'איתך', 'איתה', 'איתם', 'איתן', 'איתנו', 'איתכם', 'איתכן', 'יהיה', 'תהיה', 'היתי', 'היתה', 'היה', 'להיות', 'עצמי', 'עצמו', 'עצמה', 'עצמם', 'עצמן', 'עצמנו', 'עצמהם', 'עצמהן', 'מי', 'מה', 'איפה', 'היכן', 'במקום שבו', 'אם', 'לאן', 'למקום שבו', 'מקום בו', 'איזה', 'מהיכן', 'איך', 'כיצד', 'באיזו מידה', 'מתי', 'בשעה ש', 'כאשר', 'כש', 'למרות', 'לפני', 'אחרי', 'מאיזו סיבה', 'הסיבה שבגללה', 'למה', 'מדוע', 'לאיזו תכלית', 'כי', 'יש', 'אין', 'אך', 'מנין', 'מאין', 'מאיפה', 'יכל', 'יכלה', 'יכלו', 'יכול', 'יכולה', 'יכולים', 'יכולות', 'יוכלו', 'יוכל', 'מסוגל', 'לא', 'רק', 'אולי', 'אין', 'לאו', 'אי', 'כלל', 'נגד', 'אם', 'עם', 'אל', 'אלה', 'אלו', 'אף', 'על', 'מעל', 'מתחת', 'מצד', 'בשביל', 'לבין', 'באמצע', 'בתוך', 'דרך', 'מבעד', 'באמצעות', 'למעלה', 'למטה', 'מחוץ', 'מן', 'לעבר', 'מכאן', 'כאן', 'הנה', 'הרי', 'פה', 'שם', 'אך', 'ברם', 'שוב', 'אבל', 'מבלי', 'בלי', 'מלבד', 'רק', 'בגלל', 'מכיוון', 'עד', 'אשר', 'ואילו', 'למרות', 'אס', 'כמו', 'כפי', 'אז', 'אחרי', 'כן', 'לכן', 'לפיכך', 'מאד', 'עז', 'מעט', 'מעטים', 'במידה', 'שוב', 'יותר', 'מדי', 'גם', 'כן', 'נו', 'אחר', 'אחרת', 'אחרים', 'אחרות', 'אשר', 'או']\n",
            "\n",
            "\n",
            "Stopwords trong ngôn ngữ hinglish:\n",
            "['a', 'aadi', 'aaj', 'aap', 'aapne', 'aata', 'aati', 'aaya', 'aaye', 'ab', 'abbe', 'abbey', 'abe', 'abhi', 'able', 'about', 'above', 'accha', 'according', 'accordingly', 'acha', 'achcha', 'across', 'actually', 'after', 'afterwards', 'again', 'against', 'agar', 'ain', 'aint', \"ain't\", 'aisa', 'aise', 'aisi', 'alag', 'all', 'allow', 'allows', 'almost', 'alone', 'along', 'already', 'also', 'although', 'always', 'am', 'among', 'amongst', 'an', 'and', 'andar', 'another', 'any', 'anybody', 'anyhow', 'anyone', 'anything', 'anyway', 'anyways', 'anywhere', 'ap', 'apan', 'apart', 'apna', 'apnaa', 'apne', 'apni', 'appear', 'are', 'aren', 'arent', \"aren't\", 'around', 'arre', 'as', 'aside', 'ask', 'asking', 'at', 'aur', 'avum', 'aya', 'aye', 'baad', 'baar', 'bad', 'bahut', 'bana', 'banae', 'banai', 'banao', 'banaya', 'banaye', 'banayi', 'banda', 'bande', 'bandi', 'bane', 'bani', 'bas', 'bata', 'batao', 'bc', 'be', 'became', 'because', 'become', 'becomes', 'becoming', 'been', 'before', 'beforehand', 'behind', 'being', 'below', 'beside', 'besides', 'best', 'better', 'between', 'beyond', 'bhai', 'bheetar', 'bhi', 'bhitar', 'bht', 'bilkul', 'bohot', 'bol', 'bola', 'bole', 'boli', 'bolo', 'bolta', 'bolte', 'bolti', 'both', 'brief', 'bro', 'btw', 'but', 'by', 'came', 'can', 'cannot', 'cant', \"can't\", 'cause', 'causes', 'certain', 'certainly', 'chahiye', 'chaiye', 'chal', 'chalega', 'chhaiye', 'clearly', \"c'mon\", 'com', 'come', 'comes', 'could', 'couldn', 'couldnt', \"couldn't\", 'd', 'de', 'dede', 'dega', 'degi', 'dekh', 'dekha', 'dekhe', 'dekhi', 'dekho', 'denge', 'dhang', 'di', 'did', 'didn', 'didnt', \"didn't\", 'dijiye', 'diya', 'diyaa', 'diye', 'diyo', 'do', 'does', 'doesn', 'doesnt', \"doesn't\", 'doing', 'done', 'dono', 'dont', \"don't\", 'doosra', 'doosre', 'down', 'downwards', 'dude', 'dunga', 'dungi', 'during', 'dusra', 'dusre', 'dusri', 'dvaara', 'dvara', 'dwaara', 'dwara', 'each', 'edu', 'eg', 'eight', 'either', 'ek', 'else', 'elsewhere', 'enough', 'etc', 'even', 'ever', 'every', 'everybody', 'everyone', 'everything', 'everywhere', 'ex', 'exactly', 'example', 'except', 'far', 'few', 'fifth', 'fir', 'first', 'five', 'followed', 'following', 'follows', 'for', 'forth', 'four', 'from', 'further', 'furthermore', 'gaya', 'gaye', 'gayi', 'get', 'gets', 'getting', 'ghar', 'given', 'gives', 'go', 'goes', 'going', 'gone', 'good', 'got', 'gotten', 'greetings', 'haan', 'had', 'hadd', 'hadn', 'hadnt', \"hadn't\", 'hai', 'hain', 'hamara', 'hamare', 'hamari', 'hamne', 'han', 'happens', 'har', 'hardly', 'has', 'hasn', 'hasnt', \"hasn't\", 'have', 'haven', 'havent', \"haven't\", 'having', 'he', 'hello', 'help', 'hence', 'her', 'here', 'hereafter', 'hereby', 'herein', \"here's\", 'hereupon', 'hers', 'herself', \"he's\", 'hi', 'him', 'himself', 'his', 'hither', 'hm', 'hmm', 'ho', 'hoga', 'hoge', 'hogi', 'hona', 'honaa', 'hone', 'honge', 'hongi', 'honi', 'hopefully', 'hota', 'hotaa', 'hote', 'hoti', 'how', 'howbeit', 'however', 'hoyenge', 'hoyengi', 'hu', 'hua', 'hue', 'huh', 'hui', 'hum', 'humein', 'humne', 'hun', 'huye', 'huyi', 'i', \"i'd\", 'idk', 'ie', 'if', \"i'll\", \"i'm\", 'imo', 'in', 'inasmuch', 'inc', 'inhe', 'inhi', 'inho', 'inka', 'inkaa', 'inke', 'inki', 'inn', 'inner', 'inse', 'insofar', 'into', 'inward', 'is', 'ise', 'isi', 'iska', 'iskaa', 'iske', 'iski', 'isme', 'isn', 'isne', 'isnt', \"isn't\", 'iss', 'isse', 'issi', 'isski', 'it', \"it'd\", \"it'll\", 'itna', 'itne', 'itni', 'itno', 'its', \"it's\", 'itself', 'ityaadi', 'ityadi', \"i've\", 'ja', 'jaa', 'jab', 'jabh', 'jaha', 'jahaan', 'jahan', 'jaisa', 'jaise', 'jaisi', 'jata', 'jayega', 'jidhar', 'jin', 'jinhe', 'jinhi', 'jinho', 'jinhone', 'jinka', 'jinke', 'jinki', 'jinn', 'jis', 'jise', 'jiska', 'jiske', 'jiski', 'jisme', 'jiss', 'jisse', 'jitna', 'jitne', 'jitni', 'jo', 'just', 'jyaada', 'jyada', 'k', 'ka', 'kaafi', 'kab', 'kabhi', 'kafi', 'kaha', 'kahaa', 'kahaan', 'kahan', 'kahi', 'kahin', 'kahte', 'kaisa', 'kaise', 'kaisi', 'kal', 'kam', 'kar', 'kara', 'kare', 'karega', 'karegi', 'karen', 'karenge', 'kari', 'karke', 'karna', 'karne', 'karni', 'karo', 'karta', 'karte', 'karti', 'karu', 'karun', 'karunga', 'karungi', 'kaun', 'kaunsa', 'kayi', 'kch', 'ke', 'keep', 'keeps', 'keh', 'kehte', 'kept', 'khud', 'ki', 'kin', 'kine', 'kinhe', 'kinho', 'kinka', 'kinke', 'kinki', 'kinko', 'kinn', 'kino', 'kis', 'kise', 'kisi', 'kiska', 'kiske', 'kiski', 'kisko', 'kisliye', 'kisne', 'kitna', 'kitne', 'kitni', 'kitno', 'kiya', 'kiye', 'know', 'known', 'knows', 'ko', 'koi', 'kon', 'konsa', 'koyi', 'krna', 'krne', 'kuch', 'kuchch', 'kuchh', 'kul', 'kull', 'kya', 'kyaa', 'kyu', 'kyuki', 'kyun', 'kyunki', 'lagta', 'lagte', 'lagti', 'last', 'lately', 'later', 'le', 'least', 'lekar', 'lekin', 'less', 'lest', 'let', \"let's\", 'li', 'like', 'liked', 'likely', 'little', 'liya', 'liye', 'll', 'lo', 'log', 'logon', 'lol', 'look', 'looking', 'looks', 'ltd', 'lunga', 'm', 'maan', 'maana', 'maane', 'maani', 'maano', 'magar', 'mai', 'main', 'maine', 'mainly', 'mana', 'mane', 'mani', 'mano', 'many', 'mat', 'may', 'maybe', 'me', 'mean', 'meanwhile', 'mein', 'mera', 'mere', 'merely', 'meri', 'might', 'mightn', 'mightnt', \"mightn't\", 'mil', 'mjhe', 'more', 'moreover', 'most', 'mostly', 'much', 'mujhe', 'must', 'mustn', 'mustnt', \"mustn't\", 'my', 'myself', 'na', 'naa', 'naah', 'nahi', 'nahin', 'nai', 'name', 'namely', 'nd', 'ne', 'near', 'nearly', 'necessary', 'neeche', 'need', 'needn', 'neednt', \"needn't\", 'needs', 'neither', 'never', 'nevertheless', 'new', 'next', 'nhi', 'nine', 'no', 'nobody', 'non', 'none', 'noone', 'nope', 'nor', 'normally', 'not', 'nothing', 'novel', 'now', 'nowhere', 'o', 'obviously', 'of', 'off', 'often', 'oh', 'ok', 'okay', 'old', 'on', 'once', 'one', 'ones', 'only', 'onto', 'or', 'other', 'others', 'otherwise', 'ought', 'our', 'ours', 'ourselves', 'out', 'outside', 'over', 'overall', 'own', 'par', 'pata', 'pe', 'pehla', 'pehle', 'pehli', 'people', 'per', 'perhaps', 'phla', 'phle', 'phli', 'placed', 'please', 'plus', 'poora', 'poori', 'provides', 'pura', 'puri', 'q', 'que', 'quite', 'raha', 'rahaa', 'rahe', 'rahi', 'rakh', 'rakha', 'rakhe', 'rakhen', 'rakhi', 'rakho', 'rather', 're', 'really', 'reasonably', 'regarding', 'regardless', 'regards', 'rehte', 'rha', 'rhaa', 'rhe', 'rhi', 'ri', 'right', 's', 'sa', 'saara', 'saare', 'saath', 'sab', 'sabhi', 'sabse', 'sahi', 'said', 'sakta', 'saktaa', 'sakte', 'sakti', 'same', 'sang', 'sara', 'sath', 'saw', 'say', 'saying', 'says', 'se', 'second', 'secondly', 'see', 'seeing', 'seem', 'seemed', 'seeming', 'seems', 'seen', 'self', 'selves', 'sensible', 'sent', 'serious', 'seriously', 'seven', 'several', 'shall', 'shan', 'shant', \"shan't\", 'she', \"she's\", 'should', 'shouldn', 'shouldnt', \"shouldn't\", \"should've\", 'si', 'since', 'six', 'so', 'soch', 'some', 'somebody', 'somehow', 'someone', 'something', 'sometime', 'sometimes', 'somewhat', 'somewhere', 'soon', 'still', 'sub', 'such', 'sup', 'sure', 't', 'tab', 'tabh', 'tak', 'take', 'taken', 'tarah', 'teen', 'teeno', 'teesra', 'teesre', 'teesri', 'tell', 'tends', 'tera', 'tere', 'teri', 'th', 'tha', 'than', 'thank', 'thanks', 'thanx', 'that', \"that'll\", 'thats', \"that's\", 'the', 'theek', 'their', 'theirs', 'them', 'themselves', 'then', 'thence', 'there', 'thereafter', 'thereby', 'therefore', 'therein', 'theres', \"there's\", 'thereupon', 'these', 'they', \"they'd\", \"they'll\", \"they're\", \"they've\", 'thi', 'thik', 'thing', 'think', 'thinking', 'third', 'this', 'tho', 'thoda', 'thodi', 'thorough', 'thoroughly', 'those', 'though', 'thought', 'three', 'through', 'throughout', 'thru', 'thus', 'tjhe', 'to', 'together', 'toh', 'too', 'took', 'toward', 'towards', 'tried', 'tries', 'true', 'truly', 'try', 'trying', 'tu', 'tujhe', 'tum', 'tumhara', 'tumhare', 'tumhari', 'tune', 'twice', 'two', 'um', 'umm', 'un', 'under', 'unhe', 'unhi', 'unho', 'unhone', 'unka', 'unkaa', 'unke', 'unki', 'unko', 'unless', 'unlikely', 'unn', 'unse', 'until', 'unto', 'up', 'upar', 'upon', 'us', 'use', 'used', 'useful', 'uses', 'usi', 'using', 'uska', 'uske', 'usne', 'uss', 'usse', 'ussi', 'usually', 'vaala', 'vaale', 'vaali', 'vahaan', 'vahan', 'vahi', 'vahin', 'vaisa', 'vaise', 'vaisi', 'vala', 'vale', 'vali', 'various', 've', 'very', 'via', 'viz', 'vo', 'waala', 'waale', 'waali', 'wagaira', 'wagairah', 'wagerah', 'waha', 'wahaan', 'wahan', 'wahi', 'wahin', 'waisa', 'waise', 'waisi', 'wala', 'wale', 'wali', 'want', 'wants', 'was', 'wasn', 'wasnt', \"wasn't\", 'way', 'we', \"we'd\", 'well', \"we'll\", 'went', 'were', \"we're\", 'weren', 'werent', \"weren't\", \"we've\", 'what', 'whatever', \"what's\", 'when', 'whence', 'whenever', 'where', 'whereafter', 'whereas', 'whereby', 'wherein', \"where's\", 'whereupon', 'wherever', 'whether', 'which', 'while', 'who', 'whoever', 'whole', 'whom', \"who's\", 'whose', 'why', 'will', 'willing', 'with', 'within', 'without', 'wo', 'woh', 'wohi', 'won', 'wont', \"won't\", 'would', 'wouldn', 'wouldnt', \"wouldn't\", 'y', 'ya', 'yadi', 'yah', 'yaha', 'yahaan', 'yahan', 'yahi', 'yahin', 'ye', 'yeah', 'yeh', 'yehi', 'yes', 'yet', 'you', \"you'd\", \"you'll\", 'your', \"you're\", 'yours', 'yourself', 'yourselves', \"you've\", 'yup']\n",
            "\n",
            "\n",
            "Stopwords trong ngôn ngữ hungarian:\n",
            "['a', 'ahogy', 'ahol', 'aki', 'akik', 'akkor', 'alatt', 'által', 'általában', 'amely', 'amelyek', 'amelyekben', 'amelyeket', 'amelyet', 'amelynek', 'ami', 'amit', 'amolyan', 'amíg', 'amikor', 'át', 'abban', 'ahhoz', 'annak', 'arra', 'arról', 'az', 'azok', 'azon', 'azt', 'azzal', 'azért', 'aztán', 'azután', 'azonban', 'bár', 'be', 'belül', 'benne', 'cikk', 'cikkek', 'cikkeket', 'csak', 'de', 'e', 'eddig', 'egész', 'egy', 'egyes', 'egyetlen', 'egyéb', 'egyik', 'egyre', 'ekkor', 'el', 'elég', 'ellen', 'elõ', 'elõször', 'elõtt', 'elsõ', 'én', 'éppen', 'ebben', 'ehhez', 'emilyen', 'ennek', 'erre', 'ez', 'ezt', 'ezek', 'ezen', 'ezzel', 'ezért', 'és', 'fel', 'felé', 'hanem', 'hiszen', 'hogy', 'hogyan', 'igen', 'így', 'illetve', 'ill.', 'ill', 'ilyen', 'ilyenkor', 'ison', 'ismét', 'itt', 'jó', 'jól', 'jobban', 'kell', 'kellett', 'keresztül', 'keressünk', 'ki', 'kívül', 'között', 'közül', 'legalább', 'lehet', 'lehetett', 'legyen', 'lenne', 'lenni', 'lesz', 'lett', 'maga', 'magát', 'majd', 'majd', 'már', 'más', 'másik', 'meg', 'még', 'mellett', 'mert', 'mely', 'melyek', 'mi', 'mit', 'míg', 'miért', 'milyen', 'mikor', 'minden', 'mindent', 'mindenki', 'mindig', 'mint', 'mintha', 'mivel', 'most', 'nagy', 'nagyobb', 'nagyon', 'ne', 'néha', 'nekem', 'neki', 'nem', 'néhány', 'nélkül', 'nincs', 'olyan', 'ott', 'össze', 'õ', 'õk', 'õket', 'pedig', 'persze', 'rá', 's', 'saját', 'sem', 'semmi', 'sok', 'sokat', 'sokkal', 'számára', 'szemben', 'szerint', 'szinte', 'talán', 'tehát', 'teljes', 'tovább', 'továbbá', 'több', 'úgy', 'ugyanis', 'új', 'újabb', 'újra', 'után', 'utána', 'utolsó', 'vagy', 'vagyis', 'valaki', 'valami', 'valamint', 'való', 'vagyok', 'van', 'vannak', 'volt', 'voltam', 'voltak', 'voltunk', 'vissza', 'vele', 'viszont', 'volna']\n",
            "\n",
            "\n",
            "Stopwords trong ngôn ngữ indonesian:\n",
            "['ada', 'adalah', 'adanya', 'adapun', 'agak', 'agaknya', 'agar', 'akan', 'akankah', 'akhir', 'akhiri', 'akhirnya', 'aku', 'akulah', 'amat', 'amatlah', 'anda', 'andalah', 'antar', 'antara', 'antaranya', 'apa', 'apaan', 'apabila', 'apakah', 'apalagi', 'apatah', 'artinya', 'asal', 'asalkan', 'atas', 'atau', 'ataukah', 'ataupun', 'awal', 'awalnya', 'bagai', 'bagaikan', 'bagaimana', 'bagaimanakah', 'bagaimanapun', 'bagi', 'bagian', 'bahkan', 'bahwa', 'bahwasanya', 'baik', 'bakal', 'bakalan', 'balik', 'banyak', 'bapak', 'baru', 'bawah', 'beberapa', 'begini', 'beginian', 'beginikah', 'beginilah', 'begitu', 'begitukah', 'begitulah', 'begitupun', 'bekerja', 'belakang', 'belakangan', 'belum', 'belumlah', 'benar', 'benarkah', 'benarlah', 'berada', 'berakhir', 'berakhirlah', 'berakhirnya', 'berapa', 'berapakah', 'berapalah', 'berapapun', 'berarti', 'berawal', 'berbagai', 'berdatangan', 'beri', 'berikan', 'berikut', 'berikutnya', 'berjumlah', 'berkali-kali', 'berkata', 'berkehendak', 'berkeinginan', 'berkenaan', 'berlainan', 'berlalu', 'berlangsung', 'berlebihan', 'bermacam', 'bermacam-macam', 'bermaksud', 'bermula', 'bersama', 'bersama-sama', 'bersiap', 'bersiap-siap', 'bertanya', 'bertanya-tanya', 'berturut', 'berturut-turut', 'bertutur', 'berujar', 'berupa', 'besar', 'betul', 'betulkah', 'biasa', 'biasanya', 'bila', 'bilakah', 'bisa', 'bisakah', 'boleh', 'bolehkah', 'bolehlah', 'buat', 'bukan', 'bukankah', 'bukanlah', 'bukannya', 'bulan', 'bung', 'cara', 'caranya', 'cukup', 'cukupkah', 'cukuplah', 'cuma', 'dahulu', 'dalam', 'dan', 'dapat', 'dari', 'daripada', 'datang', 'dekat', 'demi', 'demikian', 'demikianlah', 'dengan', 'depan', 'di', 'dia', 'diakhiri', 'diakhirinya', 'dialah', 'diantara', 'diantaranya', 'diberi', 'diberikan', 'diberikannya', 'dibuat', 'dibuatnya', 'didapat', 'didatangkan', 'digunakan', 'diibaratkan', 'diibaratkannya', 'diingat', 'diingatkan', 'diinginkan', 'dijawab', 'dijelaskan', 'dijelaskannya', 'dikarenakan', 'dikatakan', 'dikatakannya', 'dikerjakan', 'diketahui', 'diketahuinya', 'dikira', 'dilakukan', 'dilalui', 'dilihat', 'dimaksud', 'dimaksudkan', 'dimaksudkannya', 'dimaksudnya', 'diminta', 'dimintai', 'dimisalkan', 'dimulai', 'dimulailah', 'dimulainya', 'dimungkinkan', 'dini', 'dipastikan', 'diperbuat', 'diperbuatnya', 'dipergunakan', 'diperkirakan', 'diperlihatkan', 'diperlukan', 'diperlukannya', 'dipersoalkan', 'dipertanyakan', 'dipunyai', 'diri', 'dirinya', 'disampaikan', 'disebut', 'disebutkan', 'disebutkannya', 'disini', 'disinilah', 'ditambahkan', 'ditandaskan', 'ditanya', 'ditanyai', 'ditanyakan', 'ditegaskan', 'ditujukan', 'ditunjuk', 'ditunjuki', 'ditunjukkan', 'ditunjukkannya', 'ditunjuknya', 'dituturkan', 'dituturkannya', 'diucapkan', 'diucapkannya', 'diungkapkan', 'dong', 'dua', 'dulu', 'empat', 'enggak', 'enggaknya', 'entah', 'entahlah', 'guna', 'gunakan', 'hal', 'hampir', 'hanya', 'hanyalah', 'hari', 'harus', 'haruslah', 'harusnya', 'hendak', 'hendaklah', 'hendaknya', 'hingga', 'ia', 'ialah', 'ibarat', 'ibaratkan', 'ibaratnya', 'ibu', 'ikut', 'ingat', 'ingat-ingat', 'ingin', 'inginkah', 'inginkan', 'ini', 'inikah', 'inilah', 'itu', 'itukah', 'itulah', 'jadi', 'jadilah', 'jadinya', 'jangan', 'jangankan', 'janganlah', 'jauh', 'jawab', 'jawaban', 'jawabnya', 'jelas', 'jelaskan', 'jelaslah', 'jelasnya', 'jika', 'jikalau', 'juga', 'jumlah', 'jumlahnya', 'justru', 'kala', 'kalau', 'kalaulah', 'kalaupun', 'kalian', 'kami', 'kamilah', 'kamu', 'kamulah', 'kan', 'kapan', 'kapankah', 'kapanpun', 'karena', 'karenanya', 'kasus', 'kata', 'katakan', 'katakanlah', 'katanya', 'ke', 'keadaan', 'kebetulan', 'kecil', 'kedua', 'keduanya', 'keinginan', 'kelamaan', 'kelihatan', 'kelihatannya', 'kelima', 'keluar', 'kembali', 'kemudian', 'kemungkinan', 'kemungkinannya', 'kenapa', 'kepada', 'kepadanya', 'kesampaian', 'keseluruhan', 'keseluruhannya', 'keterlaluan', 'ketika', 'khususnya', 'kini', 'kinilah', 'kira', 'kira-kira', 'kiranya', 'kita', 'kitalah', 'kok', 'kurang', 'lagi', 'lagian', 'lah', 'lain', 'lainnya', 'lalu', 'lama', 'lamanya', 'lanjut', 'lanjutnya', 'lebih', 'lewat', 'lima', 'luar', 'macam', 'maka', 'makanya', 'makin', 'malah', 'malahan', 'mampu', 'mampukah', 'mana', 'manakala', 'manalagi', 'masa', 'masalah', 'masalahnya', 'masih', 'masihkah', 'masing', 'masing-masing', 'mau', 'maupun', 'melainkan', 'melakukan', 'melalui', 'melihat', 'melihatnya', 'memang', 'memastikan', 'memberi', 'memberikan', 'membuat', 'memerlukan', 'memihak', 'meminta', 'memintakan', 'memisalkan', 'memperbuat', 'mempergunakan', 'memperkirakan', 'memperlihatkan', 'mempersiapkan', 'mempersoalkan', 'mempertanyakan', 'mempunyai', 'memulai', 'memungkinkan', 'menaiki', 'menambahkan', 'menandaskan', 'menanti', 'menanti-nanti', 'menantikan', 'menanya', 'menanyai', 'menanyakan', 'mendapat', 'mendapatkan', 'mendatang', 'mendatangi', 'mendatangkan', 'menegaskan', 'mengakhiri', 'mengapa', 'mengatakan', 'mengatakannya', 'mengenai', 'mengerjakan', 'mengetahui', 'menggunakan', 'menghendaki', 'mengibaratkan', 'mengibaratkannya', 'mengingat', 'mengingatkan', 'menginginkan', 'mengira', 'mengucapkan', 'mengucapkannya', 'mengungkapkan', 'menjadi', 'menjawab', 'menjelaskan', 'menuju', 'menunjuk', 'menunjuki', 'menunjukkan', 'menunjuknya', 'menurut', 'menuturkan', 'menyampaikan', 'menyangkut', 'menyatakan', 'menyebutkan', 'menyeluruh', 'menyiapkan', 'merasa', 'mereka', 'merekalah', 'merupakan', 'meski', 'meskipun', 'meyakini', 'meyakinkan', 'minta', 'mirip', 'misal', 'misalkan', 'misalnya', 'mula', 'mulai', 'mulailah', 'mulanya', 'mungkin', 'mungkinkah', 'nah', 'naik', 'namun', 'nanti', 'nantinya', 'nyaris', 'nyatanya', 'oleh', 'olehnya', 'pada', 'padahal', 'padanya', 'pak', 'paling', 'panjang', 'pantas', 'para', 'pasti', 'pastilah', 'penting', 'pentingnya', 'per', 'percuma', 'perlu', 'perlukah', 'perlunya', 'pernah', 'persoalan', 'pertama', 'pertama-tama', 'pertanyaan', 'pertanyakan', 'pihak', 'pihaknya', 'pukul', 'pula', 'pun', 'punya', 'rasa', 'rasanya', 'rata', 'rupanya', 'saat', 'saatnya', 'saja', 'sajalah', 'saling', 'sama', 'sama-sama', 'sambil', 'sampai', 'sampai-sampai', 'sampaikan', 'sana', 'sangat', 'sangatlah', 'satu', 'saya', 'sayalah', 'se', 'sebab', 'sebabnya', 'sebagai', 'sebagaimana', 'sebagainya', 'sebagian', 'sebaik', 'sebaik-baiknya', 'sebaiknya', 'sebaliknya', 'sebanyak', 'sebegini', 'sebegitu', 'sebelum', 'sebelumnya', 'sebenarnya', 'seberapa', 'sebesar', 'sebetulnya', 'sebisanya', 'sebuah', 'sebut', 'sebutlah', 'sebutnya', 'secara', 'secukupnya', 'sedang', 'sedangkan', 'sedemikian', 'sedikit', 'sedikitnya', 'seenaknya', 'segala', 'segalanya', 'segera', 'seharusnya', 'sehingga', 'seingat', 'sejak', 'sejauh', 'sejenak', 'sejumlah', 'sekadar', 'sekadarnya', 'sekali', 'sekali-kali', 'sekalian', 'sekaligus', 'sekalipun', 'sekarang', 'sekarang', 'sekecil', 'seketika', 'sekiranya', 'sekitar', 'sekitarnya', 'sekurang-kurangnya', 'sekurangnya', 'sela', 'selain', 'selaku', 'selalu', 'selama', 'selama-lamanya', 'selamanya', 'selanjutnya', 'seluruh', 'seluruhnya', 'semacam', 'semakin', 'semampu', 'semampunya', 'semasa', 'semasih', 'semata', 'semata-mata', 'semaunya', 'sementara', 'semisal', 'semisalnya', 'sempat', 'semua', 'semuanya', 'semula', 'sendiri', 'sendirian', 'sendirinya', 'seolah', 'seolah-olah', 'seorang', 'sepanjang', 'sepantasnya', 'sepantasnyalah', 'seperlunya', 'seperti', 'sepertinya', 'sepihak', 'sering', 'seringnya', 'serta', 'serupa', 'sesaat', 'sesama', 'sesampai', 'sesegera', 'sesekali', 'seseorang', 'sesuatu', 'sesuatunya', 'sesudah', 'sesudahnya', 'setelah', 'setempat', 'setengah', 'seterusnya', 'setiap', 'setiba', 'setibanya', 'setidak-tidaknya', 'setidaknya', 'setinggi', 'seusai', 'sewaktu', 'siap', 'siapa', 'siapakah', 'siapapun', 'sini', 'sinilah', 'soal', 'soalnya', 'suatu', 'sudah', 'sudahkah', 'sudahlah', 'supaya', 'tadi', 'tadinya', 'tahu', 'tahun', 'tak', 'tambah', 'tambahnya', 'tampak', 'tampaknya', 'tandas', 'tandasnya', 'tanpa', 'tanya', 'tanyakan', 'tanyanya', 'tapi', 'tegas', 'tegasnya', 'telah', 'tempat', 'tengah', 'tentang', 'tentu', 'tentulah', 'tentunya', 'tepat', 'terakhir', 'terasa', 'terbanyak', 'terdahulu', 'terdapat', 'terdiri', 'terhadap', 'terhadapnya', 'teringat', 'teringat-ingat', 'terjadi', 'terjadilah', 'terjadinya', 'terkira', 'terlalu', 'terlebih', 'terlihat', 'termasuk', 'ternyata', 'tersampaikan', 'tersebut', 'tersebutlah', 'tertentu', 'tertuju', 'terus', 'terutama', 'tetap', 'tetapi', 'tiap', 'tiba', 'tiba-tiba', 'tidak', 'tidakkah', 'tidaklah', 'tiga', 'tinggi', 'toh', 'tunjuk', 'turut', 'tutur', 'tuturnya', 'ucap', 'ucapnya', 'ujar', 'ujarnya', 'umum', 'umumnya', 'ungkap', 'ungkapnya', 'untuk', 'usah', 'usai', 'waduh', 'wah', 'wahai', 'waktu', 'waktunya', 'walau', 'walaupun', 'wong', 'yaitu', 'yakin', 'yakni', 'yang']\n",
            "\n",
            "\n",
            "Stopwords trong ngôn ngữ italian:\n",
            "['ad', 'al', 'allo', 'ai', 'agli', 'all', 'agl', 'alla', 'alle', 'con', 'col', 'coi', 'da', 'dal', 'dallo', 'dai', 'dagli', 'dall', 'dagl', 'dalla', 'dalle', 'di', 'del', 'dello', 'dei', 'degli', 'dell', 'degl', 'della', 'delle', 'in', 'nel', 'nello', 'nei', 'negli', 'nell', 'negl', 'nella', 'nelle', 'su', 'sul', 'sullo', 'sui', 'sugli', 'sull', 'sugl', 'sulla', 'sulle', 'per', 'tra', 'contro', 'io', 'tu', 'lui', 'lei', 'noi', 'voi', 'loro', 'mio', 'mia', 'miei', 'mie', 'tuo', 'tua', 'tuoi', 'tue', 'suo', 'sua', 'suoi', 'sue', 'nostro', 'nostra', 'nostri', 'nostre', 'vostro', 'vostra', 'vostri', 'vostre', 'mi', 'ti', 'ci', 'vi', 'lo', 'la', 'li', 'le', 'gli', 'ne', 'il', 'un', 'uno', 'una', 'ma', 'ed', 'se', 'perché', 'anche', 'come', 'dov', 'dove', 'che', 'chi', 'cui', 'non', 'più', 'quale', 'quanto', 'quanti', 'quanta', 'quante', 'quello', 'quelli', 'quella', 'quelle', 'questo', 'questi', 'questa', 'queste', 'si', 'tutto', 'tutti', 'a', 'c', 'e', 'i', 'l', 'o', 'ho', 'hai', 'ha', 'abbiamo', 'avete', 'hanno', 'abbia', 'abbiate', 'abbiano', 'avrò', 'avrai', 'avrà', 'avremo', 'avrete', 'avranno', 'avrei', 'avresti', 'avrebbe', 'avremmo', 'avreste', 'avrebbero', 'avevo', 'avevi', 'aveva', 'avevamo', 'avevate', 'avevano', 'ebbi', 'avesti', 'ebbe', 'avemmo', 'aveste', 'ebbero', 'avessi', 'avesse', 'avessimo', 'avessero', 'avendo', 'avuto', 'avuta', 'avuti', 'avute', 'sono', 'sei', 'è', 'siamo', 'siete', 'sia', 'siate', 'siano', 'sarò', 'sarai', 'sarà', 'saremo', 'sarete', 'saranno', 'sarei', 'saresti', 'sarebbe', 'saremmo', 'sareste', 'sarebbero', 'ero', 'eri', 'era', 'eravamo', 'eravate', 'erano', 'fui', 'fosti', 'fu', 'fummo', 'foste', 'furono', 'fossi', 'fosse', 'fossimo', 'fossero', 'essendo', 'faccio', 'fai', 'facciamo', 'fanno', 'faccia', 'facciate', 'facciano', 'farò', 'farai', 'farà', 'faremo', 'farete', 'faranno', 'farei', 'faresti', 'farebbe', 'faremmo', 'fareste', 'farebbero', 'facevo', 'facevi', 'faceva', 'facevamo', 'facevate', 'facevano', 'feci', 'facesti', 'fece', 'facemmo', 'faceste', 'fecero', 'facessi', 'facesse', 'facessimo', 'facessero', 'facendo', 'sto', 'stai', 'sta', 'stiamo', 'stanno', 'stia', 'stiate', 'stiano', 'starò', 'starai', 'starà', 'staremo', 'starete', 'staranno', 'starei', 'staresti', 'starebbe', 'staremmo', 'stareste', 'starebbero', 'stavo', 'stavi', 'stava', 'stavamo', 'stavate', 'stavano', 'stetti', 'stesti', 'stette', 'stemmo', 'steste', 'stettero', 'stessi', 'stesse', 'stessimo', 'stessero', 'stando']\n",
            "\n",
            "\n",
            "Stopwords trong ngôn ngữ kazakh:\n",
            "['ах', 'ох', 'эх', 'ай', 'эй', 'ой', 'тағы', 'тағыда', 'әрине', 'жоқ', 'сондай', 'осындай', 'осылай', 'солай', 'мұндай', 'бұндай', 'мен', 'сен', 'ол', 'біз', 'біздер', 'олар', 'сіз', 'сіздер', 'маған', 'оған', 'саған', 'біздің', 'сіздің', 'оның', 'бізге', 'сізге', 'оларға', 'біздерге', 'сіздерге', 'оларға', 'менімен', 'сенімен', 'онымен', 'бізбен', 'сізбен', 'олармен', 'біздермен', 'сіздермен', 'менің', 'сенің', 'біздің', 'сіздің', 'оның', 'біздердің', 'сіздердің', 'олардың', 'маған', 'саған', 'оған', 'менен', 'сенен', 'одан', 'бізден', 'сізден', 'олардан', 'біздерден', 'сіздерден', 'олардан', 'айтпақшы', 'сонымен', 'сондықтан', 'бұл', 'осы', 'сол', 'анау', 'мынау', 'сонау', 'осынау', 'ана', 'мына', 'сона', 'әні', 'міне', 'өй', 'үйт', 'бүйт', 'біреу', 'кейбіреу', 'кейбір', 'қайсыбір', 'әрбір', 'бірнеше', 'бірдеме', 'бірнеше', 'әркім', 'әрне', 'әрқайсы', 'әрқалай', 'әлдекім', 'әлдене', 'әлдеқайдан', 'әлденеше', 'әлдеқалай', 'әлдеқашан', 'алдақашан', 'еш', 'ешкім', 'ешбір', 'ештеме', 'дәнеңе', 'ешқашан', 'ешқандай', 'ешқайсы', 'емес', 'бәрі', 'барлық', 'барша', 'бар', 'күллі', 'бүкіл', 'түгел', 'өз', 'өзім', 'өзің', 'өзінің', 'өзіме', 'өзіне', 'өзімнің', 'өзі', 'өзге', 'менде', 'сенде', 'онда', 'менен', 'сенен\\tонан', 'одан', 'ау', 'па', 'ей', 'әй', 'е', 'уа', 'уау', 'уай', 'я', 'пай', 'ә', 'о', 'оһо', 'ой', 'ие', 'аһа', 'ау', 'беу', 'мәссаған', 'бәрекелді', 'әттегенай', 'жаракімалла', 'масқарай', 'астапыралла', 'япырмай', 'ойпырмай', 'кәне', 'кәнеки', 'ал', 'әйда', 'кәні', 'міне', 'әні', 'сорап', 'қош-қош', 'пфша', 'пішә', 'құрау-құрау', 'шәйт', 'шек', 'моһ', 'тәк', 'құрау', 'құр', 'кә', 'кәһ', 'күшім', 'күшім', 'мышы', 'пырс', 'әукім', 'алақай', 'паһ-паһ', 'бәрекелді', 'ура', 'әттең', 'әттеген-ай', 'қап', 'түге', 'пішту', 'шіркін', 'алатау', 'пай-пай', 'үшін', 'сайын', 'сияқты', 'туралы', 'арқылы', 'бойы', 'бойымен', 'шамалы', 'шақты', 'қаралы', 'ғұрлы', 'ғұрлым', 'шейін', 'дейін', 'қарай', 'таман', 'салым', 'тарта', 'жуық', 'таяу', 'гөрі', 'бері', 'кейін', 'соң', 'бұрын', 'бетер', 'қатар', 'бірге', 'қоса', 'арс', 'гүрс', 'дүрс', 'қорс', 'тарс', 'тырс', 'ырс', 'барқ', 'борт', 'күрт', 'кірт', 'морт', 'сарт', 'шырт', 'дүңк', 'күңк', 'қыңқ', 'мыңқ', 'маңқ', 'саңқ', 'шаңқ', 'шіңк', 'сыңқ', 'таңқ', 'тыңқ', 'ыңқ', 'болп', 'былп', 'жалп', 'желп', 'қолп', 'ірк', 'ырқ', 'сарт-сұрт', 'тарс-тұрс', 'арс-ұрс', 'жалт-жалт', 'жалт-жұлт', 'қалт-қалт', 'қалт-құлт', 'қаңқ-қаңқ', 'қаңқ-құңқ', 'шаңқ-шаңқ', 'шаңқ-шұңқ', 'арбаң-арбаң', 'бүгжең-бүгжең', 'арсалаң-арсалаң', 'ербелең-ербелең', 'батыр-бұтыр', 'далаң-далаң', 'тарбаң-тарбаң', 'қызараң-қызараң', 'қаңғыр-күңгір', 'қайқаң-құйқаң', 'митың-митың', 'салаң-сұлаң', 'ыржың-тыржың', 'бірақ', 'алайда', 'дегенмен', 'әйтпесе', 'әйткенмен', 'себебі', 'өйткені', 'сондықтан', 'үшін', 'сайын', 'сияқты', 'туралы', 'арқылы', 'бойы', 'бойымен', 'шамалы', 'шақты', 'қаралы', 'ғұрлы', 'ғұрлым', 'гөрі', 'бері', 'кейін', 'соң', 'бұрын', 'бетер', 'қатар', 'бірге', 'қоса', 'шейін', 'дейін', 'қарай', 'таман', 'салым', 'тарта', 'жуық', 'таяу', 'арнайы', 'осындай', 'ғана', 'қана', 'тек', 'әншейін']\n",
            "\n",
            "\n",
            "Stopwords trong ngôn ngữ nepali:\n",
            "['छ', 'र', 'पनि', 'छन्', 'लागि', 'भएको', 'गरेको', 'भने', 'गर्न', 'गर्ने', 'हो', 'तथा', 'यो', 'रहेको', 'उनले', 'थियो', 'हुने', 'गरेका', 'थिए', 'गर्दै', 'तर', 'नै', 'को', 'मा', 'हुन्', 'भन्ने', 'हुन', 'गरी', 'त', 'हुन्छ', 'अब', 'के', 'रहेका', 'गरेर', 'छैन', 'दिए', 'भए', 'यस', 'ले', 'गर्नु', 'औं', 'सो', 'त्यो', 'कि', 'जुन', 'यी', 'का', 'गरि', 'ती', 'न', 'छु', 'छौं', 'लाई', 'नि', 'उप', 'अक्सर', 'आदि', 'कसरी', 'क्रमशः', 'चाले', 'अगाडी', 'अझै', 'अनुसार', 'अन्तर्गत', 'अन्य', 'अन्यत्र', 'अन्यथा', 'अरु', 'अरुलाई', 'अर्को', 'अर्थात', 'अर्थात्', 'अलग', 'आए', 'आजको', 'ओठ', 'आत्म', 'आफू', 'आफूलाई', 'आफ्नै', 'आफ्नो', 'आयो', 'उदाहरण', 'उनको', 'उहालाई', 'एउटै', 'एक', 'एकदम', 'कतै', 'कम से कम', 'कसै', 'कसैले', 'कहाँबाट', 'कहिलेकाहीं', 'का', 'किन', 'किनभने', 'कुनै', 'कुरा', 'कृपया', 'केही', 'कोही', 'गए', 'गरौं', 'गर्छ', 'गर्छु', 'गर्नुपर्छ', 'गयौ', 'गैर', 'चार', 'चाहनुहुन्छ', 'चाहन्छु', 'चाहिए', 'छू', 'जताततै', 'जब', 'जबकि', 'जसको', 'जसबाट', 'जसमा', 'जसलाई', 'जसले', 'जस्तै', 'जस्तो', 'जस्तोसुकै', 'जहाँ', 'जान', 'जाहिर', 'जे', 'जो', 'ठीक', 'तत्काल', 'तदनुसार', 'तपाईको', 'तपाई', 'पर्याप्त', 'पहिले', 'पहिलो', 'पहिल्यै', 'पाँच', 'पाँचौं', 'तल', 'तापनी', 'तिनी', 'तिनीहरू', 'तिनीहरुको', 'तिनिहरुलाई', 'तिमी', 'तिर', 'तीन', 'तुरुन्तै', 'तेस्रो', 'तेस्कारण', 'पूर्व', 'प्रति', 'प्रतेक', 'प्लस', 'फेरी', 'बने', 'त्सपछि', 'त्सैले', 'त्यहाँ', 'थिएन', 'दिनुभएको', 'दिनुहुन्छ', 'दुई', 'देखि', 'बरु', 'बारे', 'बाहिर', 'देखिन्छ', 'देखियो', 'देखे', 'देखेको', 'देखेर', 'दोस्रो', 'धेरै', 'नजिकै', 'नत्र', 'नयाँ', 'निम्ति', 'बाहेक', 'बीच', 'बीचमा', 'भन', 'निम्न', 'निम्नानुसार', 'निर्दिष्ट', 'नौ', 'पक्का', 'पक्कै', 'पछि', 'पछिल्लो', 'पटक', 'पर्छ', 'पर्थ्यो', 'भन्छन्', 'भन्', 'भन्छु', 'भन्दा', 'भन्नुभयो', 'भर', 'भित्र', 'भित्री', 'म', 'मलाई', 'मात्र', 'माथि', 'मुख्य', 'मेरो', 'यति', 'यथोचित', 'यदि', 'यद्यपि', 'यसको', 'यसपछि', 'यसबाहेक', 'यसरी', 'यसो', 'यस्तो', 'यहाँ', 'यहाँसम्म', 'या', 'रही', 'राखे', 'राख्छ', 'राम्रो', 'रूप', 'लगभग', 'वरीपरी', 'वास्तवमा', 'बिरुद्ध', 'बिशेष', 'सायद', 'शायद', 'संग', 'संगै', 'सक्छ', 'सट्टा', 'सधै', 'सबै', 'सबैलाई', 'समय', 'सम्भव', 'सम्म', 'सही', 'साँच्चै', 'सात', 'साथ', 'साथै', 'सारा', 'सोही', 'स्पष्ट', 'हरे', 'हरेक']\n",
            "\n",
            "\n",
            "Stopwords trong ngôn ngữ norwegian:\n",
            "['og', 'i', 'jeg', 'det', 'at', 'en', 'et', 'den', 'til', 'er', 'som', 'på', 'de', 'med', 'han', 'av', 'ikke', 'ikkje', 'der', 'så', 'var', 'meg', 'seg', 'men', 'ett', 'har', 'om', 'vi', 'min', 'mitt', 'ha', 'hadde', 'hun', 'nå', 'over', 'da', 'ved', 'fra', 'du', 'ut', 'sin', 'dem', 'oss', 'opp', 'man', 'kan', 'hans', 'hvor', 'eller', 'hva', 'skal', 'selv', 'sjøl', 'her', 'alle', 'vil', 'bli', 'ble', 'blei', 'blitt', 'kunne', 'inn', 'når', 'være', 'kom', 'noen', 'noe', 'ville', 'dere', 'som', 'deres', 'kun', 'ja', 'etter', 'ned', 'skulle', 'denne', 'for', 'deg', 'si', 'sine', 'sitt', 'mot', 'å', 'meget', 'hvorfor', 'dette', 'disse', 'uten', 'hvordan', 'ingen', 'din', 'ditt', 'blir', 'samme', 'hvilken', 'hvilke', 'sånn', 'inni', 'mellom', 'vår', 'hver', 'hvem', 'vors', 'hvis', 'både', 'bare', 'enn', 'fordi', 'før', 'mange', 'også', 'slik', 'vært', 'være', 'båe', 'begge', 'siden', 'dykk', 'dykkar', 'dei', 'deira', 'deires', 'deim', 'di', 'då', 'eg', 'ein', 'eit', 'eitt', 'elles', 'honom', 'hjå', 'ho', 'hoe', 'henne', 'hennar', 'hennes', 'hoss', 'hossen', 'ikkje', 'ingi', 'inkje', 'korleis', 'korso', 'kva', 'kvar', 'kvarhelst', 'kven', 'kvi', 'kvifor', 'me', 'medan', 'mi', 'mine', 'mykje', 'no', 'nokon', 'noka', 'nokor', 'noko', 'nokre', 'si', 'sia', 'sidan', 'so', 'somt', 'somme', 'um', 'upp', 'vere', 'vore', 'verte', 'vort', 'varte', 'vart']\n",
            "\n",
            "\n",
            "Stopwords trong ngôn ngữ portuguese:\n",
            "['a', 'à', 'ao', 'aos', 'aquela', 'aquelas', 'aquele', 'aqueles', 'aquilo', 'as', 'às', 'até', 'com', 'como', 'da', 'das', 'de', 'dela', 'delas', 'dele', 'deles', 'depois', 'do', 'dos', 'e', 'é', 'ela', 'elas', 'ele', 'eles', 'em', 'entre', 'era', 'eram', 'éramos', 'essa', 'essas', 'esse', 'esses', 'esta', 'está', 'estamos', 'estão', 'estar', 'estas', 'estava', 'estavam', 'estávamos', 'este', 'esteja', 'estejam', 'estejamos', 'estes', 'esteve', 'estive', 'estivemos', 'estiver', 'estivera', 'estiveram', 'estivéramos', 'estiverem', 'estivermos', 'estivesse', 'estivessem', 'estivéssemos', 'estou', 'eu', 'foi', 'fomos', 'for', 'fora', 'foram', 'fôramos', 'forem', 'formos', 'fosse', 'fossem', 'fôssemos', 'fui', 'há', 'haja', 'hajam', 'hajamos', 'hão', 'havemos', 'haver', 'hei', 'houve', 'houvemos', 'houver', 'houvera', 'houverá', 'houveram', 'houvéramos', 'houverão', 'houverei', 'houverem', 'houveremos', 'houveria', 'houveriam', 'houveríamos', 'houvermos', 'houvesse', 'houvessem', 'houvéssemos', 'isso', 'isto', 'já', 'lhe', 'lhes', 'mais', 'mas', 'me', 'mesmo', 'meu', 'meus', 'minha', 'minhas', 'muito', 'na', 'não', 'nas', 'nem', 'no', 'nos', 'nós', 'nossa', 'nossas', 'nosso', 'nossos', 'num', 'numa', 'o', 'os', 'ou', 'para', 'pela', 'pelas', 'pelo', 'pelos', 'por', 'qual', 'quando', 'que', 'quem', 'são', 'se', 'seja', 'sejam', 'sejamos', 'sem', 'ser', 'será', 'serão', 'serei', 'seremos', 'seria', 'seriam', 'seríamos', 'seu', 'seus', 'só', 'somos', 'sou', 'sua', 'suas', 'também', 'te', 'tem', 'tém', 'temos', 'tenha', 'tenham', 'tenhamos', 'tenho', 'terá', 'terão', 'terei', 'teremos', 'teria', 'teriam', 'teríamos', 'teu', 'teus', 'teve', 'tinha', 'tinham', 'tínhamos', 'tive', 'tivemos', 'tiver', 'tivera', 'tiveram', 'tivéramos', 'tiverem', 'tivermos', 'tivesse', 'tivessem', 'tivéssemos', 'tu', 'tua', 'tuas', 'um', 'uma', 'você', 'vocês', 'vos']\n",
            "\n",
            "\n",
            "Stopwords trong ngôn ngữ romanian:\n",
            "['a', 'abia', 'acea', 'aceasta', 'această', 'aceea', 'aceeasi', 'acei', 'aceia', 'acel', 'acela', 'acelasi', 'acele', 'acelea', 'acest', 'acesta', 'aceste', 'acestea', 'acestei', 'acestia', 'acestui', 'aceşti', 'aceştia', 'adica', 'ai', 'aia', 'aibă', 'aici', 'al', 'ala', 'ale', 'alea', 'alt', 'alta', 'altceva', 'altcineva', 'alte', 'altfel', 'alti', 'altii', 'altul', 'am', 'anume', 'apoi', 'ar', 'are', 'as', 'asa', 'asta', 'astea', 'astfel', 'asupra', 'atare', 'atat', 'atata', 'atatea', 'atatia', 'ati', 'atit', 'atita', 'atitea', 'atitia', 'atunci', 'au', 'avea', 'avem', 'aveţi', 'avut', 'aş', 'aţi', 'ba', 'ca', 'cam', 'cand', 'care', 'careia', 'carora', 'caruia', 'cat', 'catre', 'ce', 'cea', 'ceea', 'cei', 'ceilalti', 'cel', 'cele', 'celor', 'ceva', 'chiar', 'ci', 'cind', 'cine', 'cineva', 'cit', 'cita', 'cite', 'citeva', 'citi', 'citiva', 'cu', 'cui', 'cum', 'cumva', 'cât', 'câte', 'câtva', 'câţi', 'cînd', 'cît', 'cîte', 'cîtva', 'cîţi', 'că', 'căci', 'cărei', 'căror', 'cărui', 'către', 'da', 'daca', 'dacă', 'dar', 'dat', 'dată', 'dau', 'de', 'deasupra', 'deci', 'decit', 'deja', 'desi', 'despre', 'deşi', 'din', 'dintr', 'dintr-', 'dintre', 'doar', 'doi', 'doilea', 'două', 'drept', 'dupa', 'după', 'dă', 'e', 'ea', 'ei', 'el', 'ele', 'era', 'eram', 'este', 'eu', 'eşti', 'face', 'fara', 'fata', 'fel', 'fi', 'fie', 'fiecare', 'fii', 'fim', 'fiu', 'fiţi', 'foarte', 'fost', 'fără', 'i', 'ia', 'iar', 'ii', 'il', 'imi', 'in', 'inainte', 'inapoi', 'inca', 'incit', 'insa', 'intr', 'intre', 'isi', 'iti', 'la', 'le', 'li', 'lor', 'lui', 'lângă', 'lîngă', 'm', 'ma', 'mai', 'mea', 'mei', 'mele', 'mereu', 'meu', 'mi', 'mie', 'mine', 'mod', 'mult', 'multa', 'multe', 'multi', 'multă', 'mulţi', 'mâine', 'mîine', 'mă', 'ne', 'ni', 'nici', 'nimeni', 'nimic', 'niste', 'nişte', 'noastre', 'noastră', 'noi', 'nostri', 'nostru', 'nou', 'noua', 'nouă', 'noştri', 'nu', 'numai', 'o', 'or', 'ori', 'oricare', 'orice', 'oricine', 'oricum', 'oricând', 'oricât', 'oricînd', 'oricît', 'oriunde', 'pai', 'parca', 'patra', 'patru', 'pe', 'pentru', 'peste', 'pic', 'pina', 'poate', 'pot', 'prea', 'prima', 'primul', 'prin', 'printr-', 'putini', 'puţin', 'puţina', 'puţină', 'până', 'pînă', 'sa', 'sa-mi', 'sa-ti', 'sai', 'sale', 'sau', 'se', 'si', 'sint', 'sintem', 'spate', 'spre', 'sub', 'sunt', 'suntem', 'sunteţi', 'sus', 'să', 'săi', 'său', 't', 'ta', 'tale', 'te', 'ti', 'tine', 'toata', 'toate', 'toată', 'tocmai', 'tot', 'toti', 'totul', 'totusi', 'totuşi', 'toţi', 'trei', 'treia', 'treilea', 'tu', 'tuturor', 'tăi', 'tău', 'u', 'ul', 'ului', 'un', 'una', 'unde', 'undeva', 'unei', 'uneia', 'unele', 'uneori', 'unii', 'unor', 'unora', 'unu', 'unui', 'unuia', 'unul', 'v', 'va', 'vi', 'voastre', 'voastră', 'voi', 'vom', 'vor', 'vostru', 'vouă', 'voştri', 'vreo', 'vreun', 'vă', 'zi', 'zice', 'îi', 'îl', 'îmi', 'în', 'îţi', 'ăla', 'ălea', 'ăsta', 'ăstea', 'ăştia', 'şi', 'ţi', 'ţie']\n",
            "\n",
            "\n",
            "Stopwords trong ngôn ngữ russian:\n",
            "['и', 'в', 'во', 'не', 'что', 'он', 'на', 'я', 'с', 'со', 'как', 'а', 'то', 'все', 'она', 'так', 'его', 'но', 'да', 'ты', 'к', 'у', 'же', 'вы', 'за', 'бы', 'по', 'только', 'ее', 'мне', 'было', 'вот', 'от', 'меня', 'еще', 'нет', 'о', 'из', 'ему', 'теперь', 'когда', 'даже', 'ну', 'вдруг', 'ли', 'если', 'уже', 'или', 'ни', 'быть', 'был', 'него', 'до', 'вас', 'нибудь', 'опять', 'уж', 'вам', 'ведь', 'там', 'потом', 'себя', 'ничего', 'ей', 'может', 'они', 'тут', 'где', 'есть', 'надо', 'ней', 'для', 'мы', 'тебя', 'их', 'чем', 'была', 'сам', 'чтоб', 'без', 'будто', 'чего', 'раз', 'тоже', 'себе', 'под', 'будет', 'ж', 'тогда', 'кто', 'этот', 'того', 'потому', 'этого', 'какой', 'совсем', 'ним', 'здесь', 'этом', 'один', 'почти', 'мой', 'тем', 'чтобы', 'нее', 'сейчас', 'были', 'куда', 'зачем', 'всех', 'никогда', 'можно', 'при', 'наконец', 'два', 'об', 'другой', 'хоть', 'после', 'над', 'больше', 'тот', 'через', 'эти', 'нас', 'про', 'всего', 'них', 'какая', 'много', 'разве', 'три', 'эту', 'моя', 'впрочем', 'хорошо', 'свою', 'этой', 'перед', 'иногда', 'лучше', 'чуть', 'том', 'нельзя', 'такой', 'им', 'более', 'всегда', 'конечно', 'всю', 'между']\n",
            "\n",
            "\n",
            "Stopwords trong ngôn ngữ slovene:\n",
            "['ali', 'ampak', 'bodisi', 'in', 'kajti', 'marveč', 'namreč', 'ne', 'niti', 'oziroma', 'pa', 'saj', 'sicer', 'temveč', 'ter', 'toda', 'torej', 'vendar', 'vendarle', 'zakaj', 'če', 'čeprav', 'čeravno', 'četudi', 'čim', 'da', 'kadar', 'kakor', 'ker', 'ki', 'ko', 'kot', 'naj', 'najsi', 'odkar', 'preden', 'dve', 'dvema', 'dveh', 'šest', 'šestdeset', 'šestindvajset', 'šestintrideset', 'šestnajst', 'šeststo', 'štiri', 'štirideset', 'štiriindvajset', 'štirinajst', 'štiristo', 'deset', 'devet', 'devetdeset', 'devetintrideset', 'devetnajst', 'devetsto', 'dvainšestdeset', 'dvaindvajset', 'dvajset', 'dvanajst', 'dvesto', 'enaindvajset', 'enaintrideset', 'enajst', 'nič', 'osem', 'osemdeset', 'oseminštirideset', 'osemindevetdeset', 'osemnajst', 'pet', 'petdeset', 'petinštirideset', 'petindevetdeset', 'petindvajset', 'petinosemdeset', 'petinpetdeset', 'petinsedemdeset', 'petintrideset', 'petnajst', 'petsto', 'sedem', 'sedemdeset', 'sedeminšestdeset', 'sedemindvajset', 'sedeminpetdeset', 'sedemnajst', 'sedemsto', 'sto', 'tisoč', 'tri', 'trideset', 'triinšestdeset', 'triindvajset', 'triinpetdeset', 'trinajst', 'tristo', 'šestdesetim', 'šestim', 'šestindvajsetim', 'šestintridesetim', 'šestnajstim', 'šeststotim', 'štiridesetim', 'štiriindvajsetim', 'štirim', 'štirinajstim', 'štiristotim', 'desetim', 'devetdesetim', 'devetim', 'devetintridesetim', 'devetnajstim', 'devetstotim', 'dvainšestdesetim', 'dvaindvajsetim', 'dvajsetim', 'dvanajstim', 'dvestotim', 'enaindvajsetim', 'enaintridesetim', 'enajstim', 'osemdesetim', 'oseminštiridesetim', 'osemindevetdesetim', 'osemnajstim', 'osmim', 'petdesetim', 'petim', 'petinštiridesetim', 'petindevetdesetim', 'petindvajsetim', 'petinosemdesetim', 'petinpetdesetim', 'petinsedemdesetim', 'petintridesetim', 'petnajstim', 'petstotim', 'sedemdesetim', 'sedeminšestdesetim', 'sedemindvajsetim', 'sedeminpetdesetim', 'sedemnajstim', 'sedemstotim', 'sedmim', 'stotim', 'tisočim', 'trem', 'tridesetim', 'triinšestdesetim', 'triindvajsetim', 'triinpetdesetim', 'trinajstim', 'tristotim', 'šestdesetih', 'šestih', 'šestindvajsetih', 'šestintridesetih', 'šestnajstih', 'šeststotih', 'štiridesetih', 'štirih', 'štiriindvajsetih', 'štirinajstih', 'štiristotih', 'desetih', 'devetdesetih', 'devetih', 'devetintridesetih', 'devetnajstih', 'devetstotih', 'dvainšestdesetih', 'dvaindvajsetih', 'dvajsetih', 'dvanajstih', 'dvestotih', 'enaindvajsetih', 'enaintridesetih', 'enajstih', 'osemdesetih', 'oseminštiridesetih', 'osemindevetdesetih', 'osemnajstih', 'osmih', 'petdesetih', 'petih', 'petinštiridesetih', 'petindevetdesetih', 'petindvajsetih', 'petinosemdesetih', 'petinpetdesetih', 'petinsedemdesetih', 'petintridesetih', 'petnajstih', 'petstotih', 'sedemdesetih', 'sedeminšestdesetih', 'sedemindvajsetih', 'sedeminpetdesetih', 'sedemnajstih', 'sedemstotih', 'sedmih', 'stotih', 'tisočih', 'treh', 'tridesetih', 'triinšestdesetih', 'triindvajsetih', 'triinpetdesetih', 'trinajstih', 'tristotih', 'šestdesetimi', 'šestimi', 'šestindvajsetimi', 'šestintridesetimi', 'šestnajstimi', 'šeststotimi', 'štiridesetimi', 'štiriindvajsetimi', 'štirimi', 'štirinajstimi', 'štiristotimi', 'desetimi', 'devetdesetimi', 'devetimi', 'devetintridesetimi', 'devetnajstimi', 'devetstotimi', 'dvainšestdesetimi', 'dvaindvajsetimi', 'dvajsetimi', 'dvanajstimi', 'dvestotimi', 'enaindvajsetimi', 'enaintridesetimi', 'enajstimi', 'osemdesetimi', 'oseminštiridesetimi', 'osemindevetdesetimi', 'osemnajstimi', 'osmimi', 'petdesetimi', 'petimi', 'petinštiridesetimi', 'petindevetdesetimi', 'petindvajsetimi', 'petinosemdesetimi', 'petinpetdesetimi', 'petinsedemdesetimi', 'petintridesetimi', 'petnajstimi', 'petstotimi', 'sedemdesetimi', 'sedeminšestdesetimi', 'sedemindvajsetimi', 'sedeminpetdesetimi', 'sedemnajstimi', 'sedemstotimi', 'sedmimi', 'stotimi', 'tisočimi', 'tremi', 'tridesetimi', 'triinšestdesetimi', 'triindvajsetimi', 'triinpetdesetimi', 'trinajstimi', 'tristotimi', 'eno', 'eni', 'ene', 'ena', 'dva', 'štirje', 'trije', 'en', 'enega', 'enemu', 'enim', 'enem', 'eden', 'dvojni', 'trojni', 'dvojnima', 'trojnima', 'dvojnih', 'trojnih', 'dvojne', 'trojne', 'dvojnim', 'trojnim', 'dvojnimi', 'trojnimi', 'dvojno', 'trojno', 'dvojna', 'trojna', 'dvojnega', 'trojnega', 'dvojen', 'trojen', 'dvojnemu', 'trojnemu', 'dvojnem', 'trojnem', 'četrti', 'šestdeseti', 'šesti', 'šestnajsti', 'štirideseti', 'štiriindvajseti', 'štirinajsti', 'deseti', 'devetdeseti', 'deveti', 'devetnajsti', 'drugi', 'dvaindevetdeseti', 'dvajseti', 'dvanajsti', 'dvestoti', 'enaindvajseti', 'enajsti', 'osemdeseti', 'osemnajsti', 'osmi', 'petdeseti', 'peti', 'petinštirideseti', 'petindvajseti', 'petinosemdeseti', 'petintrideseti', 'petnajsti', 'prvi', 'sedemdeseti', 'sedemindvajseti', 'sedemnajsti', 'sedmi', 'stoti', 'tisoči', 'tretji', 'trideseti', 'triindvajseti', 'triintrideseti', 'trinajsti', 'tristoti', 'četrtima', 'šestdesetima', 'šestima', 'šestnajstima', 'štiridesetima', 'štiriindvajsetima', 'štirinajstima', 'desetima', 'devetdesetima', 'devetima', 'devetnajstima', 'drugima', 'dvaindevetdesetima', 'dvajsetima', 'dvanajstima', 'dvestotima', 'enaindvajsetima', 'enajstima', 'osemdesetima', 'osemnajstima', 'osmima', 'petdesetima', 'petima', 'petinštiridesetima', 'petindvajsetima', 'petinosemdesetima', 'petintridesetima', 'petnajstima', 'prvima', 'sedemdesetima', 'sedemindvajsetima', 'sedemnajstima', 'sedmima', 'stotima', 'tisočima', 'tretjima', 'tridesetima', 'triindvajsetima', 'triintridesetima', 'trinajstima', 'tristotima', 'četrtih', 'drugih', 'dvaindevetdesetih', 'prvih', 'tretjih', 'triintridesetih', 'četrte', 'šestdesete', 'šeste', 'šestnajste', 'štiridesete', 'štiriindvajsete', 'štirinajste', 'desete', 'devetdesete', 'devete', 'devetnajste', 'druge', 'dvaindevetdesete', 'dvajsete', 'dvanajste', 'dvestote', 'enaindvajsete', 'enajste', 'osemdesete', 'osemnajste', 'osme', 'petdesete', 'pete', 'petinštiridesete', 'petindvajsete', 'petinosemdesete', 'petintridesete', 'petnajste', 'prve', 'sedemdesete', 'sedemindvajsete', 'sedemnajste', 'sedme', 'stote', 'tisoče', 'tretje', 'tridesete', 'triindvajsete', 'triintridesete', 'trinajste', 'tristote', 'četrtim', 'drugim', 'dvaindevetdesetim', 'prvim', 'tretjim', 'triintridesetim', 'četrtimi', 'drugimi', 'dvaindevetdesetimi', 'prvimi', 'tretjimi', 'triintridesetimi', 'četrto', 'šestdeseto', 'šestnajsto', 'šesto', 'štirideseto', 'štiriindvajseto', 'štirinajsto', 'deseto', 'devetdeseto', 'devetnajsto', 'deveto', 'drugo', 'dvaindevetdeseto', 'dvajseto', 'dvanajsto', 'dvestoto', 'enaindvajseto', 'enajsto', 'osemdeseto', 'osemnajsto', 'osmo', 'petdeseto', 'petinštirideseto', 'petindvajseto', 'petinosemdeseto', 'petintrideseto', 'petnajsto', 'peto', 'prvo', 'sedemdeseto', 'sedemindvajseto', 'sedemnajsto', 'sedmo', 'stoto', 'tisočo', 'tretjo', 'trideseto', 'triindvajseto', 'triintrideseto', 'trinajsto', 'tristoto', 'četrta', 'šesta', 'šestdeseta', 'šestnajsta', 'štirideseta', 'štiriindvajseta', 'štirinajsta', 'deseta', 'deveta', 'devetdeseta', 'devetnajsta', 'druga', 'dvaindevetdeseta', 'dvajseta', 'dvanajsta', 'dvestota', 'enaindvajseta', 'enajsta', 'osemdeseta', 'osemnajsta', 'osma', 'peta', 'petdeseta', 'petinštirideseta', 'petindvajseta', 'petinosemdeseta', 'petintrideseta', 'petnajsta', 'prva', 'sedemdeseta', 'sedemindvajseta', 'sedemnajsta', 'sedma', 'stota', 'tisoča', 'tretja', 'trideseta', 'triindvajseta', 'triintrideseta', 'trinajsta', 'tristota', 'četrtega', 'šestdesetega', 'šestega', 'šestnajstega', 'štiridesetega', 'štiriindvajsetega', 'štirinajstega', 'desetega', 'devetdesetega', 'devetega', 'devetnajstega', 'drugega', 'dvaindevetdesetega', 'dvajsetega', 'dvanajstega', 'dvestotega', 'enaindvajsetega', 'enajstega', 'osemdesetega', 'osemnajstega', 'osmega', 'petdesetega', 'petega', 'petinštiridesetega', 'petindvajsetega', 'petinosemdesetega', 'petintridesetega', 'petnajstega', 'prvega', 'sedemdesetega', 'sedemindvajsetega', 'sedemnajstega', 'sedmega', 'stotega', 'tisočega', 'tretjega', 'tridesetega', 'triindvajsetega', 'triintridesetega', 'trinajstega', 'tristotega', 'četrtemu', 'šestdesetemu', 'šestemu', 'šestnajstemu', 'štiridesetemu', 'štiriindvajsetemu', 'štirinajstemu', 'desetemu', 'devetdesetemu', 'devetemu', 'devetnajstemu', 'drugemu', 'dvaindevetdesetemu', 'dvajsetemu', 'dvanajstemu', 'dvestotemu', 'enaindvajsetemu', 'enajstemu', 'osemdesetemu', 'osemnajstemu', 'osmemu', 'petdesetemu', 'petemu', 'petinštiridesetemu', 'petindvajsetemu', 'petinosemdesetemu', 'petintridesetemu', 'petnajstemu', 'prvemu', 'sedemdesetemu', 'sedemindvajsetemu', 'sedemnajstemu', 'sedmemu', 'stotemu', 'tisočemu', 'tretjemu', 'tridesetemu', 'triindvajsetemu', 'triintridesetemu', 'trinajstemu', 'tristotemu', 'četrtem', 'šestdesetem', 'šestem', 'šestnajstem', 'štiridesetem', 'štiriindvajsetem', 'štirinajstem', 'desetem', 'devetdesetem', 'devetem', 'devetnajstem', 'drugem', 'dvaindevetdesetem', 'dvajsetem', 'dvanajstem', 'dvestotem', 'enaindvajsetem', 'enajstem', 'osemdesetem', 'osemnajstem', 'osmem', 'petdesetem', 'petem', 'petinštiridesetem', 'petindvajsetem', 'petinosemdesetem', 'petintridesetem', 'petnajstem', 'prvem', 'sedemdesetem', 'sedemindvajsetem', 'sedemnajstem', 'sedmem', 'stotem', 'tisočem', 'tretjem', 'tridesetem', 'triindvajsetem', 'triintridesetem', 'trinajstem', 'tristotem', 'deseteri', 'dvakratni', 'dvoji', 'enkratni', 'peteri', 'stoteri', 'tisočeri', 'trikratni', 'troji', 'deseterima', 'dvakratnima', 'dvojima', 'enkratnima', 'peterima', 'stoterima', 'tisočerima', 'trikratnima', 'trojima', 'deseterih', 'dvakratnih', 'dvojih', 'enkratnih', 'peterih', 'stoterih', 'tisočerih', 'trikratnih', 'trojih', 'desetere', 'dvakratne', 'dvoje', 'enkratne', 'petere', 'stotere', 'tisočere', 'trikratne', 'troje', 'deseterim', 'dvakratnim', 'dvojim', 'enkratnim', 'peterim', 'stoterim', 'tisočerim', 'trikratnim', 'trojim', 'deseterimi', 'dvakratnimi', 'dvojimi', 'enkratnimi', 'peterimi', 'stoterimi', 'tisočerimi', 'trikratnimi', 'trojimi', 'desetero', 'dvakratno', 'dvojo', 'enkratno', 'petero', 'stotero', 'tisočero', 'trikratno', 'trojo', 'desetera', 'dvakratna', 'dvoja', 'enkratna', 'petera', 'stotera', 'tisočera', 'trikratna', 'troja', 'deseterega', 'dvakratnega', 'dvojega', 'enkratnega', 'peterega', 'stoterega', 'tisočerega', 'trikratnega', 'trojega', 'deseter', 'dvakraten', 'dvoj', 'enkraten', 'peter', 'stoter', 'tisočer', 'trikraten', 'troj', 'deseteremu', 'dvakratnemu', 'dvojemu', 'enkratnemu', 'peteremu', 'stoteremu', 'tisočeremu', 'trikratnemu', 'trojemu', 'deseterem', 'dvakratnem', 'dvojem', 'enkratnem', 'peterem', 'stoterem', 'tisočerem', 'trikratnem', 'trojem', 'le-onega', 'le-tega', 'le-tistega', 'le-toliko', 'onega', 'tega', 'tistega', 'toliko', 'le-oni', 'le-takšni', 'le-taki', 'le-te', 'le-ti', 'le-tisti', 'oni', 'takšni', 'taki', 'te', 'ti', 'tisti', 'le-onima', 'le-takšnima', 'le-takima', 'le-tema', 'le-tistima', 'onima', 'takšnima', 'takima', 'tema', 'tistima', 'le-onih', 'le-takšnih', 'le-takih', 'le-teh', 'le-tistih', 'onih', 'takšnih', 'takih', 'teh', 'tistih', 'le-one', 'le-takšne', 'le-take', 'le-tiste', 'one', 'takšne', 'take', 'tiste', 'le-onim', 'le-takšnim', 'le-takim', 'le-tem', 'le-tistim', 'onim', 'takšnim', 'takim', 'tem', 'tistim', 'le-onimi', 'le-takšnimi', 'le-takimi', 'le-temi', 'le-tistimi', 'onimi', 'takšnimi', 'takimi', 'temi', 'tistimi', 'le-ono', 'le-takšno', 'le-tako', 'le-tisto', 'le-to', 'ono', 'takšno', 'tako', 'tisto', 'to', 'le-tej', 'tej', 'le-ona', 'le-ta', 'le-takšna', 'le-taka', 'le-tista', 'ona', 'ta', 'takšna', 'taka', 'tista', 'le-tak', 'le-takšen', 'tak', 'takšen', 'le-takšnega', 'le-takega', 'takšnega', 'takega', 'le-onemu', 'le-takšnemu', 'le-takemu', 'le-temu', 'le-tistemu', 'onemu', 'takšnemu', 'takemu', 'temu', 'temuintemu', 'tistemu', 'le-onem', 'le-takšnem', 'le-takem', 'le-tistem', 'onem', 'takšnem', 'takem', 'tistem', 'vsakogar', 'vsakomur', 'vsakomer', 'vsakdo', 'obe', 'vsaki', 'vsakršni', 'vsi', 'obema', 'vsakima', 'vsakršnima', 'vsema', 'obeh', 'vsakih', 'vsakršnih', 'vseh', 'vsake', 'vsakršne', 'vse', 'vsakim', 'vsakršnim', 'vsem', 'vsakimi', 'vsakršnimi', 'vsemi', 'vsako', 'vsakršno', 'vso', 'vsej', 'vsa', 'vsaka', 'vsakršna', 'oba', 'ves', 'vsak', 'vsakršen', 'vsakega', 'vsakršnega', 'vsega', 'vsakemu', 'vsakršnemu', 'vsemu', 'vsakem', 'vsakršnem', 'enako', 'istega', 'koliko', 'mnogo', 'nekoga', 'nekoliko', 'precej', 'kaj', 'koga', 'marsikaj', 'marsikoga', 'nekaj', 'čemu', 'komu', 'marsičemu', 'marsikomu', 'nečemu', 'nekomu', 'česa', 'marsičesa', 'nečesa', 'kom', 'marsičim', 'marsikom', 'nečim', 'nekom', 'čem', 'marsičem', 'nečem', 'kdo', 'marsikdo', 'nekdo', 'čigavi', 'drugačni', 'enaki', 'isti', 'kakšni', 'kaki', 'kakršnikoli', 'kateri', 'katerikoli', 'kolikšni', 'koliki', 'marsikateri', 'nekakšni', 'nekaki', 'nekateri', 'neki', 'takile', 'tele', 'tile', 'tolikšni', 'toliki', 'čigavima', 'drugačnima', 'enakima', 'enima', 'istima', 'kakšnima', 'kakima', 'kakršnimakoli', 'katerima', 'katerimakoli', 'kolikšnima', 'kolikima', 'marsikaterima', 'nekakšnima', 'nekakima', 'nekaterima', 'nekima', 'takimale', 'temale', 'tolikšnima', 'tolikima', 'čigavih', 'drugačnih', 'enakih', 'enih', 'istih', 'kakšnih', 'kakih', 'kakršnihkoli', 'katerih', 'katerihkoli', 'kolikšnih', 'kolikih', 'marsikaterih', 'nekakšnih', 'nekakih', 'nekaterih', 'nekih', 'takihle', 'tehle', 'tolikšnih', 'tolikih', 'čigave', 'drugačne', 'enake', 'iste', 'kakšne', 'kake', 'kakršnekoli', 'katere', 'katerekoli', 'kolikšne', 'kolike', 'marsikatere', 'nekakšne', 'nekake', 'nekatere', 'neke', 'takele', 'tolikšne', 'tolike', 'čigavim', 'drugačnim', 'enakim', 'istim', 'kakšnim', 'kakim', 'kakršnimkoli', 'katerim', 'katerimkoli', 'kolikšnim', 'kolikim', 'marsikaterim', 'nekakšnim', 'nekakim', 'nekaterim', 'nekim', 'takimle', 'temle', 'tolikšnim', 'tolikim', 'čigavimi', 'drugačnimi', 'enakimi', 'enimi', 'istimi', 'kakšnimi', 'kakimi', 'kakršnimikoli', 'katerimi', 'katerimikoli', 'kolikšnimi', 'kolikimi', 'marsikaterimi', 'nekakšnimi', 'nekakimi', 'nekaterimi', 'nekimi', 'takimile', 'temile', 'tolikšnimi', 'tolikimi', 'čigavo', 'drugačno', 'isto', 'kakšno', 'kako', 'kakršnokoli', 'katero', 'katerokoli', 'kolikšno', 'marsikatero', 'nekakšno', 'nekako', 'nekatero', 'neko', 'takole', 'tole', 'tolikšno', 'tejle', 'čigava', 'drugačna', 'enaka', 'ista', 'kakšna', 'kaka', 'kakršnakoli', 'katera', 'katerakoli', 'kolikšna', 'kolika', 'marsikatera', 'neka', 'nekakšna', 'nekaka', 'nekatera', 'takale', 'tale', 'tolikšna', 'tolika', 'čigav', 'drug', 'drugačen', 'enak', 'kak', 'kakšen', 'kakršenkoli', 'kakršnegakoli', 'kateregakoli', 'kolik', 'kolikšen', 'nek', 'nekak', 'nekakšen', 'takegale', 'takle', 'tegale', 'tolik', 'tolikšen', 'čigavega', 'drugačnega', 'enakega', 'kakšnega', 'kakega', 'katerega', 'kolikšnega', 'kolikega', 'marsikaterega', 'nekakšnega', 'nekakega', 'nekaterega', 'nekega', 'tolikšnega', 'tolikega', 'čigavemu', 'drugačnemu', 'enakemu', 'istemu', 'kakšnemu', 'kakemu', 'kakršnemukoli', 'kateremu', 'kateremukoli', 'kolikšnemu', 'kolikemu', 'marsikateremu', 'nekakšnemu', 'nekakemu', 'nekateremu', 'nekemu', 'takemule', 'temule', 'tolikšnemu', 'tolikemu', 'čigavem', 'drugačnem', 'enakem', 'istem', 'kakšnem', 'kakem', 'kakršnemkoli', 'katerem', 'kateremkoli', 'kolikšnem', 'kolikem', 'marsikaterem', 'nekakšnem', 'nekakem', 'nekaterem', 'nekem', 'takemle', 'tolikšnem', 'tolikem', 'naju', 'nama', 'midva', 'nas', 'nam', 'nami', 'mi', 'mene', 'me', 'meni', 'mano', 'menoj', 'jaz', 'vaju', 'vama', 'vidva', 'vas', 'vam', 'vami', 'vi', 'tebe', 'tebi', 'tabo', 'teboj', 'njiju', 'jih', 'ju', 'njima', 'jima', 'onedve', 'onidve', 'nje', 'njih', 'njim', 'jim', 'njimi', 'njo', 'jo', 'njej', 'nji', 'ji', 'je', 'onadva', 'njega', 'ga', 'njemu', 'mu', 'njem', 'on', 'čigar', 'kolikor', 'kar', 'karkoli', 'kogar', 'kogarkoli', 'čemur', 'čemurkoli', 'komur', 'komurkoli', 'česar', 'česarkoli', 'čimer', 'čimerkoli', 'komer', 'komerkoli', 'čemer', 'čemerkoli', 'kdor', 'kdorkoli', 'kakršni', 'kakršnima', 'kakršnih', 'kakršne', 'kakršnim', 'kakršnimi', 'kakršno', 'kakršna', 'kakršen', 'kakršnega', 'kakršnemu', 'kakršnem', 'najini', 'naši', 'moji', 'najinima', 'našima', 'mojima', 'najinih', 'naših', 'mojih', 'najine', 'naše', 'moje', 'najinim', 'našim', 'mojim', 'najinimi', 'našimi', 'mojimi', 'najino', 'našo', 'mojo', 'najina', 'naša', 'moja', 'najin', 'najinega', 'naš', 'našega', 'moj', 'mojega', 'najinemu', 'našemu', 'mojemu', 'najinem', 'našem', 'mojem', 'vajini', 'vaši', 'tvoji', 'vajinima', 'vašima', 'tvojima', 'vajinih', 'vaših', 'tvojih', 'vajine', 'vaše', 'tvoje', 'vajinim', 'vašim', 'tvojim', 'vajinimi', 'vašimi', 'tvojimi', 'vajino', 'vašo', 'tvojo', 'vajina', 'vaša', 'tvoja', 'vajin', 'vajinega', 'vaš', 'vašega', 'tvoj', 'tvojega', 'vajinemu', 'vašemu', 'tvojemu', 'vajinem', 'vašem', 'tvojem', 'njuni', 'njihovi', 'njeni', 'njegovi', 'njunima', 'njihovima', 'njenima', 'njegovima', 'njunih', 'njihovih', 'njenih', 'njegovih', 'njune', 'njihove', 'njene', 'njegove', 'njunim', 'njihovim', 'njenim', 'njegovim', 'njunimi', 'njihovimi', 'njenimi', 'njegovimi', 'njuno', 'njihovo', 'njeno', 'njegovo', 'njuna', 'njihova', 'njena', 'njegova', 'njun', 'njunega', 'njihov', 'njihovega', 'njen', 'njenega', 'njegov', 'njegovega', 'njunemu', 'njihovemu', 'njenemu', 'njegovemu', 'njunem', 'njihovem', 'njenem', 'njegovem', 'se', 'si', 'sebe', 'sebi', 'sabo', 'seboj', 'svoji', 'svojima', 'svojih', 'svoje', 'svojim', 'svojimi', 'svojo', 'svoja', 'svoj', 'svojega', 'svojemu', 'svojem', 'nikogar', 'noben', 'ničemur', 'nikomur', 'ničesar', 'ničimer', 'nikomer', 'ničemer', 'nihče', 'nikakršni', 'nobeni', 'nikakršnima', 'nobenima', 'nikakršnih', 'nobenih', 'nikakršne', 'nobene', 'nikakršnim', 'nobenim', 'nikakršnimi', 'nobenimi', 'nikakršno', 'nobeno', 'nikakršna', 'nobena', 'nikakršen', 'nikakršnega', 'nobenega', 'nikakršnemu', 'nobenemu', 'nikakršnem', 'nobenem', 'še', 'šele', 'žal', 'že', 'baje', 'bojda', 'bržčas', 'bržkone', 'celo', 'dobesedno', 'domala', 'edinole', 'gotovo', 'itak', 'ja', 'kajne', 'kajpada', 'kajpak', 'koli', 'komaj', 'le', 'malone', 'mar', 'menda', 'morda', 'morebiti', 'nadvse', 'najbrž', 'nemara', 'nerad', 'neradi', 'nikar', 'pač', 'pogodu', 'prav', 'pravzaprav', 'predvsem', 'preprosto', 'rad', 'rada', 'rade', 'radi', 'ravno', 'res', 'resda', 'samo', 'seveda', 'skoraj', 'skorajda', 'spet', 'sploh', 'tudi', 'všeč', 'verjetno', 'vnovič', 'vred', 'vsaj', 'zadosti', 'zapored', 'zares', 'zgolj', 'zlasti', 'zopet', 'čezenj', 'čeznje', 'mednje', 'mednju', 'medse', 'nadenj', 'nadme', 'nadnje', 'name', 'nanj', 'nanje', 'nanjo', 'nanju', 'nase', 'nate', 'obenj', 'podnjo', 'pome', 'ponj', 'ponje', 'ponjo', 'pote', 'predenj', 'predme', 'prednje', 'predse', 'skozenj', 'skoznje', 'skoznjo', 'skozte', 'vame', 'vanj', 'vanje', 'vanjo', 'vanju', 'vase', 'vate', 'zame', 'zanj', 'zanje', 'zanjo', 'zanju', 'zase', 'zate', 'čez', 'med', 'na', 'nad', 'ob', 'po', 'pod', 'pred', 'raz', 'skoz', 'skozi', 'v', 'za', 'zoper', 'h', 'k', 'kljub', 'nasproti', 'navkljub', 'navzlic', 'proti', 'ž', 'blizu', 'brez', 'dno', 'do', 'iz', 'izmed', 'iznad', 'izpod', 'izpred', 'izven', 'izza', 'krog', 'mimo', 'namesto', 'naokoli', 'naproti', 'od', 'okoli', 'okrog', 'onkraj', 'onstran', 'poleg', 'povrh', 'povrhu', 'prek', 'preko', 'razen', 's', 'spod', 'spričo', 'sredi', 'vštric', 'vpričo', 'vrh', 'vrhu', 'vzdolž', 'z', 'zaradi', 'zavoljo', 'zraven', 'zunaj', 'o', 'pri', 'bi', 'bova', 'bomo', 'bom', 'bosta', 'boste', 'boš', 'bodo', 'bojo', 'bo', 'sva', 'nisva', 'smo', 'nismo', 'sem', 'nisem', 'sta', 'nista', 'ste', 'niste', 'nisi', 'so', 'niso', 'ni', 'bodiva', 'bodimo', 'bodita', 'bodite', 'bodi', 'biti', 'bili', 'bila', 'bile', 'bil', 'bilo', 'želiva', 'dovoliva', 'hočeva', 'marava', 'morava', 'moreva', 'smeva', 'zmoreva', 'nočeva', 'želimo', 'dovolimo', 'hočemo', 'maramo', 'moramo', 'moremo', 'smemo', 'zmoremo', 'nočemo', 'želim', 'dovolim', 'hočem', 'maram', 'moram', 'morem', 'smem', 'zmorem', 'nočem', 'želita', 'dovolita', 'hočeta', 'marata', 'morata', 'moreta', 'smeta', 'zmoreta', 'nočeta', 'želite', 'dovolite', 'hočete', 'marate', 'morate', 'morete', 'smete', 'zmorete', 'nočete', 'želiš', 'dovoliš', 'hočeš', 'maraš', 'moraš', 'moreš', 'smeš', 'zmoreš', 'nočeš', 'želijo', 'dovolijo', 'hočejo', 'marajo', 'morajo', 'morejo', 'smejo', 'zmorejo', 'nočejo', 'želi', 'dovoli', 'hoče', 'mara', 'mora', 'more', 'sme', 'zmore', 'noče', 'hotiva', 'marajva', 'hotimo', 'marajmo', 'hotita', 'marajta', 'hotite', 'marajte', 'hoti', 'maraj', 'želeti', 'dovoliti', 'hoteti', 'marati', 'moči', 'morati', 'smeti', 'zmoči', 'želeni', 'dovoljeni', 'želena', 'dovoljena', 'želene', 'dovoljene', 'želen', 'dovoljen', 'želeno', 'dovoljeno', 'želeli', 'dovolili', 'hoteli', 'marali', 'mogli', 'morali', 'smeli', 'zmogli', 'želela', 'dovolila', 'hotela', 'marala', 'mogla', 'morala', 'smela', 'zmogla', 'želele', 'dovolile', 'hotele', 'marale', 'mogle', 'morale', 'smele', 'zmogle', 'želel', 'dovolil', 'hotel', 'maral', 'mogel', 'moral', 'smel', 'zmogel', 'želelo', 'dovolilo', 'hotelo', 'maralo', 'moglo', 'moralo', 'smelo', 'zmogl']\n",
            "\n",
            "\n",
            "Stopwords trong ngôn ngữ spanish:\n",
            "['de', 'la', 'que', 'el', 'en', 'y', 'a', 'los', 'del', 'se', 'las', 'por', 'un', 'para', 'con', 'no', 'una', 'su', 'al', 'lo', 'como', 'más', 'pero', 'sus', 'le', 'ya', 'o', 'este', 'sí', 'porque', 'esta', 'entre', 'cuando', 'muy', 'sin', 'sobre', 'también', 'me', 'hasta', 'hay', 'donde', 'quien', 'desde', 'todo', 'nos', 'durante', 'todos', 'uno', 'les', 'ni', 'contra', 'otros', 'ese', 'eso', 'ante', 'ellos', 'e', 'esto', 'mí', 'antes', 'algunos', 'qué', 'unos', 'yo', 'otro', 'otras', 'otra', 'él', 'tanto', 'esa', 'estos', 'mucho', 'quienes', 'nada', 'muchos', 'cual', 'poco', 'ella', 'estar', 'estas', 'algunas', 'algo', 'nosotros', 'mi', 'mis', 'tú', 'te', 'ti', 'tu', 'tus', 'ellas', 'nosotras', 'vosotros', 'vosotras', 'os', 'mío', 'mía', 'míos', 'mías', 'tuyo', 'tuya', 'tuyos', 'tuyas', 'suyo', 'suya', 'suyos', 'suyas', 'nuestro', 'nuestra', 'nuestros', 'nuestras', 'vuestro', 'vuestra', 'vuestros', 'vuestras', 'esos', 'esas', 'estoy', 'estás', 'está', 'estamos', 'estáis', 'están', 'esté', 'estés', 'estemos', 'estéis', 'estén', 'estaré', 'estarás', 'estará', 'estaremos', 'estaréis', 'estarán', 'estaría', 'estarías', 'estaríamos', 'estaríais', 'estarían', 'estaba', 'estabas', 'estábamos', 'estabais', 'estaban', 'estuve', 'estuviste', 'estuvo', 'estuvimos', 'estuvisteis', 'estuvieron', 'estuviera', 'estuvieras', 'estuviéramos', 'estuvierais', 'estuvieran', 'estuviese', 'estuvieses', 'estuviésemos', 'estuvieseis', 'estuviesen', 'estando', 'estado', 'estada', 'estados', 'estadas', 'estad', 'he', 'has', 'ha', 'hemos', 'habéis', 'han', 'haya', 'hayas', 'hayamos', 'hayáis', 'hayan', 'habré', 'habrás', 'habrá', 'habremos', 'habréis', 'habrán', 'habría', 'habrías', 'habríamos', 'habríais', 'habrían', 'había', 'habías', 'habíamos', 'habíais', 'habían', 'hube', 'hubiste', 'hubo', 'hubimos', 'hubisteis', 'hubieron', 'hubiera', 'hubieras', 'hubiéramos', 'hubierais', 'hubieran', 'hubiese', 'hubieses', 'hubiésemos', 'hubieseis', 'hubiesen', 'habiendo', 'habido', 'habida', 'habidos', 'habidas', 'soy', 'eres', 'es', 'somos', 'sois', 'son', 'sea', 'seas', 'seamos', 'seáis', 'sean', 'seré', 'serás', 'será', 'seremos', 'seréis', 'serán', 'sería', 'serías', 'seríamos', 'seríais', 'serían', 'era', 'eras', 'éramos', 'erais', 'eran', 'fui', 'fuiste', 'fue', 'fuimos', 'fuisteis', 'fueron', 'fuera', 'fueras', 'fuéramos', 'fuerais', 'fueran', 'fuese', 'fueses', 'fuésemos', 'fueseis', 'fuesen', 'sintiendo', 'sentido', 'sentida', 'sentidos', 'sentidas', 'siente', 'sentid', 'tengo', 'tienes', 'tiene', 'tenemos', 'tenéis', 'tienen', 'tenga', 'tengas', 'tengamos', 'tengáis', 'tengan', 'tendré', 'tendrás', 'tendrá', 'tendremos', 'tendréis', 'tendrán', 'tendría', 'tendrías', 'tendríamos', 'tendríais', 'tendrían', 'tenía', 'tenías', 'teníamos', 'teníais', 'tenían', 'tuve', 'tuviste', 'tuvo', 'tuvimos', 'tuvisteis', 'tuvieron', 'tuviera', 'tuvieras', 'tuviéramos', 'tuvierais', 'tuvieran', 'tuviese', 'tuvieses', 'tuviésemos', 'tuvieseis', 'tuviesen', 'teniendo', 'tenido', 'tenida', 'tenidos', 'tenidas', 'tened']\n",
            "\n",
            "\n",
            "Stopwords trong ngôn ngữ swedish:\n",
            "['och', 'det', 'att', 'i', 'en', 'jag', 'hon', 'som', 'han', 'på', 'den', 'med', 'var', 'sig', 'för', 'så', 'till', 'är', 'men', 'ett', 'om', 'hade', 'de', 'av', 'icke', 'mig', 'du', 'henne', 'då', 'sin', 'nu', 'har', 'inte', 'hans', 'honom', 'skulle', 'hennes', 'där', 'min', 'man', 'ej', 'vid', 'kunde', 'något', 'från', 'ut', 'när', 'efter', 'upp', 'vi', 'dem', 'vara', 'vad', 'över', 'än', 'dig', 'kan', 'sina', 'här', 'ha', 'mot', 'alla', 'under', 'någon', 'eller', 'allt', 'mycket', 'sedan', 'ju', 'denna', 'själv', 'detta', 'åt', 'utan', 'varit', 'hur', 'ingen', 'mitt', 'ni', 'bli', 'blev', 'oss', 'din', 'dessa', 'några', 'deras', 'blir', 'mina', 'samma', 'vilken', 'er', 'sådan', 'vår', 'blivit', 'dess', 'inom', 'mellan', 'sådant', 'varför', 'varje', 'vilka', 'ditt', 'vem', 'vilket', 'sitta', 'sådana', 'vart', 'dina', 'vars', 'vårt', 'våra', 'ert', 'era', 'vilkas']\n",
            "\n",
            "\n",
            "Stopwords trong ngôn ngữ tajik:\n",
            "['аз', 'дар', 'ба', 'бо', 'барои', 'бе', 'то', 'ҷуз', 'пеши', 'назди', 'рӯйи', 'болои ', 'паси', 'ғайри', 'ҳамон', 'ҳамоно', 'инҷониб', 'замон', 'замоно', 'эътиборан', 'пеш', 'қабл', 'дида', 'сар карда', 'агар ', 'агар ки', 'валекин ', 'ки', 'лекин', 'аммо', 'вале', 'балки', 'ва', 'ҳарчанд', 'чунки', 'зеро', 'зеро ки', 'вақте ки', 'то вақте ки', 'барои он ки', 'бо нияти он ки', 'лекин ва ҳол он ки', 'ё', 'ё ин ки  ', 'бе он ки ', 'дар ҳолате ки', 'то даме ки ', 'баъд аз он ки', 'даме ки', 'ба тразе ки ', 'аз баҳри он ки', 'гар ', 'ар', 'ба шарте', 'азбаски ', 'модоме ки', 'агар чи', 'гарчанде ки ', 'бо вуҷуди он ки', 'гӯё', 'аз-баски ', 'чун-ки', 'агар-чанд', 'агар-чи ', 'гар-чи', 'то ки', 'чунон ки', 'то даме ки', 'ҳар қадар ки', 'магар ', 'оё', 'наход', 'ҳатто ', 'ҳам ', 'бале ', 'оре ', 'хуб ', 'хуш', 'хайр', 'не', 'на', 'мана', 'э', 'фақат', 'танҳо', 'кошки ', 'мабодо', 'ҳтимол', 'ана ҳамин', 'наход ки', 'ҳатто ки', 'аз афташ', 'майлаш куя', 'ана', 'ҳа', 'канӣ', 'гӯё ки', 'ҳо ана', 'на ин ки', 'ваҳ', 'ҳой', 'и', 'а', 'о', 'эҳ', 'ҳе', 'ҳу', 'аҳа', 'оҳе', 'уҳа', 'ҳм', 'нм', 'оббо', 'ӯббо', 'ҳой-ҳой ', 'вой-вой', 'ту-ту', 'ҳмм', 'эҳа', 'тавба', 'ӯҳӯ', 'аҷабо', 'ало', 'аё', 'ой', 'ӯим ', 'ором', 'хом?ш', 'ҳай-ҳай ', 'бай-бай', 'аз ', 'он', 'баъд', 'азбаски', 'ӯ', 'ҳангоми', 'чӣ', 'кадом', 'ин', 'ҷо', 'ҳам', 'ё ки', 'бояд', 'аст', 'чанд', 'ҳар', 'бар', 'чаро ки', 'агар', 'то кӣ', 'бинобар', 'бинобар ин', 'ҳаргиз', 'асло', 'нахот', 'нахот ки', 'кошкӣ', 'шояд', 'шояд ки', 'охир', 'аз рӯи', 'аз рӯйи ', 'рӯ']\n",
            "\n",
            "\n",
            "Stopwords trong ngôn ngữ turkish:\n",
            "['acaba', 'ama', 'aslında', 'az', 'bazı', 'belki', 'biri', 'birkaç', 'birşey', 'biz', 'bu', 'çok', 'çünkü', 'da', 'daha', 'de', 'defa', 'diye', 'eğer', 'en', 'gibi', 'hem', 'hep', 'hepsi', 'her', 'hiç', 'için', 'ile', 'ise', 'kez', 'ki', 'kim', 'mı', 'mu', 'mü', 'nasıl', 'ne', 'neden', 'nerde', 'nerede', 'nereye', 'niçin', 'niye', 'o', 'sanki', 'şey', 'siz', 'şu', 'tüm', 've', 'veya', 'ya', 'yani']\n",
            "\n",
            "\n"
          ]
        },
        {
          "output_type": "stream",
          "name": "stderr",
          "text": [
            "[nltk_data] Downloading package stopwords to /root/nltk_data...\n",
            "[nltk_data]   Package stopwords is already up-to-date!\n"
          ]
        }
      ]
    },
    {
      "cell_type": "markdown",
      "source": [
        "Bai 3"
      ],
      "metadata": {
        "id": "ulV35Lf82pH1"
      }
    },
    {
      "cell_type": "code",
      "source": [
        "import nltk\n",
        "\n",
        "# Tải bộ dữ liệu stopwords nếu chưa tải\n",
        "nltk.download('stopwords')\n",
        "\n",
        "# Lấy danh sách các ngôn ngữ có sẵn trong NLTK stopwords\n",
        "from nltk.corpus import stopwords\n",
        "\n",
        "# Liệt kê các ngôn ngữ có sẵn trong NLTK\n",
        "languages = stopwords.fileids()\n",
        "\n",
        "# Kiểm tra stopwords cho từng ngôn ngữ và hiển thị\n",
        "for lang in languages:\n",
        "    print(f\"Stopwords trong ngôn ngữ {lang}:\")\n",
        "    stopwords_list = stopwords.words(lang)\n",
        "    print(f\"Số lượng stopwords: {len(stopwords_list)}\")\n",
        "    print(stopwords_list[:10])  # Hiển thị 10 stopwords đầu tiên\n",
        "    print(\"\\n\")\n"
      ],
      "metadata": {
        "colab": {
          "base_uri": "https://localhost:8080/"
        },
        "id": "J4yIq0Dj2ovN",
        "outputId": "ecedc685-cd18-408c-9c79-bdaa4aa16df8"
      },
      "execution_count": 52,
      "outputs": [
        {
          "output_type": "stream",
          "name": "stdout",
          "text": [
            "Stopwords trong ngôn ngữ albanian:\n",
            "Số lượng stopwords: 237\n",
            "['tyre', 'rreth', 'le', 'atyre', 'këta', 'megjithëse', 'kemi', 'per', 'ndonëse', 'dytë']\n",
            "\n",
            "\n",
            "Stopwords trong ngôn ngữ arabic:\n",
            "Số lượng stopwords: 754\n",
            "['إذ', 'إذا', 'إذما', 'إذن', 'أف', 'أقل', 'أكثر', 'ألا', 'إلا', 'التي']\n",
            "\n",
            "\n",
            "Stopwords trong ngôn ngữ azerbaijani:\n",
            "Số lượng stopwords: 165\n",
            "['a', 'ad', 'altı', 'altmış', 'amma', 'arasında', 'artıq', 'ay', 'az', 'bax']\n",
            "\n",
            "\n",
            "Stopwords trong ngôn ngữ basque:\n",
            "Số lượng stopwords: 326\n",
            "['ahala', 'aitzitik', 'al', 'ala ', 'alabadere', 'alabaina', 'alabaina', 'aldiz ', 'alta', 'amaitu']\n",
            "\n",
            "\n",
            "Stopwords trong ngôn ngữ belarusian:\n",
            "Số lượng stopwords: 224\n",
            "['на', 'не', 'што', 'па', 'да', 'за', 'як', 'для', 'гэта', 'ад']\n",
            "\n",
            "\n",
            "Stopwords trong ngôn ngữ bengali:\n",
            "Số lượng stopwords: 398\n",
            "['অতএব', 'অথচ', 'অথবা', 'অনুযায়ী', 'অনেক', 'অনেকে', 'অনেকেই', 'অন্তত', 'অন্য', 'অবধি']\n",
            "\n",
            "\n",
            "Stopwords trong ngôn ngữ catalan:\n",
            "Số lượng stopwords: 278\n",
            "['a', 'abans', 'ací', 'ah', 'així', 'això', 'al', 'aleshores', 'algun', 'alguna']\n",
            "\n",
            "\n",
            "Stopwords trong ngôn ngữ chinese:\n",
            "Số lượng stopwords: 841\n",
            "['一', '一下', '一些', '一切', '一则', '一天', '一定', '一方面', '一旦', '一时']\n",
            "\n",
            "\n",
            "Stopwords trong ngôn ngữ danish:\n",
            "Số lượng stopwords: 94\n",
            "['og', 'i', 'jeg', 'det', 'at', 'en', 'den', 'til', 'er', 'som']\n",
            "\n",
            "\n",
            "Stopwords trong ngôn ngữ dutch:\n",
            "Số lượng stopwords: 101\n",
            "['de', 'en', 'van', 'ik', 'te', 'dat', 'die', 'in', 'een', 'hij']\n",
            "\n",
            "\n",
            "Stopwords trong ngôn ngữ english:\n",
            "Số lượng stopwords: 198\n",
            "['a', 'about', 'above', 'after', 'again', 'against', 'ain', 'all', 'am', 'an']\n",
            "\n",
            "\n",
            "Stopwords trong ngôn ngữ finnish:\n",
            "Số lượng stopwords: 235\n",
            "['olla', 'olen', 'olet', 'on', 'olemme', 'olette', 'ovat', 'ole', 'oli', 'olisi']\n",
            "\n",
            "\n",
            "Stopwords trong ngôn ngữ french:\n",
            "Số lượng stopwords: 157\n",
            "['au', 'aux', 'avec', 'ce', 'ces', 'dans', 'de', 'des', 'du', 'elle']\n",
            "\n",
            "\n",
            "Stopwords trong ngôn ngữ german:\n",
            "Số lượng stopwords: 232\n",
            "['aber', 'alle', 'allem', 'allen', 'aller', 'alles', 'als', 'also', 'am', 'an']\n",
            "\n",
            "\n",
            "Stopwords trong ngôn ngữ greek:\n",
            "Số lượng stopwords: 265\n",
            "['αλλα', 'αν', 'αντι', 'απο', 'αυτα', 'αυτεσ', 'αυτη', 'αυτο', 'αυτοι', 'αυτοσ']\n",
            "\n",
            "\n",
            "Stopwords trong ngôn ngữ hebrew:\n",
            "Số lượng stopwords: 221\n",
            "['אני', 'את', 'אתה', 'אנחנו', 'אתן', 'אתם', 'הם', 'הן', 'היא', 'הוא']\n",
            "\n",
            "\n",
            "Stopwords trong ngôn ngữ hinglish:\n",
            "Số lượng stopwords: 1036\n",
            "['a', 'aadi', 'aaj', 'aap', 'aapne', 'aata', 'aati', 'aaya', 'aaye', 'ab']\n",
            "\n",
            "\n",
            "Stopwords trong ngôn ngữ hungarian:\n",
            "Số lượng stopwords: 199\n",
            "['a', 'ahogy', 'ahol', 'aki', 'akik', 'akkor', 'alatt', 'által', 'általában', 'amely']\n",
            "\n",
            "\n",
            "Stopwords trong ngôn ngữ indonesian:\n",
            "Số lượng stopwords: 758\n",
            "['ada', 'adalah', 'adanya', 'adapun', 'agak', 'agaknya', 'agar', 'akan', 'akankah', 'akhir']\n",
            "\n",
            "\n",
            "Stopwords trong ngôn ngữ italian:\n",
            "Số lượng stopwords: 279\n",
            "['ad', 'al', 'allo', 'ai', 'agli', 'all', 'agl', 'alla', 'alle', 'con']\n",
            "\n",
            "\n",
            "Stopwords trong ngôn ngữ kazakh:\n",
            "Số lượng stopwords: 324\n",
            "['ах', 'ох', 'эх', 'ай', 'эй', 'ой', 'тағы', 'тағыда', 'әрине', 'жоқ']\n",
            "\n",
            "\n",
            "Stopwords trong ngôn ngữ nepali:\n",
            "Số lượng stopwords: 255\n",
            "['छ', 'र', 'पनि', 'छन्', 'लागि', 'भएको', 'गरेको', 'भने', 'गर्न', 'गर्ने']\n",
            "\n",
            "\n",
            "Stopwords trong ngôn ngữ norwegian:\n",
            "Số lượng stopwords: 176\n",
            "['og', 'i', 'jeg', 'det', 'at', 'en', 'et', 'den', 'til', 'er']\n",
            "\n",
            "\n",
            "Stopwords trong ngôn ngữ portuguese:\n",
            "Số lượng stopwords: 207\n",
            "['a', 'à', 'ao', 'aos', 'aquela', 'aquelas', 'aquele', 'aqueles', 'aquilo', 'as']\n",
            "\n",
            "\n",
            "Stopwords trong ngôn ngữ romanian:\n",
            "Số lượng stopwords: 356\n",
            "['a', 'abia', 'acea', 'aceasta', 'această', 'aceea', 'aceeasi', 'acei', 'aceia', 'acel']\n",
            "\n",
            "\n",
            "Stopwords trong ngôn ngữ russian:\n",
            "Số lượng stopwords: 151\n",
            "['и', 'в', 'во', 'не', 'что', 'он', 'на', 'я', 'с', 'со']\n",
            "\n",
            "\n",
            "Stopwords trong ngôn ngữ slovene:\n",
            "Số lượng stopwords: 1784\n",
            "['ali', 'ampak', 'bodisi', 'in', 'kajti', 'marveč', 'namreč', 'ne', 'niti', 'oziroma']\n",
            "\n",
            "\n",
            "Stopwords trong ngôn ngữ spanish:\n",
            "Số lượng stopwords: 313\n",
            "['de', 'la', 'que', 'el', 'en', 'y', 'a', 'los', 'del', 'se']\n",
            "\n",
            "\n",
            "Stopwords trong ngôn ngữ swedish:\n",
            "Số lượng stopwords: 114\n",
            "['och', 'det', 'att', 'i', 'en', 'jag', 'hon', 'som', 'han', 'på']\n",
            "\n",
            "\n",
            "Stopwords trong ngôn ngữ tajik:\n",
            "Số lượng stopwords: 163\n",
            "['аз', 'дар', 'ба', 'бо', 'барои', 'бе', 'то', 'ҷуз', 'пеши', 'назди']\n",
            "\n",
            "\n",
            "Stopwords trong ngôn ngữ turkish:\n",
            "Số lượng stopwords: 53\n",
            "['acaba', 'ama', 'aslında', 'az', 'bazı', 'belki', 'biri', 'birkaç', 'birşey', 'biz']\n",
            "\n",
            "\n"
          ]
        },
        {
          "output_type": "stream",
          "name": "stderr",
          "text": [
            "[nltk_data] Downloading package stopwords to /root/nltk_data...\n",
            "[nltk_data]   Package stopwords is already up-to-date!\n"
          ]
        }
      ]
    },
    {
      "cell_type": "markdown",
      "source": [
        "Bai 4"
      ],
      "metadata": {
        "id": "H-17e3eX2okV"
      }
    },
    {
      "cell_type": "code",
      "source": [
        "import nltk\n",
        "from nltk.corpus import stopwords\n",
        "from nltk.tokenize import word_tokenize\n",
        "\n",
        "# Tải các bộ dữ liệu cần thiết nếu chưa tải\n",
        "nltk.download('punkt')\n",
        "nltk.download('stopwords')\n",
        "\n",
        "# Văn bản mẫu\n",
        "text = \"\"\"\n",
        "NLTK (Natural Language Toolkit) là một thư viện Python dành cho xử lý ngôn ngữ tự nhiên.\n",
        "Với NLTK, bạn có thể dễ dàng thực hiện các tác vụ như phân tích cú pháp, tách từ, gán nhãn từ loại và nhiều tác vụ khác.\n",
        "\"\"\"\n",
        "\n",
        "# Token hóa văn bản\n",
        "tokens = word_tokenize(text)\n",
        "\n",
        "# Lấy danh sách stopwords cho tiếng Anh\n",
        "stop_words = set(stopwords.words('english'))\n",
        "\n",
        "# Loại bỏ stopwords\n",
        "filtered_tokens = [word for word in tokens if word.lower() not in stop_words]\n",
        "\n",
        "# In kết quả\n",
        "print(\"Văn bản sau khi loại bỏ stopwords:\")\n",
        "print(\" \".join(filtered_tokens))\n"
      ],
      "metadata": {
        "colab": {
          "base_uri": "https://localhost:8080/"
        },
        "id": "oQMqw7-a20dV",
        "outputId": "584537ee-3bfc-4b21-b788-23bd5d86287b"
      },
      "execution_count": 53,
      "outputs": [
        {
          "output_type": "stream",
          "name": "stdout",
          "text": [
            "Văn bản sau khi loại bỏ stopwords:\n",
            "NLTK ( Natural Language Toolkit ) là một thư viện Python dành cho xử lý ngôn ngữ tự nhiên . Với NLTK , bạn có thể dễ dàng thực hiện các tác vụ như phân tích cú pháp , tách từ , gán nhãn từ loại và nhiều tác vụ khác .\n"
          ]
        },
        {
          "output_type": "stream",
          "name": "stderr",
          "text": [
            "[nltk_data] Downloading package punkt to /root/nltk_data...\n",
            "[nltk_data]   Package punkt is already up-to-date!\n",
            "[nltk_data] Downloading package stopwords to /root/nltk_data...\n",
            "[nltk_data]   Package stopwords is already up-to-date!\n"
          ]
        }
      ]
    },
    {
      "cell_type": "markdown",
      "source": [
        "Bai 5"
      ],
      "metadata": {
        "id": "LZ7a__F020M1"
      }
    },
    {
      "cell_type": "code",
      "source": [
        "import nltk\n",
        "from nltk.corpus import stopwords\n",
        "from nltk.tokenize import word_tokenize\n",
        "\n",
        "# Tải các bộ dữ liệu cần thiết\n",
        "nltk.download('punkt')\n",
        "nltk.download('stopwords')\n",
        "\n",
        "# Văn bản mẫu\n",
        "text = \"\"\"\n",
        "Natural Language Processing (NLP) là một lĩnh vực trong khoa học máy tính, xử lý ngôn ngữ tự nhiên,\n",
        "cho phép máy tính hiểu và tương tác với ngôn ngữ con người.\n",
        "\"\"\"\n",
        "\n",
        "# Token hóa văn bản\n",
        "tokens = word_tokenize(text)\n",
        "\n",
        "# Lấy danh sách stopwords cho tiếng Anh\n",
        "stop_words = set(stopwords.words('english'))\n",
        "\n",
        "# Loại bỏ stopwords\n",
        "filtered_tokens = [word for word in tokens if word.lower() not in stop_words]\n",
        "\n",
        "# In kết quả\n",
        "print(\"Văn bản sau khi loại bỏ stopwords:\")\n",
        "print(\" \".join(filtered_tokens))\n"
      ],
      "metadata": {
        "colab": {
          "base_uri": "https://localhost:8080/"
        },
        "id": "G-lym-we3DLG",
        "outputId": "adc18c51-3162-4326-f8a6-d00b2ca20e53"
      },
      "execution_count": 54,
      "outputs": [
        {
          "output_type": "stream",
          "name": "stdout",
          "text": [
            "Văn bản sau khi loại bỏ stopwords:\n",
            "Natural Language Processing ( NLP ) là một lĩnh vực trong khoa học máy tính , xử lý ngôn ngữ tự nhiên , cho phép máy tính hiểu và tương tác với ngôn ngữ con người .\n"
          ]
        },
        {
          "output_type": "stream",
          "name": "stderr",
          "text": [
            "[nltk_data] Downloading package punkt to /root/nltk_data...\n",
            "[nltk_data]   Package punkt is already up-to-date!\n",
            "[nltk_data] Downloading package stopwords to /root/nltk_data...\n",
            "[nltk_data]   Package stopwords is already up-to-date!\n"
          ]
        }
      ]
    },
    {
      "cell_type": "markdown",
      "source": [
        "Bai 6"
      ],
      "metadata": {
        "id": "Hq-wgwKP222N"
      }
    },
    {
      "cell_type": "code",
      "source": [
        "import nltk\n",
        "from nltk.corpus import wordnet\n",
        "\n",
        "# Tải bộ dữ liệu cần thiết\n",
        "nltk.download('wordnet')\n",
        "nltk.download('omw-1.4')\n",
        "\n",
        "# Hàm tìm định nghĩa và ví dụ của từ\n",
        "def get_word_info(word):\n",
        "    # Tìm tất cả các synsets (tập hợp từ đồng nghĩa) của từ\n",
        "    synsets = wordnet.synsets(word)\n",
        "\n",
        "    # Nếu không tìm thấy synset cho từ, trả về thông báo không có kết quả\n",
        "    if not synsets:\n",
        "        return f\"Không tìm thấy thông tin cho từ '{word}'.\"\n",
        "\n",
        "    # Lặp qua các synset và lấy định nghĩa và ví dụ\n",
        "    word_info = []\n",
        "    for synset in synsets:\n",
        "        definition = synset.definition()\n",
        "        examples = synset.examples()\n",
        "        word_info.append({\n",
        "            'Definition': definition,\n",
        "            'Examples': examples if examples else [\"Không có ví dụ\"]\n",
        "        })\n",
        "\n",
        "    return word_info\n",
        "\n",
        "# Từ cần tìm thông tin\n",
        "word = \"dog\"\n",
        "\n",
        "# Lấy thông tin về từ\n",
        "info = get_word_info(word)\n",
        "\n",
        "# Hiển thị thông tin về từ\n",
        "for idx, data in enumerate(info, 1):\n",
        "    print(f\"Định nghĩa {idx}: {data['Definition']}\")\n",
        "    print(f\"Ví dụ {idx}: {', '.join(data['Examples'])}\\n\")\n"
      ],
      "metadata": {
        "colab": {
          "base_uri": "https://localhost:8080/"
        },
        "id": "a8sW2ZDH3Wid",
        "outputId": "0f6cbf45-ecfc-4889-ae7b-0e319768fd6e"
      },
      "execution_count": 55,
      "outputs": [
        {
          "output_type": "stream",
          "name": "stderr",
          "text": [
            "[nltk_data] Downloading package wordnet to /root/nltk_data...\n",
            "[nltk_data]   Package wordnet is already up-to-date!\n",
            "[nltk_data] Downloading package omw-1.4 to /root/nltk_data...\n",
            "[nltk_data]   Package omw-1.4 is already up-to-date!\n"
          ]
        },
        {
          "output_type": "stream",
          "name": "stdout",
          "text": [
            "Định nghĩa 1: a member of the genus Canis (probably descended from the common wolf) that has been domesticated by man since prehistoric times; occurs in many breeds\n",
            "Ví dụ 1: the dog barked all night\n",
            "\n",
            "Định nghĩa 2: a dull unattractive unpleasant girl or woman\n",
            "Ví dụ 2: she got a reputation as a frump, she's a real dog\n",
            "\n",
            "Định nghĩa 3: informal term for a man\n",
            "Ví dụ 3: you lucky dog\n",
            "\n",
            "Định nghĩa 4: someone who is morally reprehensible\n",
            "Ví dụ 4: you dirty dog\n",
            "\n",
            "Định nghĩa 5: a smooth-textured sausage of minced beef or pork usually smoked; often served on a bread roll\n",
            "Ví dụ 5: Không có ví dụ\n",
            "\n",
            "Định nghĩa 6: a hinged catch that fits into a notch of a ratchet to move a wheel forward or prevent it from moving backward\n",
            "Ví dụ 6: Không có ví dụ\n",
            "\n",
            "Định nghĩa 7: metal supports for logs in a fireplace\n",
            "Ví dụ 7: the andirons were too hot to touch\n",
            "\n",
            "Định nghĩa 8: go after with the intent to catch\n",
            "Ví dụ 8: The policeman chased the mugger down the alley, the dog chased the rabbit\n",
            "\n"
          ]
        }
      ]
    },
    {
      "cell_type": "markdown",
      "source": [
        "Bai 7"
      ],
      "metadata": {
        "id": "1hATu_2T22z1"
      }
    },
    {
      "cell_type": "code",
      "source": [
        "import nltk\n",
        "from nltk.corpus import wordnet\n",
        "\n",
        "# Tải bộ dữ liệu cần thiết từ NLTK\n",
        "nltk.download('wordnet')\n",
        "nltk.download('omw-1.4')\n",
        "\n",
        "# Hàm để lấy các từ đồng nghĩa và trái nghĩa\n",
        "def get_synonyms_antonyms(word):\n",
        "    # Lấy các synset (tập hợp từ đồng nghĩa) của từ\n",
        "    synsets = wordnet.synsets(word)\n",
        "\n",
        "    # Danh sách để chứa các từ đồng nghĩa và trái nghĩa\n",
        "    synonyms = set()\n",
        "    antonyms = set()\n",
        "\n",
        "    # Lặp qua các synset để tìm từ đồng nghĩa và trái nghĩa\n",
        "    for synset in synsets:\n",
        "        # Tìm các từ đồng nghĩa\n",
        "        for lemma in synset.lemmas():\n",
        "            synonyms.add(lemma.name())\n",
        "\n",
        "            # Tìm các từ trái nghĩa\n",
        "            if lemma.antonyms():\n",
        "                antonyms.add(lemma.antonyms()[0].name())\n",
        "\n",
        "    return synonyms, antonyms\n",
        "\n",
        "# Từ cần tìm các từ đồng nghĩa và trái nghĩa\n",
        "word = \"happy\"\n",
        "\n",
        "# Lấy các từ đồng nghĩa và trái nghĩa\n",
        "synonyms, antonyms = get_synonyms_antonyms(word)\n",
        "\n",
        "# In kết quả\n",
        "print(f\"Từ đồng nghĩa của '{word}':\")\n",
        "print(synonyms)\n",
        "print(f\"Từ trái nghĩa của '{word}':\")\n",
        "print(antonyms)\n"
      ],
      "metadata": {
        "colab": {
          "base_uri": "https://localhost:8080/"
        },
        "id": "g_Bua2sO3bym",
        "outputId": "5bfec82b-f2a0-4df3-d463-03a666364e90"
      },
      "execution_count": 56,
      "outputs": [
        {
          "output_type": "stream",
          "name": "stdout",
          "text": [
            "Từ đồng nghĩa của 'happy':\n",
            "{'happy', 'glad', 'well-chosen', 'felicitous'}\n",
            "Từ trái nghĩa của 'happy':\n",
            "{'unhappy'}\n"
          ]
        },
        {
          "output_type": "stream",
          "name": "stderr",
          "text": [
            "[nltk_data] Downloading package wordnet to /root/nltk_data...\n",
            "[nltk_data]   Package wordnet is already up-to-date!\n",
            "[nltk_data] Downloading package omw-1.4 to /root/nltk_data...\n",
            "[nltk_data]   Package omw-1.4 is already up-to-date!\n"
          ]
        }
      ]
    },
    {
      "cell_type": "markdown",
      "source": [
        "Bai 8"
      ],
      "metadata": {
        "id": "UV9qx6ZV22e9"
      }
    },
    {
      "cell_type": "code",
      "source": [
        "import nltk\n",
        "nltk.download('averaged_perceptron_tagger')\n"
      ],
      "metadata": {
        "colab": {
          "base_uri": "https://localhost:8080/"
        },
        "id": "wO7NaZJA4B4l",
        "outputId": "f39f3caf-3eea-4560-b236-6378001ec277"
      },
      "execution_count": 58,
      "outputs": [
        {
          "output_type": "stream",
          "name": "stderr",
          "text": [
            "[nltk_data] Downloading package averaged_perceptron_tagger to\n",
            "[nltk_data]     /root/nltk_data...\n",
            "[nltk_data]   Package averaged_perceptron_tagger is already up-to-\n",
            "[nltk_data]       date!\n"
          ]
        },
        {
          "output_type": "execute_result",
          "data": {
            "text/plain": [
              "True"
            ]
          },
          "metadata": {},
          "execution_count": 58
        }
      ]
    },
    {
      "cell_type": "markdown",
      "source": [
        "Bai 9"
      ],
      "metadata": {
        "id": "fa3i0O6822WV"
      }
    },
    {
      "cell_type": "code",
      "source": [
        "import nltk\n",
        "from nltk.corpus import wordnet\n",
        "\n",
        "nltk.download('wordnet')\n",
        "\n",
        "noun1 = wordnet.synset(\"dog.n.01\")\n",
        "noun2 = wordnet.synset(\"cat.n.01\")\n",
        "\n",
        "similarity = noun1.wup_similarity(noun2)\n",
        "print(f\"Similarity between {noun1} and {noun2}: {similarity}\")"
      ],
      "metadata": {
        "colab": {
          "base_uri": "https://localhost:8080/"
        },
        "id": "O7LkCUD15jQ-",
        "outputId": "89cfeebe-3062-485b-ca6a-36a15f616219"
      },
      "execution_count": 66,
      "outputs": [
        {
          "output_type": "stream",
          "name": "stdout",
          "text": [
            "Similarity between Synset('dog.n.01') and Synset('cat.n.01'): 0.8571428571428571\n"
          ]
        },
        {
          "output_type": "stream",
          "name": "stderr",
          "text": [
            "[nltk_data] Downloading package wordnet to /root/nltk_data...\n",
            "[nltk_data]   Package wordnet is already up-to-date!\n"
          ]
        }
      ]
    },
    {
      "cell_type": "markdown",
      "source": [
        "Bai 10"
      ],
      "metadata": {
        "id": "xQdGHDzL22LV"
      }
    },
    {
      "cell_type": "code",
      "source": [
        "import nltk\n",
        "from nltk.corpus import wordnet\n",
        "\n",
        "nltk.download('wordnet')\n",
        "\n",
        "verb1 = wordnet.synset(\"run.v.01\")\n",
        "verb2 = wordnet.synset(\"walk.v.01\")\n",
        "\n",
        "similarity = verb1.wup_similarity(verb2)\n",
        "print(f\"Similarity between {verb1} and {verb2}: {similarity}\")"
      ],
      "metadata": {
        "colab": {
          "base_uri": "https://localhost:8080/"
        },
        "id": "Uh8Qw9CT6YyW",
        "outputId": "ec63c2d6-08ca-47b2-cd8b-6c83713db2d0"
      },
      "execution_count": 67,
      "outputs": [
        {
          "output_type": "stream",
          "name": "stdout",
          "text": [
            "Similarity between Synset('run.v.01') and Synset('walk.v.01'): 0.2857142857142857\n"
          ]
        },
        {
          "output_type": "stream",
          "name": "stderr",
          "text": [
            "[nltk_data] Downloading package wordnet to /root/nltk_data...\n",
            "[nltk_data]   Package wordnet is already up-to-date!\n"
          ]
        }
      ]
    },
    {
      "cell_type": "markdown",
      "source": [
        "Bai 11"
      ],
      "metadata": {
        "id": "_g1gvcez6lH2"
      }
    },
    {
      "cell_type": "code",
      "source": [
        "import nltk\n",
        "from nltk.corpus import names\n",
        "\n",
        "nltk.download('names')\n",
        "\n",
        "male_names = names.words('male.txt')\n",
        "female_names = names.words('female.txt')\n",
        "\n",
        "print(f\"Number of male names: {len(male_names)}\")\n",
        "print(f\"Number of female names: {len(female_names)}\")\n",
        "\n",
        "print(\"First 10 male names:\", male_names[:10])\n",
        "print(\"First 10 female names:\", female_names[:10])"
      ],
      "metadata": {
        "colab": {
          "base_uri": "https://localhost:8080/"
        },
        "id": "CGSzRXgN6mSu",
        "outputId": "b8e18807-5f33-4804-94cc-ed8255df991c"
      },
      "execution_count": 68,
      "outputs": [
        {
          "output_type": "stream",
          "name": "stdout",
          "text": [
            "Number of male names: 2943\n",
            "Number of female names: 5001\n",
            "First 10 male names: ['Aamir', 'Aaron', 'Abbey', 'Abbie', 'Abbot', 'Abbott', 'Abby', 'Abdel', 'Abdul', 'Abdulkarim']\n",
            "First 10 female names: ['Abagael', 'Abagail', 'Abbe', 'Abbey', 'Abbi', 'Abbie', 'Abby', 'Abigael', 'Abigail', 'Abigale']\n"
          ]
        },
        {
          "output_type": "stream",
          "name": "stderr",
          "text": [
            "[nltk_data] Downloading package names to /root/nltk_data...\n",
            "[nltk_data]   Package names is already up-to-date!\n"
          ]
        }
      ]
    },
    {
      "cell_type": "markdown",
      "source": [
        "Bai 12"
      ],
      "metadata": {
        "id": "orFRCf3g6oB-"
      }
    },
    {
      "cell_type": "code",
      "source": [
        "import nltk\n",
        "import random\n",
        "from nltk.corpus import names\n",
        "\n",
        "nltk.download('names')\n",
        "\n",
        "male_names = [(name, 'male') for name in names.words('male.txt')]\n",
        "female_names = [(name, 'female') for name in names.words('female.txt')]\n",
        "\n",
        "# Gộp và xáo trộn danh sách\n",
        "combined_names = male_names + female_names\n",
        "random.shuffle(combined_names)\n",
        "\n",
        "print(\"15 random names:\")\n",
        "print(combined_names[:15])"
      ],
      "metadata": {
        "colab": {
          "base_uri": "https://localhost:8080/"
        },
        "id": "PlkGxbCP6oqW",
        "outputId": "32a1f3fa-b8e6-411d-be0a-212718a6f379"
      },
      "execution_count": 69,
      "outputs": [
        {
          "output_type": "stream",
          "name": "stdout",
          "text": [
            "15 random names:\n",
            "[('Vachel', 'male'), ('Sylvie', 'female'), ('Shanna', 'female'), ('Reid', 'male'), ('Melvin', 'male'), ('Prasad', 'male'), ('Aurore', 'female'), ('Nessa', 'female'), ('Raimund', 'male'), ('Torey', 'female'), ('Clarine', 'female'), ('Doralynn', 'female'), ('Kirsti', 'female'), ('Ford', 'male'), ('Karlee', 'female')]\n"
          ]
        },
        {
          "output_type": "stream",
          "name": "stderr",
          "text": [
            "[nltk_data] Downloading package names to /root/nltk_data...\n",
            "[nltk_data]   Package names is already up-to-date!\n"
          ]
        }
      ]
    },
    {
      "cell_type": "markdown",
      "source": [
        "Bai 13"
      ],
      "metadata": {
        "id": "MliRd1eM6n_u"
      }
    },
    {
      "cell_type": "code",
      "source": [
        "import nltk\n",
        "from nltk.corpus import names\n",
        "\n",
        "nltk.download('names')\n",
        "\n",
        "def extract_features(name):\n",
        "    return name[-1]  # Lấy ký tự cuối cùng của tên\n",
        "\n",
        "male_names = names.words('male.txt')\n",
        "female_names = names.words('female.txt')\n",
        "\n",
        "features = [(extract_features(name), 'male') for name in male_names] + \\\n",
        "           [(extract_features(name), 'female') for name in female_names]\n",
        "\n",
        "print(\"First 10 extracted features:\", features[:10])"
      ],
      "metadata": {
        "colab": {
          "base_uri": "https://localhost:8080/"
        },
        "id": "peYNTPRe6xa2",
        "outputId": "e77c5793-8cd7-463c-ba9e-f9bf236de759"
      },
      "execution_count": 70,
      "outputs": [
        {
          "output_type": "stream",
          "name": "stdout",
          "text": [
            "First 10 extracted features: [('r', 'male'), ('n', 'male'), ('y', 'male'), ('e', 'male'), ('t', 'male'), ('t', 'male'), ('y', 'male'), ('l', 'male'), ('l', 'male'), ('m', 'male')]\n"
          ]
        },
        {
          "output_type": "stream",
          "name": "stderr",
          "text": [
            "[nltk_data] Downloading package names to /root/nltk_data...\n",
            "[nltk_data]   Package names is already up-to-date!\n"
          ]
        }
      ]
    }
  ],
  "metadata": {
    "kernelspec": {
      "display_name": "Python 3",
      "language": "python",
      "name": "python3"
    },
    "language_info": {
      "codemirror_mode": {
        "name": "ipython",
        "version": 3
      },
      "file_extension": ".py",
      "mimetype": "text/x-python",
      "name": "python",
      "nbconvert_exporter": "python",
      "pygments_lexer": "ipython3",
      "version": "3.9.3"
    },
    "orig_nbformat": 4,
    "vscode": {
      "interpreter": {
        "hash": "11938c6bc6919ae2720b4d5011047913343b08a43b18698fd82dedb0d4417594"
      }
    },
    "colab": {
      "provenance": []
    }
  },
  "nbformat": 4,
  "nbformat_minor": 0
}